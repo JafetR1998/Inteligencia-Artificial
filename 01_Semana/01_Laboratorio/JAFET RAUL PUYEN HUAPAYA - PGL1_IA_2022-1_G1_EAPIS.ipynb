{
 "cells": [
  {
   "cell_type": "markdown",
   "metadata": {},
   "source": [
    "# Práctica Guiada de Laboratorio 1 - Inteligencia Artificial G1 (EAPIS) 2022-1"
   ]
  },
  {
   "cell_type": "markdown",
   "metadata": {},
   "source": [
    "### Prof. Rolando A. Maguiña Pérez"
   ]
  },
  {
   "cell_type": "markdown",
   "metadata": {},
   "source": [
    "## Introducción"
   ]
  },
  {
   "cell_type": "markdown",
   "metadata": {},
   "source": [
    "En las sesiones de laboratorio del curso se utilizará el lenguaje de programación de libre distribución denominado Python junto con sus bibliotecas tales como NumPy, Pandas, entre otras.\n",
    "\n",
    "En la sesión del 09 de Mayo del 2022 se usará únicamente el core del lenguaje Python. Posteriormente se usarán las bibliotecas llamada Numpy y Matplotlib, las cuales en conjunto replican en buena medida las capacidades de procesamiento de matrices de la plataforma computacional Matlab.  \n",
    "\n",
    "En esta práctica, inicialmente se describirá sucintamente la instalación de la distribución llamada Anaconda, visando el uso de su componente llamado Jupyter Notebook (este documento), luego se presentarán los fundamentos del lenguaje a través de varios cuadernos computacionales. Finalmente, se plantearán varios ejercicios a fin de corroborar el aprendizaje de los conceptos básicos del lenguaje. "
   ]
  },
  {
   "cell_type": "markdown",
   "metadata": {},
   "source": [
    "## Instalación de Python y la distribución Anaconda"
   ]
  },
  {
   "cell_type": "markdown",
   "metadata": {},
   "source": [
    "Para instalar Python se debe descargar el instalador desde el URL: https://www.anaconda.com/products/distribution; para ello dar clic en botón 'Download' Python 3.9 64 Bit. Enseguida seguir el procedimiento rutinario de instalación de programas bajo la plataforma Windows, es decir, doble clic en el instalador, luego seguir las instrucciones que salen en pantalla.\n",
    "\n",
    "A continuación se describen los pasos para instalar la distribución Anaconda:\n",
    "1. Descargar el instalador de Anaconda,  según lo indicado \n",
    "2. Siga las instrucciones que aparecen en pantalla durante la instalación, seleccionando los valores por defecto cuando sea requerido; tener cuidado de verificar la casilla 'Add Anaconda to my PATH environment variable'.\n",
    "3. Desde Anaconda Navigator, donde se pueden lanzar las apps: Spyder, Jupyter Notebook, Jupyter QTConsole e IPython, lanzar el Jupyter Notebook dando clic en el icono 'Launch' respectivo.\n"
   ]
  },
  {
   "cell_type": "markdown",
   "metadata": {},
   "source": [
    "##  Python"
   ]
  },
  {
   "cell_type": "markdown",
   "metadata": {},
   "source": [
    "### Fundamentos del lenguaje"
   ]
  },
  {
   "cell_type": "markdown",
   "metadata": {},
   "source": [
    "Revisar en el mismo orden los cuadernos computacionales denominados Leccion 1, Leccion 2, Leccion 3, Leccion 4 y Leccion 5."
   ]
  },
  {
   "cell_type": "markdown",
   "metadata": {},
   "source": [
    "### Ejercicios"
   ]
  },
  {
   "cell_type": "markdown",
   "metadata": {},
   "source": [
    "Resolver los ejercicios planteados en el cuaderrno computacional respectivo. Las respectivas soluciones se registrarán en el mismo cuaderno"
   ]
  },
  {
   "cell_type": "markdown",
   "metadata": {},
   "source": [
    "### Instrucciones para el envío de la solución"
   ]
  },
  {
   "cell_type": "markdown",
   "metadata": {},
   "source": [
    "La solución de la \"Práctica Guiada de Laboratorio 1 - IA G1\" podrá enviarse como respuesta a la tarea del mismo nombre publicada en la clase de Classroom, hasta las 11:00 h del Viernes 13 de Mayo del 2022, en un archivo con extensión .ipynb. \n",
    "\n",
    "El documento deberá tener las sgtes características:\n",
    "- Nombre del archivo: PGL1_IA_G1_nombre-apellidos.ipynb.\n",
    "- Todas las preguntas de la Práctica deben responderse en este mismo cuaderno computacional; la solución a cada pregunta debe registrarse en una celda debajo del plnteamiento de la misma, mencionando explícitamente como subtítulo: \"Solución del ejercicio n\", donde \"n\" corresponde al número del ejercicio."
   ]
  }
 ],
 "metadata": {
  "kernelspec": {
   "display_name": "Python 3 (ipykernel)",
   "language": "python",
   "name": "python3"
  },
  "language_info": {
   "codemirror_mode": {
    "name": "ipython",
    "version": 3
   },
   "file_extension": ".py",
   "mimetype": "text/x-python",
   "name": "python",
   "nbconvert_exporter": "python",
   "pygments_lexer": "ipython3",
   "version": "3.10.5"
  }
 },
 "nbformat": 4,
 "nbformat_minor": 4
}
