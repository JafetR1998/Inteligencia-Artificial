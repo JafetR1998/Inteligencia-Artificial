{
 "cells": [
  {
   "cell_type": "markdown",
   "metadata": {},
   "source": [
    "# Práctica Calificada 1 - Inteligencia Artificial G1 (EAPIS) 2022-1 "
   ]
  },
  {
   "cell_type": "markdown",
   "metadata": {},
   "source": [
    "### Prof. Rolando Alberto Maguiña Pérez"
   ]
  },
  {
   "cell_type": "markdown",
   "metadata": {},
   "source": [
    "# Listas, Diccionarios, if y Bucles en Python"
   ]
  },
  {
   "cell_type": "markdown",
   "metadata": {},
   "source": [
    "## Introducción"
   ]
  },
  {
   "cell_type": "markdown",
   "metadata": {},
   "source": [
    "Como sabemos, en las sesiones de laboratorio del curso se utilizará el lenguaje de programación de libre distribución denominado Python junto con sus bibliotecas tales como NumPy, Matplotlib, entre otras.\n",
    "\n",
    "En esta sesión del 23 de Mayo del 2021 se abordan algunos temas sobre Estructuras de Datos, las cuales son fundamentales en el contexto de la programación. Teniendo organizados los datos, se pueden aplicar diferentes operaciones.\n",
    "\n",
    "Se estudian sucintamente las estructuras condicionales, las cuales tienen ciertas particularidades que la distinguen de otros lenguajes. Asimismo, se estudian también sucintamente las estructuras para bucles en Python.\n",
    "\n",
    "En la parte final de esta Práctica se plantean algunos ejercicios los cuales deberán ser resueltos dentro del plazo pautado. Las respectivas soluciones deberán ser consignadas en este mismo documento."
   ]
  },
  {
   "cell_type": "markdown",
   "metadata": {},
   "source": [
    "## Objetivos Específicos "
   ]
  },
  {
   "cell_type": "markdown",
   "metadata": {},
   "source": [
    "- Implementar Listas y Diccionarios en Python.\n",
    "- Identificar las operaciones sobre Listas y Diccionarios.\n",
    "- Crear aplicaciones utilizando esta herramienta, los cuadernos computacionales"
   ]
  },
  {
   "cell_type": "markdown",
   "metadata": {},
   "source": [
    "##  Material y Equipos"
   ]
  },
  {
   "cell_type": "markdown",
   "metadata": {},
   "source": [
    "- Guía de laboratorio N° 2 (este documento).\n",
    "- Computadora con, al menos Python 3.6 y distribución Anaconda.\n",
    "- Conexión a INTERNET."
   ]
  },
  {
   "cell_type": "markdown",
   "metadata": {},
   "source": [
    "## Fundamentos"
   ]
  },
  {
   "cell_type": "markdown",
   "metadata": {},
   "source": [
    "En el desarrollo de aplicaciones informáticas, muchas veces surge la necesidad de guardar varias cosas en una misma variable, como por ejemplo una lista de la compra. ¿Cómo hacer listas en Python?\n",
    "Hay varios tipos de listas en Python, en este caso se van a estudiar dos tipos: listas y diccionarios."
   ]
  },
  {
   "cell_type": "markdown",
   "metadata": {},
   "source": [
    "### Listas en Python"
   ]
  },
  {
   "cell_type": "markdown",
   "metadata": {},
   "source": [
    "Son listados de datos en los que hay un orden, de modo que se tiene en cuenta la posición en la que está cada elemento. Debemos tener en cuenta que el primer elemento de una lista corresponde a la posición 0, y no a la posición 1. En las listas se pueden modificar sus elementos y puede haber elementos duplicados. Se crean poniendo sus elementos entre corchetes [a, b, c, >>>].\n",
    "\n",
    "Las operaciones habituales:"
   ]
  },
  {
   "cell_type": "markdown",
   "metadata": {},
   "source": [
    "- Lista[i]: Devuelve el elemento que está en la posición “i” de la lista. \n",
    "- Lista.pop(i). Devuelve el elemento en la posición “i” de una lista y luego la borra.  \n",
    "- Lista.append(elemento). Añade elemento al final de la lista. \n",
    "- Lista.insert(i,elemento). Inserta elemento en la posición “i”. \n",
    "- Lista.extend(Lista2). Fusiona Lista con Lista2. \n",
    "- Lista.remove(elemento). Elimina la primera vez que aparece el elemento."
   ]
  },
  {
   "cell_type": "markdown",
   "metadata": {},
   "source": [
    "### Diccionarios en Python"
   ]
  },
  {
   "cell_type": "markdown",
   "metadata": {},
   "source": [
    "Como sucede con un diccionario convencional, un diccionario en Python es una palabra que tiene asociado un significado, algún elemento. Al contrario de lo que sucedía en las listas, los diccionarios *no tienen orden*."
   ]
  },
  {
   "cell_type": "markdown",
   "metadata": {},
   "source": [
    "Se crean poniendo sus elementos entre llaves {“a”: “Argentina”, “b”: Bolivia, >>>}. Se denominan *keys* a las palabras y *values* a las definiciones. Lógicamente no puede haber dos keys iguales, aunque si dos values iguales.\n",
    "\n",
    "Las operaciones habituales:"
   ]
  },
  {
   "cell_type": "markdown",
   "metadata": {},
   "source": [
    "- Diccionario.get(‘key’). Devuelve el valor que corresponde con la key introducida.\n",
    "- Diccionario.pop(‘key’). Devuelve el valor que corresponde con la key introducida, luego borra la key y el valor.\n",
    "- “key” in Diccionario. Devuelve verdadero (True) o falso (False) si la **key** (no los valores) existe o no en el diccionario.\n",
    "- “definicion” in Diccionario.values(). Devuelve verdadero (True) o falso (False) si **definicion** existe en el diccionario (no como key)."
   ]
  },
  {
   "cell_type": "markdown",
   "metadata": {},
   "source": [
    "### Estructuras de control en Python"
   ]
  },
  {
   "cell_type": "markdown",
   "metadata": {},
   "source": [
    "#### Identación en Python"
   ]
  },
  {
   "cell_type": "markdown",
   "metadata": {},
   "source": [
    "Esta es una de las principales características Python y, al mismo tiempo, es fuente de una buena parte de los errores que se producen. En Python, las líneas de código que están dentro de un mismo bloque deben tener el mismo número de espacios a la izquierda de cada línea. Veamos el sgte ejemplo:\n",
    "\n",
    "- Vehículo\n",
    "    - Marca\n",
    "        - Toyota.\n",
    "        - Nissan."
   ]
  },
  {
   "cell_type": "markdown",
   "metadata": {},
   "source": [
    "En Python, se recomienda usar **bloques de cuatro espacios**, aunque podría usarse otro número de espacios a condición de mantener dicho número en todo el programa. Se recomienda no usar los tabuladores aunque también podrían usarse."
   ]
  },
  {
   "cell_type": "markdown",
   "metadata": {},
   "source": [
    "#### if en Python"
   ]
  },
  {
   "cell_type": "markdown",
   "metadata": {},
   "source": [
    "En todo desarrollo de programas, se presenta una situación de bifurcación, es decir, en función del cumplimiento o no de una determinada condición, se realizan o no una serie de acciones."
   ]
  },
  {
   "cell_type": "markdown",
   "metadata": {},
   "source": [
    "Igual que en otros lenguajes de alto nivel, en Python se hace con la instrucción **if** para la condicional principal, y los sgtes opcionales:\n",
    "- **elif** (condiciones adicionales, se pueden poner tantas como se desee) \n",
    "- **else** (si no se ha cumplido ninguna de las anteriores, sólo se puede poner una vez y al final)."
   ]
  },
  {
   "cell_type": "markdown",
   "metadata": {},
   "source": [
    "EJM."
   ]
  },
  {
   "cell_type": "code",
   "execution_count": 6,
   "metadata": {},
   "outputs": [
    {
     "name": "stdout",
     "output_type": "stream",
     "text": [
      "Ingrese la nota: 10.5\n",
      "A las justas, pero lo logramos!!\n"
     ]
    }
   ],
   "source": [
    "#\n",
    "Nota = float(input(\"Ingrese la nota: \"))\n",
    "if Nota == 10.5:\n",
    "    print(\"A las justas, pero lo logramos!!\")\n",
    "elif Nota < 10.5:\n",
    "    print(\"Será para la próxima!!\")\n",
    "else:\n",
    "    print(\"Wena!!\")"
   ]
  },
  {
   "cell_type": "markdown",
   "metadata": {},
   "source": [
    "Notar que las líneas que están debajo de cada if o elif en el ejemplo, tienen el mismo número de espacios a la izquierda."
   ]
  },
  {
   "cell_type": "markdown",
   "metadata": {},
   "source": [
    "#### Condiciones en Python"
   ]
  },
  {
   "cell_type": "markdown",
   "metadata": {},
   "source": [
    "Las condiciones que se usan con frecuencia son:"
   ]
  },
  {
   "cell_type": "markdown",
   "metadata": {},
   "source": [
    "- a == b\n",
    "- a < b\n",
    "- a > b\n",
    "- not (niega la condición que le sigue)\n",
    "- and (junta dos condiciones, tienen que cumplirse ambas)\n",
    "- or (junta dos condiciones y tiene que cumplirse alguna de las dos)"
   ]
  },
  {
   "cell_type": "markdown",
   "metadata": {},
   "source": [
    "#### while en Python"
   ]
  },
  {
   "cell_type": "markdown",
   "metadata": {},
   "source": [
    "En ocasiones, tenemos que repetir varias veces una determinada acción hasta que se cumpla una condición que permita alcanzar nuestro objetivo. En Python, esto se realiza con el comando **while**.\n",
    "\n",
    "La sintaxis en Python es la siguiente:"
   ]
  },
  {
   "cell_type": "code",
   "execution_count": 7,
   "metadata": {},
   "outputs": [
    {
     "name": "stdout",
     "output_type": "stream",
     "text": [
      "Contador = 1\n",
      "Contador = 2\n",
      "Contador = 3\n",
      "Contador = 4\n",
      "Contador = 5\n",
      "Contador = 6\n",
      "Contador = 7\n",
      "Contador = 8\n",
      "Contador = 9\n"
     ]
    }
   ],
   "source": [
    "#\n",
    "iter = 1\n",
    "while iter < 10:\n",
    "    print(\"Contador = \" + str(iter))\n",
    "    iter = iter + 1"
   ]
  },
  {
   "cell_type": "markdown",
   "metadata": {},
   "source": [
    "La función **str** en este fragmento de código se utiliza para convertir en cadena lo que se ha capturado como un número y así poder imprimirlo por pantalla.\n",
    "\n",
    "Con los **while**, se debe tener cuidado en no generar un bucle infinito, es decir, un bucle que nunca termina por un error en la programación. En el ejm inmediato anterior, esto hubiese ocurrido si no hubiésemos puesto la línea de código Iteracion=Iteracion+1."
   ]
  },
  {
   "cell_type": "markdown",
   "metadata": {},
   "source": [
    "#### for en Python"
   ]
  },
  {
   "cell_type": "markdown",
   "metadata": {},
   "source": [
    "En ocasiones, análogamente a lo que sucede con los **while**, se tiene que repetir varias veces una determinada acción un determinado número de veces hasta alcanzar nuestro objetivo. En Python esto se realiza con el comando **for**. \n",
    "\n",
    "La sintaxis en Python es la siguiente:"
   ]
  },
  {
   "cell_type": "code",
   "execution_count": 9,
   "metadata": {},
   "outputs": [
    {
     "name": "stdout",
     "output_type": "stream",
     "text": [
      "Iteración = 1\n",
      "Iteración = 2\n",
      "Iteración = 3\n",
      "Iteración = 4\n",
      "Iteración = 5\n",
      "Iteración = 6\n",
      "Iteración = 7\n",
      "Iteración = 8\n",
      "Iteración = 9\n"
     ]
    }
   ],
   "source": [
    "# bucle gor\n",
    "for iter in range(1, 10):\n",
    "    print(\"Iteración = \" + str(iter))"
   ]
  },
  {
   "cell_type": "markdown",
   "metadata": {},
   "source": [
    "En el caso del **for**, no es posible realizar un bucle infinito.\n",
    "\n",
    "Como se puede ver en el ejemplo inmediato anterior, **range** genera una secuencia de números desde 1 hasta 9."
   ]
  },
  {
   "cell_type": "markdown",
   "metadata": {},
   "source": [
    "## Ejemplos de uso de funciones sobre listas"
   ]
  },
  {
   "cell_type": "code",
   "execution_count": 10,
   "metadata": {},
   "outputs": [
    {
     "name": "stdout",
     "output_type": "stream",
     "text": [
      "['Inteligencia Artificial', 'Sistemas Inteligentes', 'Redes Neuronales', 'Gestion del Conocimiento']\n"
     ]
    }
   ],
   "source": [
    "Asignaturas = [\n",
    "    \"Inteligencia Artificial\",\n",
    "    \"Sistemas Inteligentes\",\n",
    "    \"Redes Neuronales\",\n",
    "    \"Gestion del Conocimiento\",\n",
    "]\n",
    "print(Asignaturas)"
   ]
  },
  {
   "cell_type": "code",
   "execution_count": 19,
   "metadata": {},
   "outputs": [
    {
     "name": "stdout",
     "output_type": "stream",
     "text": [
      "['Bolivia', 'Chile', 'Colombia', 'Ecuador', 'Peru']\n"
     ]
    }
   ],
   "source": [
    "PaisesAndinos = [\"Bolivia\", \"Chile\", \"Colombia\", \"Ecuador\", \"Peru\"]\n",
    "print(PaisesAndinos)"
   ]
  },
  {
   "cell_type": "markdown",
   "metadata": {},
   "source": [
    "Extraeremos el país que se encuentra en la posición 1:"
   ]
  },
  {
   "cell_type": "code",
   "execution_count": 20,
   "metadata": {},
   "outputs": [
    {
     "name": "stdout",
     "output_type": "stream",
     "text": [
      "['Bolivia', 'Colombia', 'Ecuador', 'Peru']\n"
     ]
    }
   ],
   "source": [
    "PaisesAndinos.pop(1)\n",
    "print(PaisesAndinos)"
   ]
  },
  {
   "cell_type": "markdown",
   "metadata": {},
   "source": [
    "Ahora agregamos un país al final de la lista:"
   ]
  },
  {
   "cell_type": "code",
   "execution_count": 22,
   "metadata": {},
   "outputs": [
    {
     "name": "stdout",
     "output_type": "stream",
     "text": [
      "['Bolivia', 'Colombia', 'Ecuador', 'Peru', 'Argentina']\n"
     ]
    }
   ],
   "source": [
    "PaisesAndinos.append(\"Argentina\")\n",
    "print(PaisesAndinos)"
   ]
  },
  {
   "cell_type": "markdown",
   "metadata": {},
   "source": [
    "Ahora eliminamos el elemento de la primera posición:"
   ]
  },
  {
   "cell_type": "code",
   "execution_count": null,
   "metadata": {},
   "outputs": [],
   "source": [
    "del PaisesAndinos[0]\n",
    "print(PaisesAndinos)"
   ]
  },
  {
   "cell_type": "markdown",
   "metadata": {},
   "source": [
    "A continuación, agregamos en la primera posición de la lista un país que habíamos eliminado:"
   ]
  },
  {
   "cell_type": "code",
   "execution_count": 23,
   "metadata": {},
   "outputs": [
    {
     "name": "stdout",
     "output_type": "stream",
     "text": [
      "['Chile', 'Bolivia', 'Colombia', 'Ecuador', 'Peru', 'Argentina']\n"
     ]
    }
   ],
   "source": [
    "PaisesAndinos.insert(0, \"Chile\")\n",
    "print(PaisesAndinos)"
   ]
  },
  {
   "cell_type": "markdown",
   "metadata": {},
   "source": [
    "Unimos ahora las dos listas que se definieron:"
   ]
  },
  {
   "cell_type": "code",
   "execution_count": 25,
   "metadata": {},
   "outputs": [
    {
     "name": "stdout",
     "output_type": "stream",
     "text": [
      "['Chile', 'Bolivia', 'Colombia', 'Ecuador', 'Peru', 'Argentina', 'Inteligencia Artificial', 'Sistemas Inteligentes', 'Redes Neuronales', 'Gestion del Conocimiento']\n"
     ]
    }
   ],
   "source": [
    "PaisesAndinos.extend(Asignaturas)\n",
    "print(PaisesAndinos)"
   ]
  },
  {
   "cell_type": "markdown",
   "metadata": {},
   "source": [
    "Borramos el elemento 'Ecuador' de esta lista:"
   ]
  },
  {
   "cell_type": "code",
   "execution_count": 26,
   "metadata": {},
   "outputs": [
    {
     "name": "stdout",
     "output_type": "stream",
     "text": [
      "['Chile', 'Bolivia', 'Colombia', 'Peru', 'Argentina', 'Inteligencia Artificial', 'Sistemas Inteligentes', 'Redes Neuronales', 'Gestion del Conocimiento']\n"
     ]
    }
   ],
   "source": [
    "PaisesAndinos.remove(\"Ecuador\")\n",
    "print(PaisesAndinos)"
   ]
  },
  {
   "cell_type": "markdown",
   "metadata": {},
   "source": [
    "Otro tipo de lista son las tuplas (tuples en inglés), las cuales no pueden ser modificadas"
   ]
  },
  {
   "cell_type": "markdown",
   "metadata": {},
   "source": [
    "## Diccionarios"
   ]
  },
  {
   "cell_type": "markdown",
   "metadata": {},
   "source": [
    "Definimos un diccionario sobre libros de autores peruanos:"
   ]
  },
  {
   "cell_type": "code",
   "execution_count": 27,
   "metadata": {},
   "outputs": [
    {
     "name": "stdout",
     "output_type": "stream",
     "text": [
      "{'Libro 1': 'La ciudad y los perros', 'Libro 2': 'Todas las sangres', 'Libro 3': 'Un mundo para Julius'}\n"
     ]
    }
   ],
   "source": [
    "Libros = {\n",
    "    \"Libro 1\": \"La ciudad y los perros\",\n",
    "    \"Libro 2\": \"Todas las sangres\",\n",
    "    \"Libro 3\": \"Un mundo para Julius\",\n",
    "}\n",
    "print(Libros)"
   ]
  },
  {
   "cell_type": "markdown",
   "metadata": {},
   "source": [
    "Las funciones principales que se usan con los diccioarios son:"
   ]
  },
  {
   "cell_type": "markdown",
   "metadata": {},
   "source": [
    "\n"
   ]
  },
  {
   "cell_type": "code",
   "execution_count": 30,
   "metadata": {},
   "outputs": [
    {
     "name": "stdout",
     "output_type": "stream",
     "text": [
      "La ciudad y los perros\n"
     ]
    }
   ],
   "source": [
    "# Diccionario.get(key). Devuelve el elemento que se corresponde con la key ingresada.\n",
    "print(Libros.get(\"Libro 1\"))"
   ]
  },
  {
   "cell_type": "code",
   "execution_count": 31,
   "metadata": {},
   "outputs": [
    {
     "name": "stdout",
     "output_type": "stream",
     "text": [
      "True\n"
     ]
    }
   ],
   "source": [
    "# \"key\" in Diccionario. Devuelve verdadero (True) o falso (False) si la key existe en el diccionario.\n",
    "print(\"Libro 2\" in Libros)"
   ]
  },
  {
   "cell_type": "code",
   "execution_count": 33,
   "metadata": {},
   "outputs": [
    {
     "name": "stdout",
     "output_type": "stream",
     "text": [
      "True\n"
     ]
    }
   ],
   "source": [
    "# \"Definicion\" in Diccionario. Devuelve verdadero (True) o falso (False) si la definición existe en el diccionario.\n",
    "print(\"Un mundo para Julius\" in Libros.values())"
   ]
  },
  {
   "cell_type": "code",
   "execution_count": 34,
   "metadata": {},
   "outputs": [
    {
     "name": "stdout",
     "output_type": "stream",
     "text": [
      "La ciudad y los perros\n"
     ]
    }
   ],
   "source": [
    "# Diccionario.pop(\"key\"). Devuelve el valor que corresponde con la key introducida, luego borra la key y el valor\n",
    "print(Libros.pop(\"Libro 1\"))"
   ]
  },
  {
   "cell_type": "code",
   "execution_count": 35,
   "metadata": {},
   "outputs": [
    {
     "name": "stdout",
     "output_type": "stream",
     "text": [
      "{'Libro 2': 'Todas las sangres'}\n"
     ]
    }
   ],
   "source": [
    "# del Diccionario[\"key\"]. Elimina el valor (y la key) asociado a la key indicada\n",
    "del Libros[\"Libro 3\"]\n",
    "print(Libros)"
   ]
  },
  {
   "cell_type": "markdown",
   "metadata": {},
   "source": [
    "## Ejercicios"
   ]
  },
  {
   "cell_type": "markdown",
   "metadata": {},
   "source": [
    "### Ejercicio1"
   ]
  },
  {
   "cell_type": "markdown",
   "metadata": {},
   "source": [
    "Colocar en una lista los valores enteros entre 1 y 100. Usa el bucle *while* para tal efecto."
   ]
  },
  {
   "cell_type": "markdown",
   "metadata": {},
   "source": [
    "### Ejercicio 2"
   ]
  },
  {
   "cell_type": "markdown",
   "metadata": {},
   "source": [
    "Resuelva  el ejercicio anterior de modo que realice la misma tarea, pero ahora haciendo uso del bucle *for*."
   ]
  },
  {
   "cell_type": "markdown",
   "metadata": {},
   "source": [
    "### Ejercicio 3"
   ]
  },
  {
   "cell_type": "markdown",
   "metadata": {},
   "source": [
    "Pedir un número desde teclado y guardar en una lista la tabla de multiplicar del valor ingresado (la tabla debe llegar hasta el número 12). En la resolución de este ejercicio se debe usar necesariamente el bucle *for*."
   ]
  },
  {
   "cell_type": "markdown",
   "metadata": {},
   "source": [
    "### Ejercicio 4"
   ]
  },
  {
   "cell_type": "markdown",
   "metadata": {},
   "source": [
    "Resuelva  el ejercicio anterior de modo que realice el mismo proceso, pero utilizando ahora un bucle *while*."
   ]
  },
  {
   "cell_type": "markdown",
   "metadata": {},
   "source": [
    "### Ejercicio 5"
   ]
  },
  {
   "cell_type": "markdown",
   "metadata": {},
   "source": [
    "Crearemos un diccionario, enseguida se plantean algunas preguntas:"
   ]
  },
  {
   "cell_type": "code",
   "execution_count": 1,
   "metadata": {},
   "outputs": [],
   "source": [
    "Datos_Personales = {\n",
    "    \"Nombres\": \"Juan Carlos\",\n",
    "    \"Apellidos\": \"Gonzales Pineda\",\n",
    "    \"DNI\": \"06182733\",\n",
    "    \"Fecha_Nacimiento\": \"12/05/1990\",\n",
    "    \"Lugar_Nacimiento\": \"Lima\",\n",
    "    \"Nacionalidad\": \"Peruana\",\n",
    "    \"Estado_Civil\": \"Complicado\",\n",
    "}"
   ]
  },
  {
   "cell_type": "markdown",
   "metadata": {},
   "source": [
    "- 5.1 Escribir las líneas de código que permitan obtener las claves del diccionario recientemente creado.\n",
    "- 5.2 Escribir las líneas de código que permitan obtener los valores del diccionario recientemente creado.\n",
    "- 5.3 Escribir la línea de código que permitan obtener los elementos del diccionario recientemente creado.\n",
    "- 5.4 Escribir la línea de código que permitan obtener lo sgte:\n",
    "Datos del participante\n",
    "======================\n",
    "DNI:  06182733\n",
    "Nombre Completo: Juan Carlos Gonzales Pineda"
   ]
  },
  {
   "cell_type": "markdown",
   "metadata": {},
   "source": [
    "### Instrucciones para el envío de la solución"
   ]
  },
  {
   "cell_type": "markdown",
   "metadata": {},
   "source": [
    "La solución de la \"Práctica Calificada de Laboratorio 1 - IA G1\" podrá enviarse como respuesta a la tarea del mismo nombre publicada en la clase de Classroom creada para el curso, hasta las 20:00 h de hoy Lunes 23 de Mayo del 2022, en un archivo con extensión .ipynb. \n",
    "\n",
    "El documento deberá tener las sgtes características:\n",
    "- Nombre del archivo: solPCL1_IA_G1_nombre-apellidos.ipynb.\n",
    "- Todas las preguntas de la Práctica deben responderse en este mismo cuaderno computacional; la solución a cada pregunta debe registrarse en una celda debajo del plnteamiento de la misma, mencionando explícitamente como subtítulo: \"Solución del ejercicio n\", donde \"n\" corresponde al número del ejercicio."
   ]
  }
 ],
 "metadata": {
  "kernelspec": {
   "display_name": "Python 3 (ipykernel)",
   "language": "python",
   "name": "python3"
  },
  "language_info": {
   "codemirror_mode": {
    "name": "ipython",
    "version": 3
   },
   "file_extension": ".py",
   "mimetype": "text/x-python",
   "name": "python",
   "nbconvert_exporter": "python",
   "pygments_lexer": "ipython3",
   "version": "3.10.5"
  }
 },
 "nbformat": 4,
 "nbformat_minor": 4
}
