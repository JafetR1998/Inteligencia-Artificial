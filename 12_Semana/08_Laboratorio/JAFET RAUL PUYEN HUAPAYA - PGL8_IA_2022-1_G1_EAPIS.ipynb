{
 "cells": [
  {
   "cell_type": "markdown",
   "id": "586e9cb1",
   "metadata": {},
   "source": [
    "# Práctica Guiada de Laboratorio 8 - Inteligencia Artificial G1 (EAPIS) 2022-1"
   ]
  },
  {
   "cell_type": "markdown",
   "id": "6041dcaf",
   "metadata": {},
   "source": [
    "### Prof. Rolando Alberto Maguiña Pérez"
   ]
  },
  {
   "cell_type": "markdown",
   "id": "b329fd13",
   "metadata": {},
   "source": [
    "## Introducción"
   ]
  },
  {
   "cell_type": "markdown",
   "id": "2bc00ca0",
   "metadata": {},
   "source": [
    "En esta Práctica Guiada de Laboratorio, a realizarse el Lunes 25 de Julio del presente, se resolverá el \"Problema de la Propina\", denominado así porque consiste en contruir un sistema de inferencia difusa (SID) que calcule la propina que deberíamos dar en un restaurante. \n",
    "\n",
    "Se pretende ilustrar la capacidad de la lógica difusa para generar un comportamiento complejo a partir de un conjunto compacto e intuitivo de reglas provenientes de un experto en el dominio."
   ]
  },
  {
   "cell_type": "markdown",
   "id": "cc8ba269",
   "metadata": {},
   "source": [
    "## Objetivos"
   ]
  },
  {
   "cell_type": "markdown",
   "id": "b5e8fa1c",
   "metadata": {},
   "source": [
    "- Presentar los conceptos básicos de un sistema de inferencia difusa. \n",
    "- Construir un sistema de inferencia difusa (sistema experto basado en Lógica Difusa) para resolver el \"Problema de la Propina\"."
   ]
  },
  {
   "cell_type": "markdown",
   "id": "9ea7e8d1",
   "metadata": {},
   "source": [
    "## Fundamentos"
   ]
  },
  {
   "cell_type": "markdown",
   "id": "b265b8ad",
   "metadata": {},
   "source": [
    "### Lógica Difusa"
   ]
  },
  {
   "cell_type": "markdown",
   "id": "133bb899",
   "metadata": {},
   "source": [
    "La **Lógica Difusa** es una metodología que se basa en la idea de que la \"veracidad\" de una afirmación se puede expresar en un continuo. Esto quiere decir que una afirmación puede no ser *verdadero* o *falso*, sino *parcialmente verdadero* o *parcialmente falso*."
   ]
  },
  {
   "cell_type": "markdown",
   "id": "f1aceae9",
   "metadata": {},
   "source": [
    "Una **variable difusa** tiene un **valor nítido** que toma algún número en un dominio predefinido (en términos de lógica difusa, llamado **universo** o **universo de discurso**). El valor nítido es cómo pensamos en la variable usando matemáticas normales. P.e., si una variable difusa fuera cuánto darle de propina a alguien, su universo sería del 0 al 25% y podría tomar un valor nítido del 15%."
   ]
  },
  {
   "cell_type": "markdown",
   "id": "19f3b1f9",
   "metadata": {},
   "source": [
    "Una variable difusa también tiene varios **términos** que se utilizan para describir la variable. Los términos tomados en conjunto son el **conjunto difuso** que se puede utilizar para describir el \"valor difuso\" de una variable difusa. Estos términos suelen ser adjetivos como \"pobre\", \"mediocre\" y \"bueno\". Cada término tiene una **función de pertenencia** que define cómo un valor nítido se relaciona con el término en una escala de 0 a 1. En esencia, describe \"qué tan bueno\" es algo. "
   ]
  },
  {
   "cell_type": "markdown",
   "id": "0173020a",
   "metadata": {},
   "source": [
    "Por tanto, volviendo al ejemplo de la propina, una \"buena propina\" podría tener una función de membresía que tenga valores distintos de cero entre el 15% y el 25%, siendo el 25% una \"propina completamente buena\" (es decir, su membresía es 1.0) y 15% es una \"propina apenas buena\" (es decir, su pertenencia es 0.1)."
   ]
  },
  {
   "cell_type": "markdown",
   "id": "ec1aa755",
   "metadata": {},
   "source": [
    "Un **sistema de inferencia difuso** vincula variables difusas mediante un conjunto de **reglas**. Estas reglas son simplemente asociaciones que describen cómo una o más variables difusas se relacionan con otra. Dichas reglas se expresan en términos de una declaración SI-ENTONCES; la parte SI se llama **antecedente** y la parte ENTONCES es el **consecuente**. En el ejemplo de las propinas, una regla podría ser \"SI el servicio fue bueno ENTONCES, la propina será buena\". Los procedimientos matemáticos sobre cómo se usa una regla para calcular el valor del consecuente en función del valor del antecedente se tratarán en subsiguientes prácticas guiadas."
   ]
  },
  {
   "cell_type": "code",
   "execution_count": 1,
   "id": "c3beda2b",
   "metadata": {},
   "outputs": [],
   "source": [
    "import numpy as np\n",
    "import skfuzzy as fuzz"
   ]
  },
  {
   "cell_type": "markdown",
   "id": "49f4d141",
   "metadata": {},
   "source": [
    "## El Problema de la Propina "
   ]
  },
  {
   "cell_type": "markdown",
   "id": "8eec661b",
   "metadata": {},
   "source": [
    "El \"problema de la propina\" es uno de los que se usa para ilustrar la capacidad de la lógica difusa para generar un comportamiento complejo a partir de un conjunto compacto e intuitivo de reglas provenientes de un experto en el dominio."
   ]
  },
  {
   "cell_type": "markdown",
   "id": "cbf143b0",
   "metadata": {},
   "source": [
    "Vamos a construir un sistema de inferencia difusa que modele cómo determinar la cantidad de propina a dar en un restaurante, teniendo en cuenta el servicio y la calidad de la comida; ambos, valorados en una escala de 0 a 10. Este sistema se podría utilizar para dejar una propina de entre 0 y 25%."
   ]
  },
  {
   "cell_type": "markdown",
   "id": "fb87290b",
   "metadata": {},
   "source": [
    "### Diseño del sistema"
   ]
  },
  {
   "cell_type": "markdown",
   "id": "0bdbd979",
   "metadata": {},
   "source": [
    "Como sabemos, se requiere determinar mediante análisis las variables de entrada y de salida para el problema planteado. Para c/u de ellas se deberá determinar su universo de discurso (como se indica ut supra, cada variable difusa tiene un rango de valores nítidos al que se le denomina así), el particionamiento y el solapamiento entre las particiones. Como sabemos, a cada partición le corresponde un término linguístico."
   ]
  },
  {
   "cell_type": "markdown",
   "id": "b22630e7",
   "metadata": {},
   "source": [
    "Este problema podríamos estructurarlo o diseñarlo, de la sgte manera:"
   ]
  },
  {
   "cell_type": "markdown",
   "id": "8931bccd",
   "metadata": {},
   "source": [
    "#### Variables de entrada (antecedentes)"
   ]
  },
  {
   "cell_type": "markdown",
   "id": "43b799f5",
   "metadata": {},
   "source": [
    "Varias variables influyen en la decisión sobre cuánto dar de propina en un almuerzo o en una cena. \n",
    "\n",
    "Considere dos de ellas:\n",
    "\n",
    "- **calidad**: Calidad de la comida\n",
    "    - Universo: ¿Qué tan sabrosa fue la comida, en una escala del 1 al 10?\n",
    "    - Términos linguísticos: mala, regular, excelente\n",
    "- **servicio**: Calidad del servicio\n",
    "    - Universo : ¿Qué tan bueno fue el servicio de los camarerosb, en una escala del 1 al 10?\n",
    "    - Términos linguísticos: deficiente, aceptable, impresionante\n",
    "        "
   ]
  },
  {
   "cell_type": "markdown",
   "id": "fd9c5eaf",
   "metadata": {},
   "source": [
    "#### Variable de salida (consecuente)"
   ]
  },
  {
   "cell_type": "markdown",
   "id": "7341794e",
   "metadata": {},
   "source": [
    "La variable de salida es simplemente el monto de la propina, en puntos porcentuales:"
   ]
  },
  {
   "cell_type": "markdown",
   "id": "38308de6",
   "metadata": {},
   "source": [
    "- **propina**: porcentaje de la factura para agregar como propina\n",
    "    - Universo: ¿Cuánto deberíamos dar de propina, en una escala del 0% al 25%?\n",
    "    - Términos linguísticos: baja, media, alta"
   ]
  },
  {
   "cell_type": "markdown",
   "id": "00246dcb",
   "metadata": {},
   "source": [
    "#### Reglas difusas"
   ]
  },
  {
   "cell_type": "markdown",
   "id": "e13a40fe",
   "metadata": {},
   "source": [
    "- SI la *calidad de comida* fue mala O el *servicio* fue deficiente, ENTONCES la propina será baja\n",
    "- SI el *servicio* fue aceptable, ENTONCES la propina será media.\n",
    "- SI la *calidad de comida* fue excelente O el servicio fue impresionante, ENTONCES la propina será alta."
   ]
  },
  {
   "cell_type": "markdown",
   "id": "557262eb",
   "metadata": {},
   "source": [
    "La mayor parte de la gente estaría de acuerdo con estas reglas, aunque se debe tener en cuenta que las reglas son difusas. Mapear las reglas imprecisas en una propina definida y procesable es un desafío. Este es el tipo de tarea en la que sobresale la lógica difusa. "
   ]
  },
  {
   "cell_type": "markdown",
   "id": "4078a41e",
   "metadata": {},
   "source": [
    "### Implementación en el scikit-fuzzy"
   ]
  },
  {
   "cell_type": "markdown",
   "id": "7a735065",
   "metadata": {},
   "source": [
    "Importamos antes la biblioteca de Python llamada Matplotlib, la cual nos ayudará en la obtención de los gráficos a presentar."
   ]
  },
  {
   "cell_type": "code",
   "execution_count": 4,
   "id": "90f19b1b",
   "metadata": {},
   "outputs": [],
   "source": [
    "import matplotlib.pyplot as plt"
   ]
  },
  {
   "cell_type": "markdown",
   "id": "170722ad",
   "metadata": {},
   "source": [
    "#### Instalación del skfuzzy"
   ]
  },
  {
   "cell_type": "markdown",
   "id": "bc52038e",
   "metadata": {},
   "source": [
    "La instalación de la biblioteca llamada scikit-fuzzy (o skfuzzy) contempla los sgtes pasos:\n",
    "1. Abrir una terminal de Anaconda.\n",
    "2. Ejecutar en la terminal: \n",
    "* $ conda install -c conda-forge/label/gcc7 scikit-fuzzy\n",
    "3. Responder 'y' a la pregunta sobre la instalación de nuevos paquetes.\n",
    "\n",
    "Alternativamente, se puede instalar mediante el sistema de gestión de paquetes llamado `pip`, con:\n",
    "* $ pip install -U scikit-fuzzy"
   ]
  },
  {
   "cell_type": "markdown",
   "id": "486393ee",
   "metadata": {},
   "source": [
    "Las funciones de pertenencia de dichos términos se definen en scikit-fuzzy de la siguiente manera:"
   ]
  },
  {
   "cell_type": "markdown",
   "id": "055acb77",
   "metadata": {},
   "source": [
    "Generamos las variables con sus respectivos universos de universo:\n",
    "* calidad (x_cal) y servicio (x_serv), ambas en el rango subjetivo [0, 10]\n",
    "* propina (x_prop) tiene un rango de [0, 25] en unidades de puntos porcentuales."
   ]
  },
  {
   "cell_type": "code",
   "execution_count": 7,
   "id": "6a0dac32",
   "metadata": {},
   "outputs": [],
   "source": [
    "x_calidad = np.arange(0, 11, 1)\n",
    "x_servicio = np.arange(0, 11, 1)\n",
    "x_propina = np.arange(0, 26, 1)"
   ]
  },
  {
   "cell_type": "markdown",
   "id": "77f890c6",
   "metadata": {},
   "source": [
    "Ahora generamos las funciones de membresía asociadas a los términos linguísticos considerados para las variables. Tanto para las variables de entrada como para la de salida, se deberá generar tres funciones de pertenencia."
   ]
  },
  {
   "cell_type": "code",
   "execution_count": 8,
   "id": "6223d4e0",
   "metadata": {},
   "outputs": [],
   "source": [
    "# Generate fuzzy membership functions\n",
    "calidad_lo = fuzz.trimf(x_calidad, [0, 0, 5])\n",
    "calidad_md = fuzz.trimf(x_calidad, [0, 5, 10])\n",
    "calidad_hi = fuzz.trimf(x_calidad, [5, 10, 10])\n",
    "servicio_lo = fuzz.trimf(x_servicio, [0, 0, 5])\n",
    "servicio_md = fuzz.trimf(x_servicio, [0, 5, 10])\n",
    "servicio_hi = fuzz.trimf(x_servicio, [5, 10, 10])\n",
    "propina_lo = fuzz.trimf(x_propina, [0, 0, 13])\n",
    "propina_md = fuzz.trimf(x_propina, [0, 13, 25])\n",
    "propina_hi = fuzz.trimf(x_propina, [13, 25, 25])"
   ]
  },
  {
   "cell_type": "markdown",
   "id": "a87d0c33",
   "metadata": {},
   "source": [
    "Para visualizar los universos de discurso y las funciones de pertenencia, definidas para cada variable, usaremos funciones de la biblioteca de Python llamada Matplotlib"
   ]
  },
  {
   "cell_type": "code",
   "execution_count": 11,
   "id": "dcd8987f",
   "metadata": {},
   "outputs": [
    {
     "data": {
      "image/png": "[encoded data removed]",
      "text/plain": [
       "<Figure size 576x648 with 3 Axes>"
      ]
     },
     "metadata": {
      "needs_background": "light"
     },
     "output_type": "display_data"
    }
   ],
   "source": [
    "# Visualize these universes and membership functions\n",
    "fig, (ax0, ax1, ax2) = plt.subplots(nrows=3, figsize=(8, 9))\n",
    "\n",
    "ax0.plot(x_calidad, calidad_lo, 'b', linewidth=1.5, label='Mala')\n",
    "ax0.plot(x_calidad, calidad_md, 'g', linewidth=1.5, label='Regular')\n",
    "ax0.plot(x_calidad, calidad_hi, 'r', linewidth=1.5, label='Excelente')\n",
    "ax0.set_title('Calidad de comida')\n",
    "ax0.legend()\n",
    "\n",
    "ax1.plot(x_servicio, servicio_lo, 'b', linewidth=1.5, label='Deficiente')\n",
    "ax1.plot(x_servicio, servicio_md, 'g', linewidth=1.5, label='Aceptable')\n",
    "ax1.plot(x_servicio, servicio_hi, 'r', linewidth=1.5, label='Impresionante')\n",
    "ax1.set_title('Servicio')\n",
    "ax1.legend()\n",
    "\n",
    "ax2.plot(x_propina, propina_lo, 'b', linewidth=1.5, label='Baja')\n",
    "ax2.plot(x_propina, propina_md, 'g', linewidth=1.5, label='Media')\n",
    "ax2.plot(x_propina, propina_hi, 'r', linewidth=1.5, label='Alta')\n",
    "ax2.set_title('Propina')\n",
    "ax2.legend()\n",
    "\n",
    "# Turn off top/right axes\n",
    "for ax in (ax0, ax1, ax2):\n",
    "    ax.spines['top'].set_visible(False)\n",
    "    ax.spines['right'].set_visible(False)\n",
    "    ax.get_xaxis().tick_bottom()\n",
    "    ax.get_yaxis().tick_left()\n",
    "\n",
    "plt.tight_layout()"
   ]
  },
  {
   "cell_type": "markdown",
   "id": "4580697e",
   "metadata": {},
   "source": [
    "#### Pregunta"
   ]
  },
  {
   "cell_type": "markdown",
   "id": "de5d573f",
   "metadata": {},
   "source": [
    "Suponiendo que en una cena en un restaurante (antes de la pandemia!) se evaluó:\n",
    "- La *calidad de la comida* fue **6.5**\n",
    "- El *servicio* fue **9,8**\n",
    "\n",
    "¿Cuál sería la propina para esas circunstancias?"
   ]
  },
  {
   "cell_type": "markdown",
   "id": "50135bbf",
   "metadata": {},
   "source": [
    "#### Borrosificación"
   ]
  },
  {
   "cell_type": "markdown",
   "id": "0760d786",
   "metadata": {},
   "source": [
    "Necesitamos obtener la activación de nuestras funciones de pertenencia con estos valores.\n",
    "Los valores exactos 6.5 y 9.8 no existen en nuestros universos ...\n",
    "\n",
    "Haremos uso del método denominado *fuzz.interp_membership*, el cual forma parte de la biblioteca *skfuzzy*."
   ]
  },
  {
   "cell_type": "code",
   "execution_count": 40,
   "id": "0ed881cb",
   "metadata": {},
   "outputs": [
    {
     "name": "stdout",
     "output_type": "stream",
     "text": [
      "Calidad mala:  0.0\n",
      "Calidad regular:  0.7\n",
      "Calidad excelente:  0.30000000000000004\n",
      "================================================\n",
      "Servicio deficiente:  0.0\n",
      "Servicio aceptable:  0.03999999999999987\n",
      "Servicio impresionante:  0.9600000000000002\n"
     ]
    }
   ],
   "source": [
    "# Primero para la variable 'Calidad de comida'\n",
    "calidad_level_lo = fuzz.interp_membership(x_calidad, calidad_lo, 6.5)\n",
    "calidad_level_md = fuzz.interp_membership(x_calidad, calidad_md, 6.5)\n",
    "calidad_level_hi = fuzz.interp_membership(x_calidad, calidad_hi, 6.5)\n",
    "print(\"Calidad mala: \", calidad_level_lo)\n",
    "print(\"Calidad regular: \",calidad_level_md)\n",
    "print(\"Calidad excelente: \", calidad_level_hi)\n",
    "\n",
    "print(\"================================================\")\n",
    "# Ahora para la variable 'Servicio'\n",
    "servicio_level_lo = fuzz.interp_membership(x_servicio, servicio_lo, 9.8)\n",
    "servicio_level_md = fuzz.interp_membership(x_servicio, servicio_md, 9.8)\n",
    "servicio_level_hi = fuzz.interp_membership(x_servicio, servicio_hi, 9.8)\n",
    "print(\"Servicio deficiente: \", servicio_level_lo)\n",
    "print(\"Servicio aceptable: \", servicio_level_md)\n",
    "print(\"Servicio impresionante: \", servicio_level_hi)"
   ]
  },
  {
   "cell_type": "markdown",
   "id": "149ceafe",
   "metadata": {},
   "source": [
    "#### Aplicación de reglas"
   ]
  },
  {
   "cell_type": "markdown",
   "id": "bbfbde06",
   "metadata": {},
   "source": [
    "Ahora tomamos nuestras reglas y las aplicamos. La regla 1 se refiere a una comida de mala calidad O a un mal servicio. \n",
    "\n",
    "El operador OR significa que tomamos el máximo de estos dos. De esta manera, obtenemos la activación (grados de cumplimiento) del antecedente (lado izquierdo) de la regla 1."
   ]
  },
  {
   "cell_type": "code",
   "execution_count": 51,
   "id": "c2f338d7",
   "metadata": {},
   "outputs": [
    {
     "name": "stdout",
     "output_type": "stream",
     "text": [
      "0.0\n"
     ]
    }
   ],
   "source": [
    "# Now we take our rules and apply them. Rule 1 concerns bad food OR service.\n",
    "# The OR operator means we take the maximum of these two.\n",
    "active_rule1 = np.fmax(calidad_level_lo, servicio_level_lo)\n",
    "print(active_rule1)"
   ]
  },
  {
   "cell_type": "markdown",
   "id": "ea58495c",
   "metadata": {},
   "source": [
    "Ahora aplicamos esto recortando la parte superior de la función de membresía de salida correspondiente con `np.fmin`"
   ]
  },
  {
   "cell_type": "code",
   "execution_count": 53,
   "id": "1eedaa4f",
   "metadata": {},
   "outputs": [],
   "source": [
    "# Now we apply this by clipping the top off the corresponding output\n",
    "# membership function with `np.fmin`\n",
    "propina_activation_lo = np.fmin(active_rule1, propina_lo)  # removed entirely to 0"
   ]
  },
  {
   "cell_type": "markdown",
   "id": "0a2fb398",
   "metadata": {},
   "source": [
    "Para la regla 2, relacionamos un servicio aceptable con una propina media."
   ]
  },
  {
   "cell_type": "code",
   "execution_count": 56,
   "id": "8d127bdf",
   "metadata": {},
   "outputs": [],
   "source": [
    "# For rule 2 we connect acceptable service to medium tipping\n",
    "propina_activation_md = np.fmin(servicio_level_md, propina_md)"
   ]
  },
  {
   "cell_type": "markdown",
   "id": "ddc2f5da",
   "metadata": {},
   "source": [
    "Para la regla 3, relacionamos una comida excelente *O* un servicio impresionante con propinas altas"
   ]
  },
  {
   "cell_type": "code",
   "execution_count": 48,
   "id": "e5fd8d3c",
   "metadata": {},
   "outputs": [
    {
     "name": "stdout",
     "output_type": "stream",
     "text": [
      "0.9600000000000002\n"
     ]
    }
   ],
   "source": [
    "# For rule 3 we connect high service OR high food with high tipping\n",
    "active_rule3 = np.fmax(calidad_level_hi, servicio_level_hi)\n",
    "print(active_rule3)\n",
    "propina_activation_hi = np.fmin(active_rule3, propina_hi)\n",
    "prop0 = np.zeros_like(x_propina)"
   ]
  },
  {
   "cell_type": "markdown",
   "id": "1f3ad4f7",
   "metadata": {},
   "source": [
    "A continuación, visualizaremos el resultado de dicho procesamiento:"
   ]
  },
  {
   "cell_type": "code",
   "execution_count": 50,
   "id": "28baf4aa",
   "metadata": {},
   "outputs": [
    {
     "data": {
      "text/plain": [
       "Text(0.5, 1.0, 'Grados de posibilidad en la salida')"
      ]
     },
     "execution_count": 50,
     "metadata": {},
     "output_type": "execute_result"
    },
    {
     "data": {
      "image/png": "[encoded data removed]",
      "text/plain": [
       "<Figure size 576x216 with 1 Axes>"
      ]
     },
     "metadata": {
      "needs_background": "light"
     },
     "output_type": "display_data"
    }
   ],
   "source": [
    "# Visualize this\n",
    "fig, ax0 = plt.subplots(figsize=(8, 3))\n",
    "\n",
    "ax0.fill_between(x_propina, prop0, propina_activation_lo, facecolor='b', alpha=0.7)\n",
    "ax0.plot(x_propina, propina_lo, 'b', linewidth=0.5, linestyle='--', )\n",
    "ax0.fill_between(x_propina, prop0, propina_activation_md, facecolor='g', alpha=0.7)\n",
    "ax0.plot(x_propina, propina_md, 'g', linewidth=0.5, linestyle='--')\n",
    "ax0.fill_between(x_propina, prop0, propina_activation_hi, facecolor='r', alpha=0.7)\n",
    "ax0.plot(x_propina, propina_hi, 'r', linewidth=0.5, linestyle='--')\n",
    "ax0.set_title('Grados de posibilidad en la salida')"
   ]
  },
  {
   "cell_type": "markdown",
   "id": "7702bcb0",
   "metadata": {},
   "source": [
    "#### Agregación de reglas"
   ]
  },
  {
   "cell_type": "markdown",
   "id": "d3daccdd",
   "metadata": {},
   "source": [
    "Habiendo determinado la *activación* (grados de posibilidad) de cada función de pertenencia de salida, deben combinarse todas ellas. Por lo general, esto se hace utilizando un operador máximo. Este paso también se conoce como *agregación*."
   ]
  },
  {
   "cell_type": "markdown",
   "id": "c0510dcf",
   "metadata": {},
   "source": [
    "#### Defuzzificación (Desborrosificación)"
   ]
  },
  {
   "cell_type": "markdown",
   "id": "40516a8d",
   "metadata": {},
   "source": [
    "Finalmente, para obtener una respuesta del mundo real, volvemos a la lógica nítida (proposicional) del mundo de las funciones de pertenencia difusas. Para los propósitos de este ejemplo, se utilizará el método del centroide (denominado también centro de áreas)."
   ]
  },
  {
   "cell_type": "markdown",
   "id": "4d45bd87",
   "metadata": {},
   "source": [
    "El resultado es una propina del 20.2%."
   ]
  },
  {
   "cell_type": "markdown",
   "id": "617ff60d",
   "metadata": {},
   "source": [
    "Agregando las tres funciones de membresía de salida:"
   ]
  },
  {
   "cell_type": "code",
   "execution_count": 55,
   "id": "460b8588",
   "metadata": {},
   "outputs": [],
   "source": [
    "# Aggregate all three output membership functions together\n",
    "aggregated = np.fmax(propina_activation_lo,\n",
    "                     np.fmax(propina_activation_md, propina_activation_hi))"
   ]
  },
  {
   "cell_type": "markdown",
   "id": "3f0dd5ce",
   "metadata": {},
   "source": [
    "Calculamos el valor difuminado valiéndonos de los métodos llamados *defuzz* y, otra vez, *fuzz.interp_membership*. Hay varios métodos de difuminación tales como: Centro de Máximos, Centro de Áreas, Media de Máximos, entre otros; para este problema usaremos el Centro de Áreas, el cual en la biblioteca skfuzzy se implementa con 'centroid'."
   ]
  },
  {
   "cell_type": "code",
   "execution_count": 34,
   "id": "e6530295",
   "metadata": {},
   "outputs": [],
   "source": [
    "# Calculate defuzzified result\n",
    "prop = fuzz.defuzz(x_propina, aggregated, 'centroid')\n",
    "prop_activation = fuzz.interp_membership(x_propina, aggregated, prop)  # for plot"
   ]
  },
  {
   "cell_type": "markdown",
   "id": "fbc74268",
   "metadata": {},
   "source": [
    "Para visualizar el resultado, hacemos:"
   ]
  },
  {
   "cell_type": "code",
   "execution_count": 35,
   "id": "ab85c194",
   "metadata": {},
   "outputs": [
    {
     "data": {
      "text/plain": [
       "Text(0.5, 1.0, 'Agregacion de membresia y resultado (linea negra)')"
      ]
     },
     "execution_count": 35,
     "metadata": {},
     "output_type": "execute_result"
    },
    {
     "data": {
      "image/png": "[encoded data removed]",
      "text/plain": [
       "<Figure size 576x216 with 1 Axes>"
      ]
     },
     "metadata": {
      "needs_background": "light"
     },
     "output_type": "display_data"
    }
   ],
   "source": [
    "# Visualize this\n",
    "fig, ax0 = plt.subplots(figsize=(8, 3))\n",
    "\n",
    "ax0.plot(x_propina, propina_lo, 'b', linewidth=0.5, linestyle='--', )\n",
    "ax0.plot(x_propina, propina_md, 'g', linewidth=0.5, linestyle='--')\n",
    "ax0.plot(x_propina, propina_hi, 'r', linewidth=0.5, linestyle='--')\n",
    "ax0.fill_between(x_propina, prop0, aggregated, facecolor='Orange', alpha=0.7)\n",
    "ax0.plot([prop, prop], [0, prop_activation], 'k', linewidth=1.5, alpha=0.9)\n",
    "ax0.set_title('Agregacion de membresia y resultado (linea negra)')\n"
   ]
  },
  {
   "cell_type": "markdown",
   "id": "5bba7930",
   "metadata": {},
   "source": [
    "## Conclusiones"
   ]
  },
  {
   "cell_type": "markdown",
   "id": "ccd2bd31",
   "metadata": {},
   "source": [
    "El poder de los sistemas difusos radica en que permite un comportamiento intuitivo y complicado, basado en un sistema de reglas dispersas con una sobrecarga mínima. Notar que nuestros universos de funciones de membresía eran generales, definidos sólo con números enteros, pero `fuzz.interp_membership` permitió que la resolución efectiva aumentara según la demanda. Este sistema puede responder a cambios arbitrariamente pequeños en las entradas y la carga de procesamiento es mínima. "
   ]
  },
  {
   "cell_type": "markdown",
   "id": "f47ceb54",
   "metadata": {},
   "source": [
    "## Ejercicios"
   ]
  },
  {
   "cell_type": "markdown",
   "id": "1b585aba",
   "metadata": {},
   "source": [
    "### Ejercicio 1"
   ]
  },
  {
   "cell_type": "markdown",
   "id": "85f12d39",
   "metadata": {},
   "source": [
    "- Ejercicio 1a. Modifique los parámetros de las funciones de pertenencia (parámetros de la función triangular, traslape, etc.) y observe el comportamiento del sistema. Mencione y analice los resultados.\n",
    "- Ejercicio 1b. Agregue más reglas a la base de reglas. Mencione y analice los cambios en el comportamiento del sistema.\n",
    "- Ejercicio 1c. Mejore la presentación del presente cuaderno computacional, tanto en la documentación de las funciones usadas (especialmente de Matplotlib y skfuzzy) como en los gráficos mostrados."
   ]
  },
  {
   "cell_type": "markdown",
   "id": "c697ea0d",
   "metadata": {},
   "source": [
    "### Ejercicio 2"
   ]
  },
  {
   "cell_type": "markdown",
   "id": "b58f7b1f",
   "metadata": {},
   "source": [
    "La resolución del \"Problema de la propina\" presentado en la primera parte, se ha efectuado usando las bibliotecas Numpy y skfuzzy de Python. En este ejercicio, se pide:\n",
    "- Ejercicio 2a. Use la 'skfuzzy control system API' (API del sistema de inferencia difusa del skfuzzy) para modelizar este problema. Describa los pasos contemplados en la utilización de dicha API. En esta pregunta, se deberán replicar los resultados obtenidos en la resolución inicial.\n",
    "- Ejercicio 2b. Agregue más reglas a la base de reglas. Mencione y analicer los cambios en el comportamiento del sistema.\n",
    "\n",
    "Sugerencia: tomar como base y como información complementaria, respectivamente, la sgte :\n",
    "- Tutorial del propio scikit-fuzzy [Fuzzy Control Systems: The Tipping Problem](https://scikit-fuzzy.readthedocs.io/en/latest/auto_examples/plot_tipping_problem_newapi.html) \n",
    "- [API Reference](https://scikit-fuzzy.readthedocs.io/en/latest/api/api.html)"
   ]
  },
  {
   "cell_type": "markdown",
   "id": "be6f93a3",
   "metadata": {},
   "source": [
    "### Instrucciones para el envío de la solución"
   ]
  },
  {
   "cell_type": "markdown",
   "id": "eb4a9eff",
   "metadata": {},
   "source": [
    "La solución de la \"Práctica Guiada de Laboratorio 8 IA 2022-1\" podrá enviarse como respuesta a la tarea del mismo nombre publicada en la clase de Classroom, hasta las 23:59 h del Domingo 31 de Julio del 2022, en un archivo con extensión .ipynb. \n",
    "\n",
    "El documento deberá tener las sgtes características:\n",
    "- Nombre del archivo: solPGL8_SI_EAPIS_2022-1_nombre-apellidos.ipynb.\n",
    "- Todas las preguntas de la Práctica deben responderse en este mismo cuaderno computacional; la solución a cada pregunta debe registrarse en una celda debajo del planteamiento de la misma, mencionando explícitamente como subtítulo: \"Solución del ejercicio n\", donde \"n\" corresponde al número del ejercicio."
   ]
  }
 ],
 "metadata": {
  "kernelspec": {
   "display_name": "Python 3 (ipykernel)",
   "language": "python",
   "name": "python3"
  },
  "language_info": {
   "codemirror_mode": {
    "name": "ipython",
    "version": 3
   },
   "file_extension": ".py",
   "mimetype": "text/x-python",
   "name": "python",
   "nbconvert_exporter": "python",
   "pygments_lexer": "ipython3",
   "version": "3.10.5"
  },
  "vscode": {
   "interpreter": {
    "hash": "0939435234290e289e537165355665417414fde0546697e418ab408eb8ad7c97"
   }
  }
 },
 "nbformat": 4,
 "nbformat_minor": 5
}
