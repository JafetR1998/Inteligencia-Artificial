{
 "cells": [
  {
   "cell_type": "markdown",
   "metadata": {},
   "source": [
    "# Práctica Guiada de Laboratorio 5: Implementación del juego inteligente *Michi en Python* - Parte 1\n",
    "\n",
    "## Curso \"Inteligencia Artificial\" Semestre 2022-1 - Grupo 1 - EAPIS\n",
    "\n",
    "### Prof. Rolando A. Maguiña Pérez\n",
    "### Junio 2022"
   ]
  },
  {
   "cell_type": "markdown",
   "metadata": {},
   "source": [
    "## Introducción"
   ]
  },
  {
   "cell_type": "markdown",
   "metadata": {},
   "source": [
    "Se desea implementar el juego llamado “Tres en línea” (Michi) en Python usando la herramienta llamada Jupyter Notebook. El programa a desarrollarse no solamente permitirá efectuar las jugadas del humano, sino que determinará las jugadas de la máquina mediante una estrategia adecuada. Asimismo, indicará la estrategia usada para efectuar dichos movimientos.\n",
    "\n",
    "En este documento se presenta la construcción con Python de la interfaz del juego en consola."
   ]
  },
  {
   "cell_type": "markdown",
   "metadata": {},
   "source": [
    "## Plataforma de juego"
   ]
  },
  {
   "cell_type": "markdown",
   "metadata": {},
   "source": [
    "La plataforma básica de un juego inteligente está formada por los sgtes componentes:\n",
    "- Interfaz de juego\n",
    "- Inicio de una partida (estado inicial) \n",
    "- Realización de jugadas (cjto de operadores)\n",
    "- Verificación de la validez de un movimiento\n",
    "- Verificación de condición de parada (test de parada)\n",
    "- Estrategia de juego de la máquina\n",
    "    - Estrategia aleatoria\n",
    "    - Estrategia Primero el Mejor\n",
    "    - Estrategia MiniMax\n",
    "    - Estrategia MiniMax con poda alfa-beta"
   ]
  },
  {
   "cell_type": "markdown",
   "metadata": {},
   "source": [
    "### Interfaz del juego"
   ]
  },
  {
   "cell_type": "markdown",
   "metadata": {},
   "source": [
    "Tal como se anunció, la interfaz de juego se construirá a nivel de consola mediante el lenguaje computacional denominado Python. Los pasos a efectuar son:\n",
    "\n",
    "- Los casilleros del tablero a usar en el Michi serán enumerados de la siguiente manera:"
   ]
  },
  {
   "cell_type": "code",
   "execution_count": 6,
   "metadata": {},
   "outputs": [
    {
     "data": {
      "image/png": "[encoded data removed]",
      "text/plain": [
       "<IPython.core.display.Image object>"
      ]
     },
     "execution_count": 6,
     "metadata": {},
     "output_type": "execute_result"
    }
   ],
   "source": [
    "from IPython.display import Image\n",
    "i = Image(filename='D:\\\\Cursos\\\\IA\\\\Python\\\\2021-1\\\\tablero_con_nros1.png')\n",
    "i"
   ]
  },
  {
   "cell_type": "markdown",
   "metadata": {},
   "source": [
    "- El tablero se representará como una lista formada por nueve números que describirán el contenido de cada posición. Un valor de 0 significa que la posición está vacía; un 1 significa que hay un círculo O, y un valor de 10 significa que hay un aspa X.  Asumiremos que el oponente juega con círculos O y la computadora con aspas X."
   ]
  },
  {
   "cell_type": "markdown",
   "metadata": {},
   "source": [
    "#### Función CREAR_TABLERO"
   ]
  },
  {
   "cell_type": "markdown",
   "metadata": {},
   "source": [
    "- Definimos una función que llamaremos CREAR-TABLERO para crear un nuevo tablero."
   ]
  },
  {
   "cell_type": "code",
   "execution_count": 74,
   "metadata": {},
   "outputs": [],
   "source": [
    "#crea tablero nuevo\n",
    "def crear_tablero():\n",
    "    tablero=[0,0,0,0,0,0,0,0,0]\n",
    "    return tablero"
   ]
  },
  {
   "cell_type": "markdown",
   "metadata": {},
   "source": [
    "La llammos para comprobar su funcionamiento:"
   ]
  },
  {
   "cell_type": "code",
   "execution_count": 75,
   "metadata": {},
   "outputs": [
    {
     "data": {
      "text/plain": [
       "[0, 0, 0, 0, 0, 0, 0, 0, 0]"
      ]
     },
     "execution_count": 75,
     "metadata": {},
     "output_type": "execute_result"
    }
   ],
   "source": [
    "crear_tablero()"
   ]
  },
  {
   "cell_type": "markdown",
   "metadata": {},
   "source": [
    "- Para imprimir el tablero definimos las funciones CONVERTIR_A_LETRAS, IMPRIMIR_FILA, e IMPRIMIR_TABLERO."
   ]
  },
  {
   "cell_type": "markdown",
   "metadata": {},
   "source": [
    "#### Función CONVERTIR_A_LETRAS"
   ]
  },
  {
   "cell_type": "code",
   "execution_count": 76,
   "metadata": {},
   "outputs": [],
   "source": [
    "def convertir_a_letras(v):\n",
    "    if (v == 1):\n",
    "        return 'O'\n",
    "    elif (v == 10):\n",
    "        return 'X'\n",
    "    elif (v == 0):\n",
    "        return \" \"   "
   ]
  },
  {
   "cell_type": "markdown",
   "metadata": {},
   "source": [
    "Esta función toma como parámetro un número *v*, el cual puede asumir los valores de 1 o 10. Convierte valores de 1 al caracter 'O' y de 10 a 'X'."
   ]
  },
  {
   "cell_type": "markdown",
   "metadata": {},
   "source": [
    "Llamamos a la función para comprobar su funcionamiento:"
   ]
  },
  {
   "cell_type": "code",
   "execution_count": 77,
   "metadata": {},
   "outputs": [
    {
     "data": {
      "text/plain": [
       "'O'"
      ]
     },
     "execution_count": 77,
     "metadata": {},
     "output_type": "execute_result"
    }
   ],
   "source": [
    "convertir_a_letras(1)"
   ]
  },
  {
   "cell_type": "markdown",
   "metadata": {},
   "source": [
    "#### Función IMPRIMIR_FILA"
   ]
  },
  {
   "cell_type": "code",
   "execution_count": 78,
   "metadata": {},
   "outputs": [],
   "source": [
    "def imprimir_fila(x ,y ,z):\n",
    "     print(\"    {0}  |  {1}  |  {2} \".format(convertir_a_letras(x),convertir_a_letras(y),convertir_a_letras(z)))"
   ]
  },
  {
   "cell_type": "markdown",
   "metadata": {},
   "source": [
    "- En *imprimir-fila()* se llama tres veces a la función *convertir-a-letras()*, pasándosele como parámetros *x*, *y* y *z*, c/u de las cuales puede asumir el valor de {\" \", 1, 10}. \n",
    "Se vale de `print()` y de `format()` para imprimir el resultado."
   ]
  },
  {
   "cell_type": "markdown",
   "metadata": {},
   "source": [
    "Llamamos a la función para comprobar su funcionamiento:"
   ]
  },
  {
   "cell_type": "code",
   "execution_count": 79,
   "metadata": {},
   "outputs": [
    {
     "name": "stdout",
     "output_type": "stream",
     "text": [
      "       |  O  |  X \n"
     ]
    }
   ],
   "source": [
    "imprimir_fila(0, 1, 10)"
   ]
  },
  {
   "cell_type": "markdown",
   "metadata": {},
   "source": [
    "#### Función IMPRIMIR_TABLERO"
   ]
  },
  {
   "cell_type": "markdown",
   "metadata": {},
   "source": [
    "Definimos la función para imprimir el tablero:"
   ]
  },
  {
   "cell_type": "code",
   "execution_count": 80,
   "metadata": {},
   "outputs": [],
   "source": [
    "def imprimir_tablero(tablero):\n",
    "    print(\"\\n\")\n",
    "    imprimir_fila(tablero[0],tablero[1],tablero[2])\n",
    "    print('   ----------------')\n",
    "    imprimir_fila(tablero[3],tablero[4],tablero[5])\n",
    "    print('   ----------------')\n",
    "    imprimir_fila(tablero[6],tablero[7],tablero[8])\n",
    "    print(\"\\n\")"
   ]
  },
  {
   "cell_type": "markdown",
   "metadata": {},
   "source": [
    "Llamamos a la función para comprobar su funcionamiento:"
   ]
  },
  {
   "cell_type": "code",
   "execution_count": 81,
   "metadata": {},
   "outputs": [
    {
     "name": "stdout",
     "output_type": "stream",
     "text": [
      "\n",
      "\n",
      "    X  |     |    \n",
      "   ----------------\n",
      "       |  O  |    \n",
      "   ----------------\n",
      "       |  X  |    \n",
      "\n",
      "\n"
     ]
    }
   ],
   "source": [
    "imprimir_tablero([10, 0, 0, 0, 1, 0, 0, 10, 0])"
   ]
  },
  {
   "cell_type": "markdown",
   "metadata": {},
   "source": [
    "En `imprimir-tablero()` se llama tres veces a la función `imprimir-fila()`, pasándosele como parámetros *tablero[i]* donde *i=[0,8]*. Se manda imprimir también líneas punteadas y en blanco.\n"
   ]
  },
  {
   "cell_type": "markdown",
   "metadata": {},
   "source": [
    "### Jugadas "
   ]
  },
  {
   "cell_type": "markdown",
   "metadata": {},
   "source": [
    "- Definimos `efectuar_movimiento()` para marcar un aspa 'X' o un círculo 'O' en el tablero, según sea el caso. Recibe como parámetros *jugador*, la posición *pos* en la que se efectuará el movimiento y un tablero."
   ]
  },
  {
   "cell_type": "code",
   "execution_count": 82,
   "metadata": {},
   "outputs": [],
   "source": [
    "def efectuar_movimiento(jugador, pos, tablero):\n",
    "    pos = pos\n",
    "    tablero[pos-1] = jugador\n",
    "    return tablero"
   ]
  },
  {
   "cell_type": "markdown",
   "metadata": {},
   "source": [
    "Antes configuramos:"
   ]
  },
  {
   "cell_type": "code",
   "execution_count": 83,
   "metadata": {},
   "outputs": [],
   "source": [
    "pc = 10\n",
    "oponente = 1"
   ]
  },
  {
   "cell_type": "markdown",
   "metadata": {},
   "source": [
    "Llamamos la función para comprobar su funcionamiento:"
   ]
  },
  {
   "cell_type": "code",
   "execution_count": 84,
   "metadata": {},
   "outputs": [
    {
     "data": {
      "text/plain": [
       "[0, 0, 10, 0, 1, 0, 10, 0, 0]"
      ]
     },
     "execution_count": 84,
     "metadata": {},
     "output_type": "execute_result"
    }
   ],
   "source": [
    "efectuar_movimiento(10, 7, [0, 0, 10, 0, 1, 0, 0, 0, 0])"
   ]
  },
  {
   "cell_type": "markdown",
   "metadata": {},
   "source": [
    "En esta jugada ejm se ha marcado un aspa en la posición 7 del tablero actual; *jugador* es en este caso la computadora. Esto es equivalente a colocar un aspa  en dicha posición."
   ]
  },
  {
   "cell_type": "markdown",
   "metadata": {},
   "source": [
    "### Ejercicio 1"
   ]
  },
  {
   "cell_type": "markdown",
   "metadata": {},
   "source": [
    "Efectuar varias jugadas tanto de la máquina como la del jugador humano, enseguida imprimir los tableros respectivos. Comente sus resultados."
   ]
  },
  {
   "cell_type": "markdown",
   "metadata": {},
   "source": [
    "### Solución 1"
   ]
  },
  {
   "cell_type": "code",
   "execution_count": 85,
   "metadata": {},
   "outputs": [],
   "source": [
    "# Declaramos la función \"movimiento\" para automatizar los movimientos y poder hacer multiples jugadas.\n",
    "def movimiento(x, tablero, jugada):\n",
    "    # Se puede usar tambien el operador ternario:\n",
    "    # [código si se cumple] if [condición] else [código si no se cumple], pero para una mayor facilidad se usara una condicional más simple.\n",
    "    if jugada[0]:\n",
    "        v = 1 # --> \"o\"\n",
    "    else:\n",
    "        v = 10 # --> \"x\"\n",
    "    # Se usa la función \"efectuar_movimiento()\" para marcar un aspa 'X' o un círculo 'O' en el tablero.\n",
    "    efectuar_movimiento(v, x, tablero)\n",
    "    # Definimos la función para imprimir el tablero.\n",
    "    imprimir_tablero(tablero)\n",
    "    # Declaramos \"juegada\" como false, ya que recien se esta inicializando.\n",
    "    jugada[0] = not jugada[0]"
   ]
  },
  {
   "cell_type": "code",
   "execution_count": 86,
   "metadata": {},
   "outputs": [],
   "source": [
    "# Englobamos la función \"crear_tablero()\" en una variable tablero\n",
    "tablero = crear_tablero()\n",
    "# Inicializamos jugada como \"True\"\n",
    "jugada = [True]"
   ]
  },
  {
   "cell_type": "markdown",
   "metadata": {},
   "source": [
    "#### Movimiento 1:"
   ]
  },
  {
   "cell_type": "code",
   "execution_count": 87,
   "metadata": {},
   "outputs": [
    {
     "name": "stdout",
     "output_type": "stream",
     "text": [
      "\n",
      "Primer Movimiento\n",
      "------------------\n",
      "\n",
      "\n",
      "    O  |     |    \n",
      "   ----------------\n",
      "       |     |    \n",
      "   ----------------\n",
      "       |     |    \n",
      "\n",
      "\n"
     ]
    }
   ],
   "source": [
    "title = \"\\nPrimer Movimiento\"\n",
    "print(title)\n",
    "print(\"-\"*len(title))\n",
    "movimiento(1, tablero, jugada)"
   ]
  },
  {
   "cell_type": "markdown",
   "metadata": {},
   "source": [
    "#### Movimiento 2:"
   ]
  },
  {
   "cell_type": "code",
   "execution_count": 88,
   "metadata": {},
   "outputs": [
    {
     "name": "stdout",
     "output_type": "stream",
     "text": [
      "\n",
      "Segundo Movimiento\n",
      "-------------------\n",
      "\n",
      "\n",
      "    O  |     |  X \n",
      "   ----------------\n",
      "       |     |    \n",
      "   ----------------\n",
      "       |     |    \n",
      "\n",
      "\n"
     ]
    }
   ],
   "source": [
    "title = \"\\nSegundo Movimiento\"\n",
    "print(title)\n",
    "print(\"-\"*len(title))\n",
    "movimiento(3, tablero, jugada)"
   ]
  },
  {
   "cell_type": "markdown",
   "metadata": {},
   "source": [
    "#### Movimiento 3:"
   ]
  },
  {
   "cell_type": "code",
   "execution_count": 89,
   "metadata": {},
   "outputs": [
    {
     "name": "stdout",
     "output_type": "stream",
     "text": [
      "\n",
      " Tercer Movimiento\n",
      "-------------------\n",
      "\n",
      "\n",
      "    O  |     |  X \n",
      "   ----------------\n",
      "       |     |    \n",
      "   ----------------\n",
      "    O  |     |    \n",
      "\n",
      "\n"
     ]
    }
   ],
   "source": [
    "title = \"\\n Tercer Movimiento\"\n",
    "print(title)\n",
    "print(\"-\"*len(title))\n",
    "movimiento(7, tablero, jugada)"
   ]
  },
  {
   "cell_type": "markdown",
   "metadata": {},
   "source": [
    "#### Movimiento 4:"
   ]
  },
  {
   "cell_type": "code",
   "execution_count": 90,
   "metadata": {},
   "outputs": [
    {
     "name": "stdout",
     "output_type": "stream",
     "text": [
      "\n",
      " Cuarto Movimiento\n",
      "-------------------\n",
      "\n",
      "\n",
      "    O  |     |  X \n",
      "   ----------------\n",
      "       |  X  |    \n",
      "   ----------------\n",
      "    O  |     |    \n",
      "\n",
      "\n"
     ]
    }
   ],
   "source": [
    "title = \"\\n Cuarto Movimiento\"\n",
    "print(title)\n",
    "print(\"-\"*len(title))\n",
    "movimiento(5, tablero, jugada)"
   ]
  },
  {
   "cell_type": "markdown",
   "metadata": {},
   "source": [
    "#### Movimiento 5:"
   ]
  },
  {
   "cell_type": "code",
   "execution_count": 91,
   "metadata": {},
   "outputs": [
    {
     "name": "stdout",
     "output_type": "stream",
     "text": [
      "\n",
      " Quinto Movimiento\n",
      "-------------------\n",
      "\n",
      "\n",
      "    O  |     |  X \n",
      "   ----------------\n",
      "    O  |  X  |    \n",
      "   ----------------\n",
      "    O  |     |    \n",
      "\n",
      "\n"
     ]
    }
   ],
   "source": [
    "title = \"\\n Quinto Movimiento\"\n",
    "print(title)\n",
    "print(\"-\"*len(title))\n",
    "movimiento(4, tablero, jugada)"
   ]
  },
  {
   "cell_type": "markdown",
   "metadata": {},
   "source": [
    "### Ejercicio 2"
   ]
  },
  {
   "cell_type": "markdown",
   "metadata": {},
   "source": [
    "Optimizar el código presentado."
   ]
  },
  {
   "cell_type": "markdown",
   "metadata": {},
   "source": [
    "### Solución 2"
   ]
  },
  {
   "cell_type": "code",
   "execution_count": 96,
   "metadata": {},
   "outputs": [],
   "source": [
    "\"\"\"\n",
    "Automatización de Jugadas\n",
    ". En este caso, solo se ha añadido 3 funciones que nos permitiran automatizar las jugadas que realicen\n",
    "  los jugadores X y O. Cuando uno de los dos jugadores complete las tres aspas o circulos en una fila\n",
    "  columna o diagonal, el juego se detendra y se dara por finalziado el juego.\n",
    "\"\"\"\n",
    "valores = [0]*8\n",
    "\n",
    "# Función para sumar puntaje\n",
    "def sumar_puntaje(valores, v, juega_player):\n",
    "    punto = 1 if juega_player[0] else -1\n",
    "    if v == 1:\n",
    "        valores[0] += punto\n",
    "        valores[3] += punto\n",
    "        valores[6] += punto\n",
    "    elif v == 2:\n",
    "        valores[0] += punto\n",
    "        valores[4] += punto\n",
    "    elif v == 3:\n",
    "        valores[0] += punto\n",
    "        valores[5] += punto\n",
    "        valores[7] += punto\n",
    "    elif v == 4:\n",
    "        valores[1] += punto\n",
    "        valores[3] += punto\n",
    "    elif v == 5:\n",
    "        valores[1] += punto\n",
    "        valores[4] += punto\n",
    "        valores[6] += punto\n",
    "        valores[7] += punto\n",
    "    elif v == 6:\n",
    "        valores[1] += punto\n",
    "        valores[5] += punto\n",
    "    elif v == 7:\n",
    "        valores[3] += punto\n",
    "        valores[2] += punto\n",
    "    elif v == 8:\n",
    "        valores[2] += punto\n",
    "        valores[4] += punto\n",
    "    elif v == 9:\n",
    "        valores[2] += punto\n",
    "        valores[5] += punto\n",
    "        valores[6] += punto\n",
    "    \n",
    "# Función para verificar al ganador  \n",
    "def verificar_ganador(valores):\n",
    "    for i in valores:\n",
    "        if i == 3 or i == -3:\n",
    "            print(\"Gano {}\".format(\"Aspa\" if i == 3 else \"Circulo\")) #Terna\n",
    "            return True\n",
    "    return False\n",
    "    \n",
    "# Agregamos la validacion al movimiento para ver si es correcto\n",
    "def move_and_print(x, tablero, juega_player, valores):\n",
    "    if x < 0 and x > 9:\n",
    "        print(\"Seleccione una casilla valida para jugar\")\n",
    "        return\n",
    "    v = 1 if juega_player[0] else 10\n",
    "    efectuar_movimiento(v, x, tablero)\n",
    "    imprimir_tablero(tablero)\n",
    "    juega_player[0] = not juega_player[0]\n",
    "    ganador, sumar_puntaje(valores, x, juega_player)\n",
    "    return verificar_ganador(valores)"
   ]
  },
  {
   "cell_type": "code",
   "execution_count": 97,
   "metadata": {},
   "outputs": [
    {
     "name": "stdout",
     "output_type": "stream",
     "text": [
      "\n",
      "Automatización de Jugadas\n",
      "--------------------------\n"
     ]
    },
    {
     "name": "stdout",
     "output_type": "stream",
     "text": [
      "Ingrese una casilla:  2\n"
     ]
    },
    {
     "name": "stdout",
     "output_type": "stream",
     "text": [
      "\n",
      "\n",
      "       |  O  |    \n",
      "   ----------------\n",
      "       |     |    \n",
      "   ----------------\n",
      "       |     |    \n",
      "\n",
      "\n"
     ]
    },
    {
     "name": "stdout",
     "output_type": "stream",
     "text": [
      "Ingrese una casilla:  4\n"
     ]
    },
    {
     "name": "stdout",
     "output_type": "stream",
     "text": [
      "\n",
      "\n",
      "       |  O  |    \n",
      "   ----------------\n",
      "    X  |     |    \n",
      "   ----------------\n",
      "       |     |    \n",
      "\n",
      "\n"
     ]
    },
    {
     "name": "stdout",
     "output_type": "stream",
     "text": [
      "Ingrese una casilla:  8\n"
     ]
    },
    {
     "name": "stdout",
     "output_type": "stream",
     "text": [
      "\n",
      "\n",
      "       |  O  |    \n",
      "   ----------------\n",
      "    X  |     |    \n",
      "   ----------------\n",
      "       |  O  |    \n",
      "\n",
      "\n"
     ]
    },
    {
     "name": "stdout",
     "output_type": "stream",
     "text": [
      "Ingrese una casilla:  5\n"
     ]
    },
    {
     "name": "stdout",
     "output_type": "stream",
     "text": [
      "\n",
      "\n",
      "       |  O  |    \n",
      "   ----------------\n",
      "    X  |  X  |    \n",
      "   ----------------\n",
      "       |  O  |    \n",
      "\n",
      "\n"
     ]
    },
    {
     "name": "stdout",
     "output_type": "stream",
     "text": [
      "Ingrese una casilla:  3\n"
     ]
    },
    {
     "name": "stdout",
     "output_type": "stream",
     "text": [
      "\n",
      "\n",
      "       |  O  |  O \n",
      "   ----------------\n",
      "    X  |  X  |    \n",
      "   ----------------\n",
      "       |  O  |    \n",
      "\n",
      "\n"
     ]
    },
    {
     "name": "stdout",
     "output_type": "stream",
     "text": [
      "Ingrese una casilla:  3\n"
     ]
    },
    {
     "name": "stdout",
     "output_type": "stream",
     "text": [
      "\n",
      "\n",
      "       |  O  |  X \n",
      "   ----------------\n",
      "    X  |  X  |    \n",
      "   ----------------\n",
      "       |  O  |    \n",
      "\n",
      "\n"
     ]
    },
    {
     "name": "stdout",
     "output_type": "stream",
     "text": [
      "Ingrese una casilla:  1\n"
     ]
    },
    {
     "name": "stdout",
     "output_type": "stream",
     "text": [
      "\n",
      "\n",
      "    O  |  O  |  X \n",
      "   ----------------\n",
      "    X  |  X  |    \n",
      "   ----------------\n",
      "       |  O  |    \n",
      "\n",
      "\n"
     ]
    },
    {
     "name": "stdout",
     "output_type": "stream",
     "text": [
      "Ingrese una casilla:  6\n"
     ]
    },
    {
     "name": "stdout",
     "output_type": "stream",
     "text": [
      "\n",
      "\n",
      "    O  |  O  |  X \n",
      "   ----------------\n",
      "    X  |  X  |  X \n",
      "   ----------------\n",
      "       |  O  |    \n",
      "\n",
      "\n",
      "Gano Aspa\n"
     ]
    }
   ],
   "source": [
    "jugar = True\n",
    "tablero = crear_tablero()\n",
    "juega_player = [True]\n",
    "ganador = -1\n",
    "title = \"\\nAutomatización de Jugadas\"\n",
    "print(title)\n",
    "print(\"-\"*len(title))\n",
    "while jugar:\n",
    "    x = int(input(\"Ingrese una casilla: \"))\n",
    "    jugar = not move_and_print(x, tablero, juega_player, valores)"
   ]
  },
  {
   "cell_type": "markdown",
   "metadata": {},
   "source": [
    "## Instrucciones para el envío de la solución"
   ]
  },
  {
   "cell_type": "markdown",
   "metadata": {},
   "source": [
    "La solución de la \"Práctica Guiada de Laboratorio 5 Parte 1 - IA 2022-1 G1 EAPIS\" podrá enviarse como respuesta a la tarea del mismo nombre publicada en la clase de Classroom, hasta las 23:59 h del Miércoles 22 de Junio del 2022, en un archivo con extensión .ipynb.\n",
    "\n",
    "El documento deberá tener las sgtes características:\n",
    "\n",
    "Nombre del archivo: solPGL5-Parte1_IA_G1_nombre-apellidos.ipynb.\n",
    "\n",
    "Todas las preguntas de la Práctica deben responderse en este mismo cuaderno computacional; la solución a cada pregunta debe registrarse en una celda debajo del plnteamiento de la misma, mencionando explícitamente como subtítulo: \"Solución del ejercicio n\", donde \"n\" corresponde al número del ejercicio."
   ]
  }
 ],
 "metadata": {
  "kernelspec": {
   "display_name": "Python 3.9.1 64-bit",
   "language": "python",
   "name": "python3"
  },
  "language_info": {
   "codemirror_mode": {
    "name": "ipython",
    "version": 3
   },
   "file_extension": ".py",
   "mimetype": "text/x-python",
   "name": "python",
   "nbconvert_exporter": "python",
   "pygments_lexer": "ipython3",
   "version": "3.9.1"
  },
  "vscode": {
   "interpreter": {
    "hash": "0939435234290e289e537165355665417414fde0546697e418ab408eb8ad7c97"
   }
  }
 },
 "nbformat": 4,
 "nbformat_minor": 4
}
