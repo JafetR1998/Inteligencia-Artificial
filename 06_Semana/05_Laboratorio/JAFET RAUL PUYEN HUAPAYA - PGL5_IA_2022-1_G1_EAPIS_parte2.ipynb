{
 "cells": [
  {
   "cell_type": "markdown",
   "metadata": {},
   "source": [
    "# Práctica Guiada de Laboratorio 5: Implementación del juego inteligente *Michi en Python* - Parte 2\n",
    "\n",
    "## Curso \"Inteligencia Artificial\" Semestre 2022-1 - Grupo 1 - EAPIS\n",
    "\n",
    "### Prof. Rolando A. Maguiña Pérez"
   ]
  },
  {
   "cell_type": "markdown",
   "metadata": {},
   "source": [
    "## Introducción"
   ]
  },
  {
   "cell_type": "markdown",
   "metadata": {},
   "source": [
    "En la primera parte de este documento, se presentó la construcción en Python de la interfaz del juego ampliamente conocido y popular, llamado *Michi*; dicha implementación se hizo a nivel de consola únicamente. \n",
    "\n",
    "En esta segunda parte, se presenta la construcción del programa que permitirá no solamente efectuar las jugadas del humano, sino que determinará las jugadas de la máquina mediante una estrategia adecuada. Asimismo, indicará la estrategia usada para efectuar dichos movimientos. "
   ]
  },
  {
   "cell_type": "markdown",
   "metadata": {},
   "source": [
    "## Objetivos dela PGL 5"
   ]
  },
  {
   "cell_type": "markdown",
   "metadata": {},
   "source": [
    "- Entender a cabalidad la implementación de un juego inteligente, en este caso la del juego llamado *Michi*.\n",
    "- Servir de base y/o inspiración para la implementación del juego denominado *Los Tres Mosqueteros* o del *Juego del Chomp*, a desarrollarse como parte del Trabajo Computacional 1 del curso."
   ]
  },
  {
   "cell_type": "markdown",
   "metadata": {},
   "source": [
    "## Plataforma de juego"
   ]
  },
  {
   "cell_type": "markdown",
   "metadata": {},
   "source": [
    "La plataforma básica de un juego inteligente está formada por los sgtes componentes:\n",
    "- Interfaz de juego (presentada en documento \"Implementación del juego inteligente *Michi* en Python - Parte 1\")\n",
    "- Inicio de una partida (estado inicial) \n",
    "- Realización de jugadas (cjto de operadores)\n",
    "- Verificación de la validez de un movimiento \n",
    "- Verificación de condición de parada (test de parada)\n",
    "- Estrategia de juego de la máquina\n",
    "Las jugadas de la máquina se pueden efectuar aplicando una de las estrategias mostradas a continuación:\n",
    "    - Estrategia Aleatoria\n",
    "    - Estrategia Primero el Mejor\n",
    "    - Estrategia MiniMax\n",
    "    - Estrategia MiniMax con poda alfa-beta"
   ]
  },
  {
   "cell_type": "markdown",
   "metadata": {},
   "source": [
    "### Análisis de la configuración del juego"
   ]
  },
  {
   "cell_type": "markdown",
   "metadata": {},
   "source": [
    "Hay 8 maneras de completar una línea (3  horizontalmente, 3 verticalmente, y 2 en la diagonal); a c/u de esas combinaciones la llamaremos *tripleta*.  Todas esa combinaciones serán almacenadas en la variable *TRIPLETAS*. "
   ]
  },
  {
   "cell_type": "code",
   "execution_count": 1,
   "metadata": {},
   "outputs": [
    {
     "data": {
      "image/png": "[encoded data removed]",
      "text/plain": [
       "<IPython.core.display.Image object>"
      ]
     },
     "execution_count": 1,
     "metadata": {},
     "output_type": "execute_result"
    }
   ],
   "source": [
    "from IPython.display import Image\n",
    "\n",
    "i = Image(filename=\"D:\\\\Cursos\\\\IA\\\\Python\\\\2021-1\\\\tablero_con_nros1.png\")\n",
    "i"
   ]
  },
  {
   "cell_type": "markdown",
   "metadata": {},
   "source": [
    "#### Variable *Tripletas*"
   ]
  },
  {
   "cell_type": "code",
   "execution_count": 2,
   "metadata": {},
   "outputs": [],
   "source": [
    "tripletas = [\n",
    "    [1, 2, 3],\n",
    "    [4, 5, 6],\n",
    "    [7, 8, 9],\n",
    "    [1, 4, 7],\n",
    "    [2, 5, 8],\n",
    "    [3, 6, 9],\n",
    "    [1, 5, 9],\n",
    "    [3, 5, 7],\n",
    "]"
   ]
  },
  {
   "cell_type": "code",
   "execution_count": 3,
   "metadata": {},
   "outputs": [
    {
     "name": "stdout",
     "output_type": "stream",
     "text": [
      "[[1, 2, 3], [4, 5, 6], [7, 8, 9], [1, 4, 7], [2, 5, 8], [3, 6, 9], [1, 5, 9], [3, 5, 7]]\n"
     ]
    }
   ],
   "source": [
    "print(tripletas)"
   ]
  },
  {
   "cell_type": "markdown",
   "metadata": {},
   "source": [
    "Definimos ahora la función `suma_tripleta()` cuyo propósito es devolver la suma de los valores de las posiciones consideradas en una tripleta. También definimos `calcula_sumas()` la cual aplica la función anterior a las tripletas contenidas en la variable del mismo nombre."
   ]
  },
  {
   "cell_type": "markdown",
   "metadata": {},
   "source": [
    "#### Función *suma_tripleta*"
   ]
  },
  {
   "cell_type": "code",
   "execution_count": 4,
   "metadata": {},
   "outputs": [],
   "source": [
    "def suma_tripleta(tablero, tripleta):\n",
    "    a, b, c = tripleta[0] - 1, tripleta[1] - 1, tripleta[2] - 1\n",
    "    return tablero[a] + tablero[b] + tablero[c]"
   ]
  },
  {
   "cell_type": "markdown",
   "metadata": {},
   "source": [
    "Llamamos a la función con un tablero cualquiera para comprobar su funcionamiento:"
   ]
  },
  {
   "cell_type": "code",
   "execution_count": 5,
   "metadata": {},
   "outputs": [
    {
     "data": {
      "text/plain": [
       "1"
      ]
     },
     "execution_count": 5,
     "metadata": {},
     "output_type": "execute_result"
    }
   ],
   "source": [
    "suma_tripleta([0, 0, 1, 0, 1, 0, 0, 0, 10], [1, 2, 3])"
   ]
  },
  {
   "cell_type": "markdown",
   "metadata": {},
   "source": [
    "En el ejm, suma los valores correspondientes a las posiciones 1, 2 y 3 contenidas en la tripleta; devuelve valor 1. "
   ]
  },
  {
   "cell_type": "markdown",
   "metadata": {},
   "source": [
    "#### Función *calcula_sumas()*"
   ]
  },
  {
   "cell_type": "code",
   "execution_count": 6,
   "metadata": {},
   "outputs": [],
   "source": [
    "def calcula_sumas(tablero):\n",
    "    sumas = []\n",
    "    for x in tripletas:\n",
    "        z = suma_tripleta(tablero, x)\n",
    "        sumas.append(z)\n",
    "    return sumas"
   ]
  },
  {
   "cell_type": "markdown",
   "metadata": {},
   "source": [
    "Verificando el comportamiento de `calcula_sumas()` al llamarla con argumento *tablero* para varios casos:"
   ]
  },
  {
   "cell_type": "code",
   "execution_count": 7,
   "metadata": {},
   "outputs": [
    {
     "data": {
      "text/plain": [
       "[20, 1, 10, 0, 11, 20, 11, 11]"
      ]
     },
     "execution_count": 7,
     "metadata": {},
     "output_type": "execute_result"
    }
   ],
   "source": [
    "calcula_sumas([0, 10, 10, 0, 1, 0, 0, 0, 10])"
   ]
  },
  {
   "cell_type": "code",
   "execution_count": 8,
   "metadata": {},
   "outputs": [
    {
     "data": {
      "text/plain": [
       "[1, 1, 10, 0, 2, 10, 11, 1]"
      ]
     },
     "execution_count": 8,
     "metadata": {},
     "output_type": "execute_result"
    }
   ],
   "source": [
    "calcula_sumas([0, 1, 0, 0, 1, 0, 0, 0, 10])"
   ]
  },
  {
   "cell_type": "code",
   "execution_count": 9,
   "metadata": {},
   "outputs": [
    {
     "data": {
      "text/plain": [
       "[10, 1, 3, 1, 12, 1, 2, 2]"
      ]
     },
     "execution_count": 9,
     "metadata": {},
     "output_type": "execute_result"
    }
   ],
   "source": [
    "calcula_sumas([0, 10, 0, 0, 1, 0, 1, 1, 1])"
   ]
  },
  {
   "cell_type": "markdown",
   "metadata": {},
   "source": [
    "### Condición de parada"
   ]
  },
  {
   "cell_type": "markdown",
   "metadata": {},
   "source": [
    "#### Función *ganador_p()*"
   ]
  },
  {
   "cell_type": "markdown",
   "metadata": {},
   "source": [
    "Definimos el predicado `ganador_p()` para verificar si uno de los jugadores completó una línea."
   ]
  },
  {
   "cell_type": "code",
   "execution_count": 10,
   "metadata": {},
   "outputs": [],
   "source": [
    "def ganador_p(tablero):\n",
    "    sumas = calcula_sumas(tablero)\n",
    "    gana_op = False\n",
    "    gana_pc = False\n",
    "\n",
    "    if 3 in sumas:\n",
    "        gana_op = True\n",
    "\n",
    "    if 30 in sumas:\n",
    "        gana_pc = True\n",
    "\n",
    "    if gana_op == True and gana_pc == False:\n",
    "        ganador = gana_op\n",
    "    elif gana_op == False and gana_pc == True:\n",
    "        ganador = gana_pc\n",
    "    else:\n",
    "        ganador = False\n",
    "    return ganador"
   ]
  },
  {
   "cell_type": "markdown",
   "metadata": {},
   "source": [
    "En esta función a la variable *sumas* se le asigna el resultado del llamado de `calcula_sumas()`. En su cuerpo, verifica si ha ganado el jugador máquina o el jugador oponente. "
   ]
  },
  {
   "cell_type": "markdown",
   "metadata": {},
   "source": [
    "Verificando el comportamiento de la función `ganador_p()` al llamarla con argumento *tablero* (para varios casos, como es mostrado en las celdas sgtes):"
   ]
  },
  {
   "cell_type": "code",
   "execution_count": 11,
   "metadata": {},
   "outputs": [
    {
     "data": {
      "text/plain": [
       "False"
      ]
     },
     "execution_count": 11,
     "metadata": {},
     "output_type": "execute_result"
    }
   ],
   "source": [
    "ganador_p([0, 10, 10, 0, 1, 0, 10, 0, 0])"
   ]
  },
  {
   "cell_type": "code",
   "execution_count": 12,
   "metadata": {},
   "outputs": [
    {
     "data": {
      "text/plain": [
       "False"
      ]
     },
     "execution_count": 12,
     "metadata": {},
     "output_type": "execute_result"
    }
   ],
   "source": [
    "ganador_p([0, 10, 1, 0, 1, 0, 10, 0, 0])"
   ]
  },
  {
   "cell_type": "code",
   "execution_count": 13,
   "metadata": {},
   "outputs": [
    {
     "data": {
      "text/plain": [
       "True"
      ]
     },
     "execution_count": 13,
     "metadata": {},
     "output_type": "execute_result"
    }
   ],
   "source": [
    "ganador_p([10, 10, 10, 0, 1, 0, 10, 0, 0])"
   ]
  },
  {
   "cell_type": "code",
   "execution_count": 14,
   "metadata": {},
   "outputs": [
    {
     "data": {
      "text/plain": [
       "True"
      ]
     },
     "execution_count": 14,
     "metadata": {},
     "output_type": "execute_result"
    }
   ],
   "source": [
    "ganador_p([0, 10, 10, 0, 1, 0, 1, 1, 1])"
   ]
  },
  {
   "cell_type": "markdown",
   "metadata": {},
   "source": [
    "###  Inicio del juego   "
   ]
  },
  {
   "cell_type": "markdown",
   "metadata": {},
   "source": [
    "#### Función *inicio()*"
   ]
  },
  {
   "cell_type": "markdown",
   "metadata": {},
   "source": [
    "Definimos la función `inicio()` que pregunta al usuario si desea comenzar el juego, y llama luego a `movimiento_pc()` o a `movimiento_oponente()`, según sea la decisión tomada. "
   ]
  },
  {
   "cell_type": "code",
   "execution_count": null,
   "metadata": {},
   "outputs": [],
   "source": [
    "def inicio():\n",
    "\n",
    "    print(\n",
    "        \"\"\"\\n\n",
    "          ------ JUEGO DEL MICHI -----\n",
    "          Le gustaria comenzar el juego?\n",
    "          [1] Si\n",
    "          [2] NO\n",
    "          [3] Salir\n",
    "    \"\"\"\n",
    "    )\n",
    "    opcion = int(input(\"Seleccione la opcion: \\n\"))\n",
    "\n",
    "    if opcion == 1:\n",
    "        print(\"oponente inicia juego\")\n",
    "        movimiento_oponente(crear_tablero())\n",
    "    elif opcion == 2:\n",
    "        # print ('maquina inicia juego')\n",
    "        movimiento_pc(crear_tablero())\n",
    "    elif opcion == 3:\n",
    "        print(\"\\n\")\n",
    "        print(\"Saliendo ...\")"
   ]
  },
  {
   "cell_type": "markdown",
   "metadata": {},
   "source": [
    "### Jugadas"
   ]
  },
  {
   "cell_type": "markdown",
   "metadata": {},
   "source": [
    "#### Jugadas del jugador humano"
   ]
  },
  {
   "cell_type": "markdown",
   "metadata": {},
   "source": [
    "Definimos ahora la función `movimiento_oponente()` la cual toma como parámetro el tablero actual y permite efectuar los movimientos del jugador humano. Además, verifica con `validar_movimiento()` si el movimiento es válido, actualiza el tablero y llama a la función `movimiento_pc()`, excepto que haya un ganador o un empate. También se comprueba mediante  `tablero_lleno_p()` si el tablero está lleno."
   ]
  },
  {
   "cell_type": "code",
   "execution_count": 15,
   "metadata": {},
   "outputs": [],
   "source": [
    "def validar_movimiento(tablero):\n",
    "    global cent\n",
    "    print(tablero)\n",
    "    pos = int(input(\"Ingrese tu movimiento: \"))\n",
    "    if tablero[pos - 1] == 0:\n",
    "        pos = pos\n",
    "        cent = pos\n",
    "    else:\n",
    "        # pos=int(input(\"Ingrese un movimiento valido: \"))\n",
    "        print(\"casilla ocupada\")\n",
    "        validar_movimiento(tablero)\n",
    "\n",
    "    return pos"
   ]
  },
  {
   "cell_type": "code",
   "execution_count": 16,
   "metadata": {},
   "outputs": [],
   "source": [
    "def tablero_lleno_p(tablero):  # Retorna True si no hay celdas vacias\n",
    "\n",
    "    for i in tablero:\n",
    "        if tablero[i] == 0:\n",
    "            print(tablero[i])\n",
    "            return False\n",
    "        else:\n",
    "            return True"
   ]
  },
  {
   "cell_type": "code",
   "execution_count": 17,
   "metadata": {},
   "outputs": [],
   "source": [
    "def movimiento_oponente(tablero):\n",
    "\n",
    "    posi = validar_movimiento(tablero)\n",
    "\n",
    "    nuevo_tablero = efectuar_movimiento(oponente, cent, tablero)\n",
    "\n",
    "    print(\"Mi movimiento: \", posi)\n",
    "    imprimir_tablero(nuevo_tablero)\n",
    "\n",
    "    if ganador_p(nuevo_tablero) == True:\n",
    "        print(\"    Gana Oponente\")\n",
    "        inicio()\n",
    "    elif tablero_lleno_p == True:\n",
    "        print(\"    Empate\")\n",
    "    else:\n",
    "        movimiento_pc(nuevo_tablero)"
   ]
  },
  {
   "cell_type": "markdown",
   "metadata": {},
   "source": [
    "#### Jugadas de la computadora"
   ]
  },
  {
   "cell_type": "markdown",
   "metadata": {},
   "source": [
    "Como sabemos, las jugadas de la máquina (computadora) se obtienen aplicando alguna estrategia de búsqueda; se disponen de las sgtes estrategias:\n",
    "- Estrategia Aleatoria (nivel básico)\n",
    "    - No usa función de evaluación.\n",
    "- Estrategia Primero el Mejor (nivel intermedio)\n",
    "    - Usa función de evaluación.\n",
    "- MiniMax (nivel experto)\n",
    "    - Usa función de evaluación\n",
    "    - Aplica algoritmo\n",
    "        - Sin poda alfa-beta  \n",
    "        - Con poda alfa-beta"
   ]
  },
  {
   "cell_type": "markdown",
   "metadata": {},
   "source": [
    "Definimos ahora `movimiento_pc()` para efectuar los movimientos del jugador computadora. Esta función llama a `escoger_estrategia_pc()` para seleccionar la estrategia a usar en las jugadas de la máquina; llama también `movimiento_oponente()`, excepto que haya un ganador o un empate."
   ]
  },
  {
   "cell_type": "code",
   "execution_count": 18,
   "metadata": {},
   "outputs": [],
   "source": [
    "def movimiento_pc(tablero):\n",
    "    print(\"ahora le toca jugar a la PC\")\n",
    "    mejor_movimiento = escoger_estrategia_pc(tablero)\n",
    "    pos = mejor_movimiento[0]\n",
    "    estrategia = mejor_movimiento[1]\n",
    "\n",
    "    nuevo_tablero = efectuar_movimiento(pc, pos, tablero)\n",
    "\n",
    "    print(\"movimientos: \", pos)\n",
    "    print(\"Estrategia: \", estrategia)\n",
    "\n",
    "    imprimir_tablero(nuevo_tablero)\n",
    "\n",
    "    if ganador_p(nuevo_tablero) == True:\n",
    "        print(\"    Gana PC\")\n",
    "        inicio()\n",
    "    elif tablero_lleno_p == True:\n",
    "        print(\"    Empate\")\n",
    "    else:\n",
    "        movimiento_oponente(nuevo_tablero)\n",
    "\n",
    "    # return tablero"
   ]
  },
  {
   "cell_type": "markdown",
   "metadata": {},
   "source": [
    "##### Implementando la estrategia aleatoria"
   ]
  },
  {
   "cell_type": "markdown",
   "metadata": {},
   "source": [
    "Mediante la función `escoger_estrategia_pc()` se determinará la estrategia de juego para las jugadas de la máquina. Inicialmente se implementará la estrategia aleatoria para la máquina."
   ]
  },
  {
   "cell_type": "code",
   "execution_count": 19,
   "metadata": {},
   "outputs": [],
   "source": [
    "def escoger_estrategia_pc(tablero):\n",
    "    return estrategia_aleatoria(tablero)"
   ]
  },
  {
   "cell_type": "markdown",
   "metadata": {},
   "source": [
    "Usaremos como estrategia de búsqueda para la máquina la **estrategia aleatoria**: escoge al azar un movimiento válido mediante la función `estrategia_aleatoria`, la cual, a su vez, usa `seleccion_aleatoria_casillero_vacio()` para tomar un número aleatorio."
   ]
  },
  {
   "cell_type": "code",
   "execution_count": 20,
   "metadata": {},
   "outputs": [],
   "source": [
    "def estrategia_aleatoria(tablero):\n",
    "\n",
    "    valor = seleccion_aleatoria_casillero_vacio(tablero).pop()\n",
    "\n",
    "    tupla = valor, \"Movimiento Aleatorio\"\n",
    "\n",
    "    return tupla"
   ]
  },
  {
   "cell_type": "code",
   "execution_count": 21,
   "metadata": {},
   "outputs": [],
   "source": [
    "import random\n",
    "\n",
    "\n",
    "def seleccion_aleatoria_casillero_vacio(tablero):\n",
    "    pos = random.randint(0, 8)\n",
    "    # print(pos)\n",
    "\n",
    "    if tablero[pos - 1] != 0:\n",
    "        return seleccion_aleatoria_casillero_vacio(tablero)\n",
    "    else:\n",
    "        pos = pos\n",
    "        return pos\n",
    "\n",
    "    return pos"
   ]
  },
  {
   "cell_type": "markdown",
   "metadata": {},
   "source": [
    "Verificando el comportamiento de la función al llamarla con un tablero ejm como argumento: "
   ]
  },
  {
   "cell_type": "code",
   "execution_count": 22,
   "metadata": {},
   "outputs": [
    {
     "data": {
      "text/plain": [
       "6"
      ]
     },
     "execution_count": 22,
     "metadata": {},
     "output_type": "execute_result"
    }
   ],
   "source": [
    "seleccion_aleatoria_casillero_vacio([10, 10, 1, 0, 10, 0, 10, 10, 1])"
   ]
  },
  {
   "cell_type": "markdown",
   "metadata": {},
   "source": [
    "### CÓDIGO COMPLETO"
   ]
  },
  {
   "cell_type": "markdown",
   "metadata": {},
   "source": [
    "A continuación, se presenta el código completo del juego inteligente llamado  Michi en la computadora. El programa no solamente permite jugar al jugador humano sino que implementa la estrategia de búsqueda llamada estrategia aleatoria de modo que la máquina pueda realizar sus jugadas. \n",
    "\n",
    "Dado que el nivel de inteligencia implementado para la máquina es bajo,  se asume que la computadora no jugará bien y la mayoría de las veces perderá las partidas."
   ]
  },
  {
   "cell_type": "code",
   "execution_count": null,
   "metadata": {},
   "outputs": [
    {
     "name": "stdout",
     "output_type": "stream",
     "text": [
      "\n",
      "\n",
      "          ------ JUEGO DEL MICHI -----\n",
      "          Le gustaria comenzar el juego?\n",
      "          [1] Si\n",
      "          [2] NO\n",
      "          [3] Salir\n",
      "    \n",
      "Seleccione la opcion: \n",
      "1\n",
      "oponente incia juego\n",
      "[0, 0, 0, 0, 0, 0, 0, 0, 0]\n",
      "Ingrese tu movimiento: 1\n",
      "Mi movimiento:  1\n",
      "\n",
      "\n",
      "    O  |     |    \n",
      "   ----------------\n",
      "       |     |    \n",
      "   ----------------\n",
      "       |     |    \n",
      "\n",
      "\n",
      "ahora le toca jugar a la PC\n",
      "movimientos:  8\n",
      "Estrategia:  Movimiento Aleatorio\n",
      "\n",
      "\n",
      "    O  |     |    \n",
      "   ----------------\n",
      "       |     |    \n",
      "   ----------------\n",
      "       |  X  |    \n",
      "\n",
      "\n",
      "[1, 0, 0, 0, 0, 0, 0, 10, 0]\n",
      "Ingrese tu movimiento: 5\n",
      "Mi movimiento:  5\n",
      "\n",
      "\n",
      "    O  |     |    \n",
      "   ----------------\n",
      "       |  O  |    \n",
      "   ----------------\n",
      "       |  X  |    \n",
      "\n",
      "\n",
      "ahora le toca jugar a la PC\n",
      "movimientos:  7\n",
      "Estrategia:  Movimiento Aleatorio\n",
      "\n",
      "\n",
      "    O  |     |    \n",
      "   ----------------\n",
      "       |  O  |    \n",
      "   ----------------\n",
      "    X  |  X  |    \n",
      "\n",
      "\n",
      "[1, 0, 0, 0, 1, 0, 10, 10, 0]\n",
      "Ingrese tu movimiento: 9\n",
      "Mi movimiento:  9\n",
      "\n",
      "\n",
      "    O  |     |    \n",
      "   ----------------\n",
      "       |  O  |    \n",
      "   ----------------\n",
      "    X  |  X  |  O \n",
      "\n",
      "\n",
      "    Gana Oponente\n",
      "\n",
      "\n",
      "          ------ JUEGO DEL MICHI -----\n",
      "          Le gustaria comenzar el juego?\n",
      "          [1] Si\n",
      "          [2] NO\n",
      "          [3] Salir\n",
      "    \n"
     ]
    }
   ],
   "source": [
    "import random\n",
    "\n",
    "# variables para PC y Oponente\n",
    "pc = 10\n",
    "oponente = 1\n",
    "\n",
    "# tablero=[0,1,1,0,10,0,0,10,1]\n",
    "# crea tablero nuevo\n",
    "def crear_tablero():\n",
    "    tablero = [0, 0, 0, 0, 0, 0, 0, 0, 0]\n",
    "    # print(tablero)\n",
    "    return tablero\n",
    "\n",
    "\n",
    "# Convierte valores de 1 -> O e 10 -> X\n",
    "def convertir_a_letras(v):\n",
    "    if v == 1:\n",
    "        return \"O\"\n",
    "    elif v == 10:\n",
    "        return \"X\"\n",
    "    elif v == 0:\n",
    "        return \" \"\n",
    "\n",
    "\n",
    "def imprimir_fila(x, y, z):\n",
    "    print(\n",
    "        \"    {0}  |  {1}  |  {2} \".format(\n",
    "            convertir_a_letras(x), convertir_a_letras(y), convertir_a_letras(z)\n",
    "        )\n",
    "    )\n",
    "\n",
    "\n",
    "def imprimir_tablero(tablero):\n",
    "    print(\"\\n\")\n",
    "    imprimir_fila(tablero[0], tablero[1], tablero[2])\n",
    "    print(\"   ----------------\")\n",
    "    imprimir_fila(tablero[3], tablero[4], tablero[5])\n",
    "    print(\"   ----------------\")\n",
    "    imprimir_fila(tablero[6], tablero[7], tablero[8])\n",
    "    print(\"\\n\")\n",
    "\n",
    "\n",
    "def efectuar_movimiento(jugador, pos, tablero):\n",
    "    pos = pos\n",
    "    tablero[pos - 1] = jugador\n",
    "    return tablero\n",
    "\n",
    "\n",
    "# tripletas = [[1, 2, 3], [4, 5, 6], [7, 8, 9], [1, 4, 7], [2, 5, 8], [3, 6, 9], [1, 5, 9], [3, 5, 7]]\n",
    "(\n",
    "    tripleta1,\n",
    "    tripleta2,\n",
    "    tripleta3,\n",
    "    tripleta4,\n",
    "    tripleta5,\n",
    "    tripleta6,\n",
    "    tripleta7,\n",
    "    tripleta8,\n",
    ") = (\n",
    "    [1, 2, 3],\n",
    "    [4, 5, 6],\n",
    "    [7, 8, 9],\n",
    "    [1, 4, 7],\n",
    "    [2, 5, 8],\n",
    "    [3, 6, 9],\n",
    "    [1, 5, 9],\n",
    "    [3, 5, 7],\n",
    ")\n",
    "tripletas = [\n",
    "    tripleta1,\n",
    "    tripleta2,\n",
    "    tripleta3,\n",
    "    tripleta4,\n",
    "    tripleta5,\n",
    "    tripleta6,\n",
    "    tripleta7,\n",
    "    tripleta8,\n",
    "]\n",
    "\n",
    "\n",
    "# Suma los valores asociados a las posiciones de *tripleta*\n",
    "def suma_tripleta(tablero, tripleta):\n",
    "    a, b, c = tripleta[0] - 1, tripleta[1] - 1, tripleta[2] - 1\n",
    "    # print(a,b,c); se mando imprimir para verificacion\n",
    "    return tablero[a] + tablero[b] + tablero[c]\n",
    "\n",
    "\n",
    "# Fc iterativa que obtiene las sumas de las *tripletas* de un tablero\n",
    "def calcula_sumas(tablero):\n",
    "    # global sumas\n",
    "    sumas = []\n",
    "    for x in tripletas:\n",
    "        z = suma_tripleta(tablero, x)\n",
    "        sumas.append(z)\n",
    "    return sumas\n",
    "\n",
    "\n",
    "# Determina si hay un ganador en la partida\n",
    "def ganador_p(tablero):\n",
    "    sumas = calcula_sumas(tablero)\n",
    "    gana_op = False\n",
    "    gana_pc = False\n",
    "\n",
    "    if 3 in sumas:\n",
    "        gana_op = True\n",
    "        # print(ganador)\n",
    "\n",
    "    if 30 in sumas:\n",
    "        gana_pc = True\n",
    "        # print(ganador)\n",
    "\n",
    "    if gana_op == True and gana_pc == False:\n",
    "        ganador = gana_op\n",
    "    elif gana_op == False and gana_pc == True:\n",
    "        ganador = gana_pc\n",
    "    else:\n",
    "        ganador = False\n",
    "    return ganador\n",
    "\n",
    "\n",
    "def inicio():\n",
    "\n",
    "    print(\n",
    "        \"\"\"\\n\n",
    "          ------ JUEGO DEL MICHI -----\n",
    "          Le gustaria comenzar el juego?\n",
    "          [1] Si\n",
    "          [2] NO\n",
    "          [3] Salir\n",
    "    \"\"\"\n",
    "    )\n",
    "    opcion = int(input(\"Seleccione la opcion: \\n\"))\n",
    "\n",
    "    if opcion == 1:\n",
    "        print(\"oponente incia juego\")\n",
    "        movimiento_oponente(crear_tablero())\n",
    "    elif opcion == 2:\n",
    "        # print ('maquina inicia juego')\n",
    "        movimiento_pc(crear_tablero())\n",
    "    elif opcion == 3:\n",
    "        print(\"\\n\")\n",
    "        print(\"Saliendo ...\")\n",
    "\n",
    "\n",
    "def validar_movimiento(tablero):\n",
    "    global cent\n",
    "    print(tablero)\n",
    "    pos = int(input(\"Ingrese tu movimiento: \"))\n",
    "    if tablero[pos - 1] == 0:\n",
    "        pos = pos\n",
    "        cent = pos\n",
    "    else:\n",
    "        # pos=int(input(\"Ingrese un movimiento valido: \"))\n",
    "        print(\"casilla ocupada\")\n",
    "        validar_movimiento(tablero)\n",
    "\n",
    "    return pos\n",
    "\n",
    "\n",
    "def movimiento_oponente(tablero):\n",
    "\n",
    "    posi = validar_movimiento(tablero)\n",
    "\n",
    "    nuevo_tablero = efectuar_movimiento(oponente, cent, tablero)\n",
    "\n",
    "    print(\"Mi movimiento: \", posi)\n",
    "    imprimir_tablero(nuevo_tablero)\n",
    "\n",
    "    if ganador_p(nuevo_tablero) == True:\n",
    "        print(\"    Gana Oponente\")\n",
    "        inicio()\n",
    "    elif tablero_lleno_p == True:\n",
    "        print(\"    Empate\")\n",
    "    else:\n",
    "        movimiento_pc(nuevo_tablero)\n",
    "\n",
    "\n",
    "def tablero_lleno_p(tablero):  # Retorna True si no hay celdas vacias\n",
    "\n",
    "    for i in tablero:\n",
    "        # print(len(tablero))\n",
    "        # print(tablero[i])\n",
    "        if tablero[i] == 0:\n",
    "            print(tablero[i])\n",
    "            return False\n",
    "        else:\n",
    "            return True\n",
    "\n",
    "\n",
    "def movimiento_pc(tablero):\n",
    "    print(\"ahora le toca jugar a la PC\")\n",
    "    mejor_movimiento = escoger_estrategia_pc(tablero)\n",
    "    pos = mejor_movimiento[0]\n",
    "    estrategia = mejor_movimiento[1]\n",
    "\n",
    "    nuevo_tablero = efectuar_movimiento(pc, pos, tablero)\n",
    "\n",
    "    print(\"movimientos: \", pos)\n",
    "    print(\"Estrategia: \", estrategia)\n",
    "\n",
    "    imprimir_tablero(nuevo_tablero)\n",
    "\n",
    "    if ganador_p(nuevo_tablero) == True:\n",
    "        print(\"    Gana PC\")\n",
    "        inicio()\n",
    "    elif tablero_lleno_p == True:\n",
    "        print(\"    Empate\")\n",
    "    else:\n",
    "        movimiento_oponente(nuevo_tablero)\n",
    "\n",
    "    # return tablero\n",
    "\n",
    "\n",
    "def escoger_estrategia_pc(tablero):\n",
    "    mejor_movimiento = estrategia_aleatoria(tablero)\n",
    "    return mejor_movimiento\n",
    "\n",
    "\n",
    "def estrategia_aleatoria(tablero):\n",
    "\n",
    "    valor = seleccion_aleatoria_casillero_vacio(tablero)\n",
    "\n",
    "    tupla = valor, \"Movimiento Aleatorio\"\n",
    "\n",
    "    return tupla\n",
    "\n",
    "\n",
    "def seleccion_aleatoria_casillero_vacio(tablero):\n",
    "    pos = random.randint(0, 8)\n",
    "    # print(pos)\n",
    "\n",
    "    if tablero[pos - 1] != 0:\n",
    "        return seleccion_aleatoria_casillero_vacio(tablero)\n",
    "        # return pos\n",
    "    else:\n",
    "        pos = pos\n",
    "        return pos\n",
    "\n",
    "    return pos\n",
    "    # print(pos)\n",
    "\n",
    "\n",
    "inicio()"
   ]
  },
  {
   "cell_type": "markdown",
   "metadata": {},
   "source": [
    "### Ejercicios"
   ]
  },
  {
   "cell_type": "markdown",
   "metadata": {},
   "source": [
    "#### Ejercicio 1"
   ]
  },
  {
   "cell_type": "markdown",
   "metadata": {},
   "source": [
    "Verifique nuevamente las funciones definidas en la implementación. Con esa finalidad, llámelas con diferentes argumentos y, enseguida, interprételas. Comente sus resultados."
   ]
  },
  {
   "cell_type": "markdown",
   "metadata": {},
   "source": [
    "#### Ejercicio 2"
   ]
  },
  {
   "cell_type": "markdown",
   "metadata": {},
   "source": [
    "Interprete varias veces la celda que contiene el código completo del programa y juegue contra la  máquina. Comente y analice sus resultados."
   ]
  },
  {
   "cell_type": "markdown",
   "metadata": {},
   "source": [
    "## Instrucciones para el envío de la solución"
   ]
  },
  {
   "cell_type": "markdown",
   "metadata": {},
   "source": [
    "La solución de la \"Práctica Guiada de Laboratorio 5 Parte 2 - IA 2022-1 G1 EAPIS\" podrá enviarse como respuesta a la tarea del mismo nombre publicada en la clase de Classroom, hasta las 23:59 h del Miércoles 22 de Junio del 2022, en un archivo con extensión .ipynb.\n",
    "\n",
    "El documento deberá tener las sgtes características:\n",
    "\n",
    "Nombre del archivo: solPGL5-Parte2_IA_G1_nombre-apellidos.ipynb.\n",
    "\n",
    "Todas las preguntas de la Práctica deben responderse en este mismo cuaderno computacional; la solución a cada pregunta debe registrarse en una celda debajo del plnteamiento de la misma, mencionando explícitamente como subtítulo: \"Solución del ejercicio n\", donde \"n\" corresponde al número del ejercicio."
   ]
  },
  {
   "cell_type": "markdown",
   "metadata": {},
   "source": [
    "##### "
   ]
  }
 ],
 "metadata": {
  "kernelspec": {
   "display_name": "Python 3 (ipykernel)",
   "language": "python",
   "name": "python3"
  },
  "language_info": {
   "codemirror_mode": {
    "name": "ipython",
    "version": 3
   },
   "file_extension": ".py",
   "mimetype": "text/x-python",
   "name": "python",
   "nbconvert_exporter": "python",
   "pygments_lexer": "ipython3",
   "version": "3.10.5"
  }
 },
 "nbformat": 4,
 "nbformat_minor": 4
}
