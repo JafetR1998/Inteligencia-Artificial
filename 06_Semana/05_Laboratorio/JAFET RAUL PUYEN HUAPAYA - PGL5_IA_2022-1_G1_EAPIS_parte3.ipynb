{
 "cells": [
  {
   "cell_type": "markdown",
   "metadata": {},
   "source": [
    "# Práctica Guiada de Laboratorio 5: Implementación del juego inteligente *Michi en Python* - Parte 3\n",
    "\n",
    "## Curso \"Inteligencia Artificial\" Semestre 2022-1 - Grupo 1 - EAPIS\n",
    "\n",
    "### Prof. Rolando A. Maguiña Pérez\n",
    "### Junio 2022"
   ]
  },
  {
   "cell_type": "markdown",
   "metadata": {},
   "source": [
    "## Introducción"
   ]
  },
  {
   "cell_type": "markdown",
   "metadata": {},
   "source": [
    "En esta tercera parte, se presenta la implementación de la estrategia de búsqueda denominada Primero el Mejor que determinará las jugadas de la máquina. Con esa finalidad, se usará como base el programa  construido en la segunda parte y se insertarán en el código respectivo las funciones adecuadas que implementen la estrategia mencionada. Asimismo, el programa indicará la estrategia usada para efectuar dichos movimientos. "
   ]
  },
  {
   "cell_type": "code",
   "execution_count": 1,
   "metadata": {},
   "outputs": [
    {
     "data": {
      "image/png": "[encoded data removed]",
      "text/plain": [
       "<IPython.core.display.Image object>"
      ]
     },
     "execution_count": 1,
     "metadata": {},
     "output_type": "execute_result"
    }
   ],
   "source": [
    "from IPython.display import Image\n",
    "i = Image(filename='D:\\\\Cursos\\\\IA\\\\Python\\\\2021-1\\\\tablero_con_nros1.png')\n",
    "i"
   ]
  },
  {
   "cell_type": "markdown",
   "metadata": {},
   "source": [
    "## Estrategia Primero el Mejor"
   ]
  },
  {
   "cell_type": "markdown",
   "metadata": {},
   "source": [
    "## Implementación de la estrategia Primero el Mejor"
   ]
  },
  {
   "cell_type": "markdown",
   "metadata": {},
   "source": [
    "La implementación de esta estrategia de búsqueda para las jugadas de la máquina, requiere básicamente de tres pasos:\n",
    "- Generar los sucesores de un nodo.\n",
    "- Definir una función de evaluación ad hoc y aplicarla a los sucesores de dicho nodo.\n",
    "- Seleccionar el sucesor con mejor valor de evaluación."
   ]
  },
  {
   "cell_type": "markdown",
   "metadata": {},
   "source": [
    "### Generación de sucesores"
   ]
  },
  {
   "cell_type": "markdown",
   "metadata": {},
   "source": [
    "Definiremos una función para la generación de los sucesores que llamaremos `genmov(.)`. Antes,  debemos modificar la denominada `efectuar_movimiento(.)`; en la nueva versión de esta función, se crea previamente una copia del tablero, luego se efectúa el movimiento (coloca en la posición *pos* un aspa 'X' si es el jugador computadora o un círculo 'O' si es el jugador oponente). \n",
    "\n",
    "La nueva versión es:"
   ]
  },
  {
   "cell_type": "markdown",
   "metadata": {},
   "source": [
    "#### Función *efectuar_movimiento(.)*"
   ]
  },
  {
   "cell_type": "code",
   "execution_count": 1,
   "metadata": {},
   "outputs": [],
   "source": [
    "def efectuar_movimiento(jugador, pos, tablero):\n",
    "    tablero=tablero.copy()\n",
    "    pos=pos\n",
    "    tablero[pos-1]=jugador\n",
    "    return tablero"
   ]
  },
  {
   "cell_type": "markdown",
   "metadata": {},
   "source": [
    "Para comprobar el comportamiento de la función así definida,  luego de interpretarla la llamamos para marcar un aspa en la posición 3 del tablero:"
   ]
  },
  {
   "cell_type": "code",
   "execution_count": 2,
   "metadata": {},
   "outputs": [
    {
     "data": {
      "text/plain": [
       "[0, 0, 10, 0, 0, 0, 0, 0, 0]"
      ]
     },
     "execution_count": 2,
     "metadata": {},
     "output_type": "execute_result"
    }
   ],
   "source": [
    "efectuar_movimiento(10, 3, [0,0,0,0,0,0,0,0,0])"
   ]
  },
  {
   "cell_type": "markdown",
   "metadata": {},
   "source": [
    "#### Función *genmov(.)*"
   ]
  },
  {
   "cell_type": "markdown",
   "metadata": {},
   "source": [
    "La función `genmov(.)` toma un tablero y un jugador, y genera sus sucesores. Lo hace llamando a `efectuar_movimiento()`; antes verifica si la posición del movimiento corresponde a un casillero vacío, si corresponde, se efectúa el movimiento."
   ]
  },
  {
   "cell_type": "code",
   "execution_count": 3,
   "metadata": {},
   "outputs": [],
   "source": [
    "def genmov(tablero, jugador):\n",
    "    lista=[]\n",
    "    for i in range(0,9):\n",
    "        if (tablero[i-1]==0):\n",
    "            sucesor=efectuar_movimiento(jugador,i,tablero)\n",
    "            lista.append(sucesor)\n",
    "        else:\n",
    "            tablero[i-1]=tablero[i-1]\n",
    "    return lista    "
   ]
  },
  {
   "cell_type": "markdown",
   "metadata": {},
   "source": [
    "Verificando la función con un tablero sin jugada alguna, para el jugador humano."
   ]
  },
  {
   "cell_type": "code",
   "execution_count": 4,
   "metadata": {},
   "outputs": [
    {
     "data": {
      "text/plain": [
       "[[0, 0, 0, 0, 0, 0, 0, 0, 1],\n",
       " [1, 0, 0, 0, 0, 0, 0, 0, 0],\n",
       " [0, 1, 0, 0, 0, 0, 0, 0, 0],\n",
       " [0, 0, 1, 0, 0, 0, 0, 0, 0],\n",
       " [0, 0, 0, 1, 0, 0, 0, 0, 0],\n",
       " [0, 0, 0, 0, 1, 0, 0, 0, 0],\n",
       " [0, 0, 0, 0, 0, 1, 0, 0, 0],\n",
       " [0, 0, 0, 0, 0, 0, 1, 0, 0],\n",
       " [0, 0, 0, 0, 0, 0, 0, 1, 0]]"
      ]
     },
     "execution_count": 4,
     "metadata": {},
     "output_type": "execute_result"
    }
   ],
   "source": [
    "genmov([0,0,0,0,0,0,0,0,0],1)"
   ]
  },
  {
   "cell_type": "markdown",
   "metadata": {},
   "source": [
    "Verificando ahora la función con un tablero en el que se han realizado varias jugadas, para el jugador humano: "
   ]
  },
  {
   "cell_type": "code",
   "execution_count": 5,
   "metadata": {},
   "outputs": [
    {
     "data": {
      "text/plain": [
       "[[0, 1, 0, 10, 0, 10, 10, 1, 1],\n",
       " [1, 1, 0, 10, 0, 10, 10, 1, 0],\n",
       " [0, 1, 1, 10, 0, 10, 10, 1, 0],\n",
       " [0, 1, 0, 10, 1, 10, 10, 1, 0]]"
      ]
     },
     "execution_count": 5,
     "metadata": {},
     "output_type": "execute_result"
    }
   ],
   "source": [
    "genmov([0,1,0,10,0,10,10,1,0],1)"
   ]
  },
  {
   "cell_type": "markdown",
   "metadata": {},
   "source": [
    "Se observa que al llamársela con un tablero con varias jugadas realizadas y jugando el humano, la función generó los sucesores posibles: posiciones 1, 3, 5 y 9."
   ]
  },
  {
   "cell_type": "markdown",
   "metadata": {},
   "source": [
    "### Función de evaluación"
   ]
  },
  {
   "cell_type": "markdown",
   "metadata": {},
   "source": [
    "Se usará la FUNCIÓN DE EVALUACIÓN ESTATICA que  plantean Nilsson/Norvig en su libro  y que se presentó en clase de teoría:\n",
    "\n",
    "- Si *p* no es una posición ganadora para ningún jugador:\n",
    "\n",
    "       f(p) = (Nº filas, columnas y diagonales completas aun libres para MAX) - (Nº filas, columnas y diagonales completas aun libres para MIN)\n",
    "- Si *p* es una posición ganadora para MAX:\n",
    "\n",
    "       f(p) = +inf (donde +inf indica un número positivo muy grande)\n",
    "- Si *p* es una posición ganadora para MAX:\n",
    "\n",
    "       f(p) = -inf (donde -inf indica un número negativo muy grande)\n"
   ]
  },
  {
   "cell_type": "markdown",
   "metadata": {},
   "source": [
    "#### Función *feval(.)*"
   ]
  },
  {
   "cell_type": "markdown",
   "metadata": {},
   "source": [
    "Se implementará mediante la función `feval(.)`. Esta, a su vez,  se vale de las funciones `ganador_pc(.)` y `ganador_oponente(.)`, que calculan f(p) cuando *p*  corresponde a una posición ganadora de uno de los jugadores. Usa también la función denominada *lineas-abiertas(.)* que calcula f(p) mediante la diferencia entre líneas abiertas para MAX menos líneas abiertas para MIN."
   ]
  },
  {
   "cell_type": "code",
   "execution_count": 6,
   "metadata": {},
   "outputs": [],
   "source": [
    "# Fc de evaluacion; \n",
    "def feval(tablero):\n",
    "    if(ganador_pc(tablero)==True):\n",
    "        res = 10000\n",
    "        return res\n",
    "    elif(ganador_oponente(tablero)==True):\n",
    "        res = -10000\n",
    "        return res\n",
    "    else:\n",
    "        return lineas_abiertas(tablero)"
   ]
  },
  {
   "cell_type": "markdown",
   "metadata": {},
   "source": [
    "Debemos definir ahora las funciones `ganador_pc(.)`, `ganador_oponente(.)` y `lineas_abiertas(.)`, para poder usar `feval(.)`."
   ]
  },
  {
   "cell_type": "markdown",
   "metadata": {},
   "source": [
    "#### Función *ganador_pc(.)*"
   ]
  },
  {
   "cell_type": "code",
   "execution_count": 7,
   "metadata": {},
   "outputs": [],
   "source": [
    "def ganador_pc(tablero):\n",
    "    sumas = calcula_sumas(tablero) \n",
    "    if 30 in sumas:\n",
    "        return True\n",
    "    else:\n",
    "        return False"
   ]
  },
  {
   "cell_type": "markdown",
   "metadata": {},
   "source": [
    "Llamamos a la función para comprobar su funcionamiento; previamente, recordamos las definiciones de las funciones `suma_tripleta(.)` y `calcula_sumas(.)`, y las interpretamos:"
   ]
  },
  {
   "cell_type": "code",
   "execution_count": 8,
   "metadata": {},
   "outputs": [],
   "source": [
    "tripletas = [[1, 2, 3], [4, 5, 6], [7, 8, 9], [1, 4, 7], [2, 5, 8], [3, 6, 9], [1, 5, 9], [3, 5, 7]]\n",
    "\n",
    "def suma_tripleta(tablero, tripleta):\n",
    "    a, b, c = tripleta[0]-1, tripleta[1]-1, tripleta[2]-1\n",
    "    return tablero[a] + tablero[b] + tablero[c]\n",
    "\n",
    "def calcula_sumas(tablero):\n",
    "    sumas = []\n",
    "    for x in tripletas:\n",
    "        z = suma_tripleta(tablero, x)\n",
    "        sumas.append(z)\n",
    "    return sumas "
   ]
  },
  {
   "cell_type": "code",
   "execution_count": 9,
   "metadata": {},
   "outputs": [
    {
     "data": {
      "text/plain": [
       "True"
      ]
     },
     "execution_count": 9,
     "metadata": {},
     "output_type": "execute_result"
    }
   ],
   "source": [
    "ganador_pc([10,10,10,1,0,0,1,0,1])"
   ]
  },
  {
   "cell_type": "code",
   "execution_count": 10,
   "metadata": {},
   "outputs": [
    {
     "data": {
      "text/plain": [
       "False"
      ]
     },
     "execution_count": 10,
     "metadata": {},
     "output_type": "execute_result"
    }
   ],
   "source": [
    "ganador_pc([1,1,10,10,0,0,10,0,1])"
   ]
  },
  {
   "cell_type": "markdown",
   "metadata": {},
   "source": [
    "#### Función *ganador_oponente()*"
   ]
  },
  {
   "cell_type": "code",
   "execution_count": 11,
   "metadata": {},
   "outputs": [],
   "source": [
    "def ganador_oponente(tablero):\n",
    "    sumas = calcula_sumas(tablero) \n",
    "    if 3 in sumas:\n",
    "        return True\n",
    "    else:\n",
    "        return False"
   ]
  },
  {
   "cell_type": "markdown",
   "metadata": {},
   "source": [
    "Llamamos a la función para comprobar su funcionamiento:"
   ]
  },
  {
   "cell_type": "code",
   "execution_count": 12,
   "metadata": {},
   "outputs": [
    {
     "data": {
      "text/plain": [
       "False"
      ]
     },
     "execution_count": 12,
     "metadata": {},
     "output_type": "execute_result"
    }
   ],
   "source": [
    "ganador_oponente([10,10,10,1,0,0,1,0,1])"
   ]
  },
  {
   "cell_type": "code",
   "execution_count": 13,
   "metadata": {},
   "outputs": [
    {
     "data": {
      "text/plain": [
       "True"
      ]
     },
     "execution_count": 13,
     "metadata": {},
     "output_type": "execute_result"
    }
   ],
   "source": [
    "ganador_oponente([1,1,1,10,0,0,10,0,10])"
   ]
  },
  {
   "cell_type": "markdown",
   "metadata": {},
   "source": [
    "#### Función *lineas_abiertas(.)*"
   ]
  },
  {
   "cell_type": "markdown",
   "metadata": {},
   "source": [
    "Para las posiciones que no corresponden a la victoria de uno de los jugadores, hace lo sgte:\n",
    "- Para cada elemento de *sumas*  \n",
    "    - La condicional IF verifica los valores de c/u de ellos:\n",
    "        - Si es 0: suma 1 a *abiertasX* y a *abiertasO*\n",
    "        - Si es 1: suma 1 a *abiertasO*\n",
    "        - Si es 2: suma 1 a *abiertasO*\n",
    "        - Si es 10: suma 1 a *abiertasX*\n",
    "        - Si es 20: suma 1 a *abiertasX*\n",
    "- Devuelve (*abiertasX* – *abiertasO*)"
   ]
  },
  {
   "cell_type": "code",
   "execution_count": 14,
   "metadata": {},
   "outputs": [],
   "source": [
    "def lineas_abiertas(tab):\n",
    "    sumas = calcula_sumas(tab)\n",
    "    abiertasX = 0\n",
    "    abiertasO = 0\n",
    "    for s in sumas:\n",
    "        if(s==0):\n",
    "            abiertasX = abiertasX + 1\n",
    "            abiertasO = abiertasO + 1\n",
    "        elif(s==1):\n",
    "            abiertasO = abiertasO + 1\n",
    "        elif(s==2):\n",
    "            abiertasO = abiertasO + 1\n",
    "        elif(s==10):\n",
    "            abiertasX = abiertasX + 1\n",
    "        elif(s==20):\n",
    "            abiertasX = abiertasX + 1\n",
    "            \n",
    "    res = abiertasX - abiertasO\n",
    "    return res"
   ]
  },
  {
   "cell_type": "markdown",
   "metadata": {},
   "source": [
    "Llamamos a la función para comprobar su funcionamiento:"
   ]
  },
  {
   "cell_type": "code",
   "execution_count": 15,
   "metadata": {},
   "outputs": [
    {
     "data": {
      "text/plain": [
       "2"
      ]
     },
     "execution_count": 15,
     "metadata": {},
     "output_type": "execute_result"
    }
   ],
   "source": [
    "lineas_abiertas([0,1,0,0,10,0,0,0,0])"
   ]
  },
  {
   "cell_type": "code",
   "execution_count": 16,
   "metadata": {},
   "outputs": [
    {
     "data": {
      "text/plain": [
       "1"
      ]
     },
     "execution_count": 16,
     "metadata": {},
     "output_type": "execute_result"
    }
   ],
   "source": [
    "lineas_abiertas([10,1,0,1,0,10,0,0,0])"
   ]
  },
  {
   "cell_type": "code",
   "execution_count": 17,
   "metadata": {},
   "outputs": [
    {
     "data": {
      "text/plain": [
       "0"
      ]
     },
     "execution_count": 17,
     "metadata": {},
     "output_type": "execute_result"
    }
   ],
   "source": [
    "lineas_abiertas([0,1,0,0,0,0,0,10,0])"
   ]
  },
  {
   "cell_type": "markdown",
   "metadata": {},
   "source": [
    "Llamamos a `feval(.)` para comprobar su funcionamiento:"
   ]
  },
  {
   "cell_type": "code",
   "execution_count": 18,
   "metadata": {},
   "outputs": [
    {
     "data": {
      "text/plain": [
       "-10000"
      ]
     },
     "execution_count": 18,
     "metadata": {},
     "output_type": "execute_result"
    }
   ],
   "source": [
    "feval([1,1,1,10,10,0,0,0,10])"
   ]
  },
  {
   "cell_type": "code",
   "execution_count": 19,
   "metadata": {},
   "outputs": [
    {
     "data": {
      "text/plain": [
       "10000"
      ]
     },
     "execution_count": 19,
     "metadata": {},
     "output_type": "execute_result"
    }
   ],
   "source": [
    "feval([1,1,0,0,1,0,10,10,10])"
   ]
  },
  {
   "cell_type": "markdown",
   "metadata": {},
   "source": [
    "Para comprobar que llama correctamente a *lineas_abiertas(.)*, llamamos nuevamente a la función *feval(.)* pasándole como argumento un tablero en el que no hay un ganador."
   ]
  },
  {
   "cell_type": "code",
   "execution_count": 20,
   "metadata": {},
   "outputs": [
    {
     "data": {
      "text/plain": [
       "2"
      ]
     },
     "execution_count": 20,
     "metadata": {},
     "output_type": "execute_result"
    }
   ],
   "source": [
    "feval([1,1,0,0,10,0,0,0,10])"
   ]
  },
  {
   "cell_type": "code",
   "execution_count": 21,
   "metadata": {},
   "outputs": [
    {
     "data": {
      "text/plain": [
       "2"
      ]
     },
     "execution_count": 21,
     "metadata": {},
     "output_type": "execute_result"
    }
   ],
   "source": [
    "feval([0,1,0,0,10,0,0,0,0])"
   ]
  },
  {
   "cell_type": "markdown",
   "metadata": {},
   "source": [
    "### Selección de estrategia a usar por la máquina "
   ]
  },
  {
   "cell_type": "markdown",
   "metadata": {},
   "source": [
    "A la función `escoger_estrategia_pc(.)` sólo se le cambiará la estrategia para las jugadas de la máquina, usándose ahora la `estrategia_primero_el_mejor(.)` en lugar de `estrategia_aleatoria()`. "
   ]
  },
  {
   "cell_type": "markdown",
   "metadata": {},
   "source": [
    "#### Función *escoger_estrategia_pc(.)*"
   ]
  },
  {
   "cell_type": "code",
   "execution_count": 22,
   "metadata": {},
   "outputs": [],
   "source": [
    "def escoger_estrategia_pc(tablero):\n",
    "    mejor_movimiento = estrategia_primero_el_mejor(tablero)\n",
    "    return mejor_movimiento"
   ]
  },
  {
   "cell_type": "markdown",
   "metadata": {},
   "source": [
    "#### Función *estrategia_primero_el_mejor(.)*"
   ]
  },
  {
   "cell_type": "markdown",
   "metadata": {},
   "source": [
    "Llama a la función `seleccion-primero-el-mejor(.)` con dos argumentos, *tablero* y  *pc*. Devuelve una tupla con la posición elegida para marcar un aspa  y un texto descriptivo."
   ]
  },
  {
   "cell_type": "code",
   "execution_count": 24,
   "metadata": {},
   "outputs": [],
   "source": [
    "def estrategia_primero_el_mejor(tablero):\n",
    "   \n",
    "    valor=seleccion_primero_el_mejor(tablero,pc)\n",
    "    \n",
    "    tupla= valor,\"Movimiento por Primero el Mejor\"\n",
    "    \n",
    "    return tupla"
   ]
  },
  {
   "cell_type": "markdown",
   "metadata": {},
   "source": [
    "#### Selección del mejor sucesor"
   ]
  },
  {
   "cell_type": "markdown",
   "metadata": {},
   "source": [
    "Se implementará con `sucesores_con_evaluacion(.)` y `seleccion_primero_el_mejor(.)`. La primera función devuelve una lista de sucesores con su respectivo valor de evaluación, y la segunda, selecciona el mejor sucesor."
   ]
  },
  {
   "cell_type": "markdown",
   "metadata": {},
   "source": [
    "####  Función *sucesores_con_evaluacion(.)*"
   ]
  },
  {
   "cell_type": "markdown",
   "metadata": {},
   "source": [
    "Esta función recibe como parámetros un tablero y una lista  *sucesores*  conteniendo justamente los tableros sucesores. Para calcular el valor de evaluación de los sucesores aplica `feval(.)` a c/u de ellos, luego junta en una nueva lista cada sucesor con el valor obtenido. "
   ]
  },
  {
   "cell_type": "code",
   "execution_count": 25,
   "metadata": {},
   "outputs": [],
   "source": [
    "def sucesores_con_evaluacion(tablero, sucesores):\n",
    "    sucesores_peso = []\n",
    "    for n in sucesores:\n",
    "        a = feval(n)\n",
    "        lista = [n,a]\n",
    "        sucesores_peso.append(lista)\n",
    "    return sucesores_peso"
   ]
  },
  {
   "cell_type": "markdown",
   "metadata": {},
   "source": [
    "Llamamos a la función para comprobar su funcionamiento; antes, definimos un tablero para enseguida generar sus sucesores."
   ]
  },
  {
   "cell_type": "code",
   "execution_count": 26,
   "metadata": {},
   "outputs": [
    {
     "data": {
      "text/plain": [
       "[[[0, 1, 0, 0, 0, 0, 0, 10, 1], -3],\n",
       " [[1, 1, 0, 0, 0, 0, 0, 10, 0], -2],\n",
       " [[0, 1, 1, 0, 0, 0, 0, 10, 0], -2],\n",
       " [[0, 1, 0, 1, 0, 0, 0, 10, 0], -2],\n",
       " [[0, 1, 0, 0, 1, 0, 0, 10, 0], -3],\n",
       " [[0, 1, 0, 0, 0, 1, 0, 10, 0], -2],\n",
       " [[0, 1, 0, 0, 0, 0, 1, 10, 0], -3]]"
      ]
     },
     "execution_count": 26,
     "metadata": {},
     "output_type": "execute_result"
    }
   ],
   "source": [
    "tablero = [0,1,0,0,0,0,0,10,0]\n",
    "sucesores = genmov(tablero,1)\n",
    "#sucesores\n",
    "d = sucesores_con_evaluacion(tablero,sucesores)\n",
    "d"
   ]
  },
  {
   "cell_type": "markdown",
   "metadata": {},
   "source": [
    "#### Función *selección_primero_el_mejor()* "
   ]
  },
  {
   "cell_type": "markdown",
   "metadata": {},
   "source": [
    "En esta función se genera la lista de sucesores con sus respectivos valores de evaluación y luego de haberlos ordenado, se obtiene la posición donde se marcó el aspa 'X' en el mejor tablero; busca mediante el bucle *while* dicha posición *i* en el tablero."
   ]
  },
  {
   "cell_type": "code",
   "execution_count": 27,
   "metadata": {},
   "outputs": [],
   "source": [
    "from operator import itemgetter\n",
    "\n",
    "def seleccion_primero_el_mejor(tablero,jugador):\n",
    "    sucesores = genmov(tablero,jugador)\n",
    "    sucesores_peso = sucesores_con_evaluacion(tablero,sucesores)\n",
    "    sucesores_ordenados = sorted(sucesores_peso, key=itemgetter(1)).pop()\n",
    "    z = sucesores_ordenados[0]\n",
    "    # Obtiene el índice donde se marco el aspa \n",
    "    i = 0\n",
    "    while (z[i]==tablero[i]):\n",
    "        i = i + 1\n",
    "    return i+1"
   ]
  },
  {
   "cell_type": "markdown",
   "metadata": {},
   "source": [
    "Llamamos a la función para comprobar su funcionamiento:"
   ]
  },
  {
   "cell_type": "code",
   "execution_count": 28,
   "metadata": {},
   "outputs": [
    {
     "data": {
      "text/plain": [
       "5"
      ]
     },
     "execution_count": 28,
     "metadata": {},
     "output_type": "execute_result"
    }
   ],
   "source": [
    "seleccion_primero_el_mejor([0,0,0,0,0,0,0,0,0],10)"
   ]
  },
  {
   "cell_type": "code",
   "execution_count": 29,
   "metadata": {},
   "outputs": [
    {
     "data": {
      "text/plain": [
       "6"
      ]
     },
     "execution_count": 29,
     "metadata": {},
     "output_type": "execute_result"
    }
   ],
   "source": [
    "seleccion_primero_el_mejor([0,1,0,0,0,0,0,10,0],1)"
   ]
  },
  {
   "cell_type": "markdown",
   "metadata": {},
   "source": [
    "## Ejercicios"
   ]
  },
  {
   "cell_type": "markdown",
   "metadata": {},
   "source": [
    "### Paso previo"
   ]
  },
  {
   "cell_type": "markdown",
   "metadata": {},
   "source": [
    "Como se indicó en la parte inicial de este documento, se usará como base el código del programa construido en la segunda parte y se insertarán en él, las funciones que implementan la estrategia primero el mejor. Los pasos para obtener este objetivo son:\n",
    "\n",
    "- Reemplazar en el código usado para la estrategia aleatoria, la nueva versión de la función *efectuar_movimiento(.)*.\n",
    "- Incorporar en dicho código las sgtes funciones:\n",
    "    - `genmov(.)`.\n",
    "    - `feval(.)`, `ganador_pc(.)`, `ganador_oponente(.)` y `lineas_abiertas(.)`.\n",
    "    - `sucesores_con_evaluacion()` y `seleccion_primero_el_mejor(.)`.\n",
    "\n",
    "Enseguida ya se podrá interpretar el código completo. Dado que el nivel de inteligencia implementado para la máquina es más alto que el correspondiente a la estrategia aleatoria, se espera que, comparativamente, la computadora mejore en su juego."
   ]
  },
  {
   "cell_type": "markdown",
   "metadata": {},
   "source": [
    "### Ejercicio 1\n",
    "Respecto de las funciones definidas en la implementación de la estrategia primero el mejor para las jugadas de la máquina, hacer:\n",
    "- Interpretar c/u de ellas, luego llamarlas con los argumentos adecuados (usar diversos argumentos y, cuando sea el caso, hacerlo tanto para la máquina como para el jugador humano). Comente sus resultados. "
   ]
  },
  {
   "cell_type": "markdown",
   "metadata": {},
   "source": [
    "### Ejercicio 2\n",
    "- Optimizar el código presentado."
   ]
  },
  {
   "cell_type": "markdown",
   "metadata": {},
   "source": [
    "### Instrucciones para el envío de la solución"
   ]
  },
  {
   "cell_type": "markdown",
   "metadata": {},
   "source": [
    "- La solución de la \"Práctica Guiada de Laboratorio 5 Parte 3 - IA 2022-1 G1 EPIS\" podrá enviarse como respuesta a la tarea del mismo nombre publicada en la clase de Classroom, hasta las 23:59 h del Domingo 03 de Julio del 2022, en un archivo con extensión .ipynb.\n",
    "\n",
    "- El documento deberá tener las sgtes características:\n",
    "\n",
    "Nombre del archivo: solPGL5_Parte3_IA_G1_nombre-apellidos.ipynb.\n",
    "\n",
    "- Todas las preguntas de la Práctica deben responderse en este mismo cuaderno computacional; la solución a cada pregunta debe registrarse en una celda debajo del planteamiento de la misma."
   ]
  }
 ],
 "metadata": {
  "kernelspec": {
   "display_name": "Python 3.9.1 64-bit",
   "language": "python",
   "name": "python3"
  },
  "language_info": {
   "codemirror_mode": {
    "name": "ipython",
    "version": 3
   },
   "file_extension": ".py",
   "mimetype": "text/x-python",
   "name": "python",
   "nbconvert_exporter": "python",
   "pygments_lexer": "ipython3",
   "version": "3.9.1"
  },
  "vscode": {
   "interpreter": {
    "hash": "0939435234290e289e537165355665417414fde0546697e418ab408eb8ad7c97"
   }
  }
 },
 "nbformat": 4,
 "nbformat_minor": 4
}
