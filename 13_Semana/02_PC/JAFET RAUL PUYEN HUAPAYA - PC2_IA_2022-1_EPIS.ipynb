{
 "cells": [
  {
   "cell_type": "markdown",
   "id": "586e9cb1",
   "metadata": {},
   "source": [
    "# Práctica Calificada 2 - Inteligencia Artificial G1 (EAPIS) 2022-1"
   ]
  },
  {
   "cell_type": "markdown",
   "id": "5469a13c",
   "metadata": {},
   "source": [
    "### Prof. Rolando Alberto Maguiña Pérez"
   ]
  },
  {
   "cell_type": "markdown",
   "id": "e0d59f03",
   "metadata": {},
   "source": [
    "# Sistemas de Inferencia Difusa"
   ]
  },
  {
   "cell_type": "markdown",
   "id": "b329fd13",
   "metadata": {},
   "source": [
    "## Introducción"
   ]
  },
  {
   "cell_type": "markdown",
   "id": "2bc00ca0",
   "metadata": {},
   "source": [
    "Esta Práctica Calificada 2 del curso, a realizarse el Lunes 01 de Agosto del presente, está basada en el ejercicio sobre el diseño y desarrollo de un sistema inteligente que se presentó durante la sesión de teoría realizada la sesión pasada, sobre un sistema de inferncia difusa que determina el tiempo de lavado de un conjunto de prendas a partir del nivel de limpieza que tengan y del tipo de suciedad control difuso de una máquina lavadora.\n",
    "\n",
    "Esta Práctica se resolverá mediante la herramienta denominada Jupyter Notebook junto con la biblioteca de Python denominada *scikit-fuzzy* o *skfuzzy*. Se podrá resolver localmente con la herramienta Jupyter Notebook o, alternativamente, utilizando algún servicio en la nube tal como Google Collab o CoCalc.\n",
    "\n",
    "En esta ocasión, se pretende ilustrar una vez más la capacidad de la lógica difusa para generar un comportamiento complejo a partir de un conjunto compacto e intuitivo de reglas provenientes de un experto en el dominio."
   ]
  },
  {
   "cell_type": "markdown",
   "id": "cc8ba269",
   "metadata": {},
   "source": [
    "## Objetivos"
   ]
  },
  {
   "cell_type": "markdown",
   "id": "4269ac05",
   "metadata": {},
   "source": [
    "- Presentar de forma sucinta los conceptos básicos de un sistema de inferencia difusa. \n",
    "- Construir dos sistemas de inferencia difusa (sistema experto basado en Lógica Difusa) que permitan resolver los ejercicios planteados, sobre el caso de estudio mencionado."
   ]
  },
  {
   "cell_type": "markdown",
   "id": "9ea7e8d1",
   "metadata": {},
   "source": [
    "## Lineamientos generales"
   ]
  },
  {
   "cell_type": "markdown",
   "id": "454cc233",
   "metadata": {},
   "source": [
    "### Descripción del problema"
   ]
  },
  {
   "cell_type": "markdown",
   "id": "ae249612",
   "metadata": {},
   "source": [
    "Se pretende diseñar y desarrollar un sistema de inferencia difuso que determine de forma automatizada el tiempo de lavado para un grupo de prendas. Esas prendas tienen diferentes características de tamaño, tela con la que fue confeccionada, nivel de suciedad, tipo de suciedad, entre otras.\n",
    "\n",
    "Asimismo, se podrá disponer de un ejemplo docente para semestres venideros que permita mostrar las principales características de esta técnica con la herramienta denominada Jupyter Notebook. Para la práctica, se trabajará localmente con dicha herramienta o utilizando algún servicio en la nube tal como Google Collab o CoCalc."
   ]
  },
  {
   "cell_type": "markdown",
   "id": "3cce204a",
   "metadata": {},
   "source": [
    "### Construcción del SID "
   ]
  },
  {
   "cell_type": "markdown",
   "id": "fb87290b",
   "metadata": {},
   "source": [
    "#### Diseño del sistema"
   ]
  },
  {
   "cell_type": "markdown",
   "id": "0bdbd979",
   "metadata": {},
   "source": [
    "Como sabemos, se requiere determinar mediante análisis las variables de entrada y de salida para el problema planteado. Para c/u de ellas se deberá determinar su universo de discurso (como se indica previamente, cada variable difusa tiene un rango de valores nítidos al que se le denomina así), el particionamiento y el traslape entre las particiones. Como sabemos, a cada partición le corresponde un término linguístico.\n",
    "\n",
    "Para el caso de estudio, las variables linguísticas de entrada y de salida están completamente determinadas (ver diapositivas correspondientes y artículo proporcionado)."
   ]
  },
  {
   "cell_type": "markdown",
   "id": "00246dcb",
   "metadata": {},
   "source": [
    "#### Reglas difusas"
   ]
  },
  {
   "cell_type": "markdown",
   "id": "60f92852",
   "metadata": {},
   "source": [
    "Definimos ahora la *relación difusa* entre las variables de entrada y de salida del caso de estudio, a través de las reglas difusas. "
   ]
  },
  {
   "cell_type": "markdown",
   "id": "557262eb",
   "metadata": {},
   "source": [
    "Las reglas difusas para el caso de estudio se han definido con anterioridad (ver diapositivas correspondientes y artículo proporcionado). "
   ]
  },
  {
   "cell_type": "markdown",
   "id": "4078a41e",
   "metadata": {},
   "source": [
    "### Implementación en el scikit-fuzzy"
   ]
  },
  {
   "cell_type": "markdown",
   "id": "8eec661b",
   "metadata": {},
   "source": [
    "Se pueden usar las bibliotecas Numpy y skfuzzy de Python para la resolución de los ejercicios planteados (y también para replicar los resultados que se obtuvieron en el caso de estudio indicado); alternativamente, se puede utilizar la 'skfuzzy control system API' (API del sistema de inferencia difusa del skfuzzy) para modelizar este problema."
   ]
  },
  {
   "cell_type": "markdown",
   "id": "7a735065",
   "metadata": {},
   "source": [
    "Cuando sea necesario se puede usar la biblioteca de Python llamada Matplotlib, la cual nos ayudará en la obtención de los gráficos a presentar (entre otras cosas, para visualizar los universos de discurso y las funciones de pertenencia, definidas para cada variable)."
   ]
  },
  {
   "cell_type": "markdown",
   "id": "f47ceb54",
   "metadata": {},
   "source": [
    "## Ejercicios"
   ]
  },
  {
   "cell_type": "markdown",
   "id": "1b585aba",
   "metadata": {},
   "source": [
    "### Ejercicio 1"
   ]
  },
  {
   "cell_type": "markdown",
   "id": "53a52afc",
   "metadata": {},
   "source": [
    "Considere para el problema de la lavadora que sus sensores ópticos indican los siguientes valores de las variables de entrada:\n",
    "\n",
    "Dirtness_of_clothes = 30 \t\t\tType_of_dirt = 15\n",
    "\n",
    "- Obtenga el valor de salida del controlador fuzzy. Use el método exacto para la borrosificación (determinar exactamente los valores resultantes); con esa finalidad, **defina la(s) función(funciones) que se requieran**. Luego determine el valor de salida del controlador, usando el  centro de máximos CoM como método de desborrosificación. \t(13 puntos)\n",
    "- **Recomendación**: previamente se recomienda leer e interpretar el caso de estudio “Control difuso de una máquina lavadora” presentado en clases, tratando de replicar los resultados obtenidos. "
   ]
  },
  {
   "cell_type": "markdown",
   "id": "c697ea0d",
   "metadata": {},
   "source": [
    "### Ejercicio 2"
   ]
  },
  {
   "cell_type": "markdown",
   "id": "85f12d39",
   "metadata": {},
   "source": [
    "- Replique los resultados conseguidos en el artículo \"Washing Machine Controller Using Fuzzy Logic Technique\" Sweta Gautam1 & Rohit Miri2 & S R Tandan. **Considere el caso 3 solamente**. Use la herramienta llamada `sklearn` para tal efecto. (7 puntos)"
   ]
  },
  {
   "cell_type": "markdown",
   "id": "b58f7b1f",
   "metadata": {},
   "source": [
    "_Notas_: \n",
    "- Describa los pasos contemplados en la utilización de dicha API o de las bibiotecas Numpy y skfuzzy, según se haya usado en los ejercicios planteados. "
   ]
  },
  {
   "cell_type": "markdown",
   "id": "be6f93a3",
   "metadata": {},
   "source": [
    "### Instrucciones para el envío de la solución\n"
   ]
  },
  {
   "cell_type": "markdown",
   "id": "eb4a9eff",
   "metadata": {},
   "source": [
    "La solución de la \"Práctica Calificada 2 IA 2022-1 G1 EPIS\" podrá enviarse como respuesta a la tarea del mismo nombre publicada en la clase de Classroom, hasta las 23:59 h del Lunes 01 de Agosto del 2022, en un archivo con extensión .ipynb. \n",
    "\n",
    "El documento deberá tener las sgtes características:\n",
    "- Nombre del archivo: sol_PC2_IA_EPIS_2022-1_nombre-apellidos.ipynb.\n",
    "- Todas las preguntas de la Práctica Calificada deben responderse en el mismo cuaderno computacional; la solución a cada pregunta debe registrarse en una celda debajo del planteamiento de la misma, mencionando explícitamente como subtítulo: \"Solución del ejercicio n\", donde \"n\" corresponde al número del ejercicio."
   ]
  }
 ],
 "metadata": {
  "kernelspec": {
   "display_name": "Python 3.9.1 64-bit",
   "language": "python",
   "name": "python3"
  },
  "language_info": {
   "codemirror_mode": {
    "name": "ipython",
    "version": 3
   },
   "file_extension": ".py",
   "mimetype": "text/x-python",
   "name": "python",
   "nbconvert_exporter": "python",
   "pygments_lexer": "ipython3",
   "version": "3.9.1"
  },
  "vscode": {
   "interpreter": {
    "hash": "0939435234290e289e537165355665417414fde0546697e418ab408eb8ad7c97"
   }
  }
 },
 "nbformat": 4,
 "nbformat_minor": 5
}
