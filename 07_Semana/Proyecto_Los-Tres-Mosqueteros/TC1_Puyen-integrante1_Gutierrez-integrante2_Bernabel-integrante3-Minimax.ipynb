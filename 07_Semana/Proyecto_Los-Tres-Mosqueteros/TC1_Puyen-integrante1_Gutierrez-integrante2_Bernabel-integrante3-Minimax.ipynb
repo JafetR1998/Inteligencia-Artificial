{
 "cells": [
  {
   "cell_type": "markdown",
   "id": "85cfe9de-7b63-4c01-85a3-85bff55ea36b",
   "metadata": {},
   "source": [
    "---\n",
    "\n",
    "<br><br><br>\n",
    "<h2><font color=\"#004D7F\" size=4>Inteligencia Artificial - Grupo 5</font></h2>\n",
    "\n",
    "\n",
    "\n",
    "<h1><font color=\"#004D7F\" size=5>Juego: Los Tres Mosqueteros</font></h1>\n",
    "\n",
    "<br><br>\n",
    "<div style=\"text-align: right\">\n",
    "<font color=\"#004D7F\" size=3>Universidad Nacional Mayor de San Marcos</font><br>\n",
    "<font color=\"#004D7F\" size=3>Facultad de Ingenieria de Sistemas e Informatica</font><br>\n",
    "<font color=\"#004D7F\" size=3>Escuela Academica Prosefesional de Ingenieria de Sistemas</font><br>\n",
    "</div>\n",
    "\n",
    "---"
   ]
  },
  {
   "cell_type": "markdown",
   "id": "a5fce9c4-d010-49a9-8a3a-cdbc4dba6463",
   "metadata": {},
   "source": [
    "<h3> Integrantes del Grupo </h3>\n",
    "\n",
    "<table class=\"table table-bordered\">\n",
    "<tr>\n",
    "<th style=\"width:10%\">Codigo</th><th style=\"width:45%\">Apellidos</th><th>Nombres</th>\n",
    "</tr>\n",
    "<tr>\n",
    "<td>1920039</td>\n",
    "<td>Puyen Huapaya</td>\n",
    "<td>Jafet Raul</td>\n",
    "</tr>\n",
    "<tr>\n",
    "<td>19200020</td>\n",
    "<td>Gutierrez Caruajulca</td>\n",
    "<td>Javier Antonio</td>\n",
    "</tr>\n",
    "<tr>\n",
    "<td>19200003</td>\n",
    "<td>Bernabel Mancilla</td>\n",
    "<td>Axell Hernan</td>\n",
    "</tr>\n",
    "</table>"
   ]
  },
  {
   "cell_type": "markdown",
   "id": "ebe38387-203f-4886-88e9-28755e5aa164",
   "metadata": {},
   "source": [
    "<html>\n",
    "<body>\n",
    "<h1><font style=\"font-family:verdana\" color=\"#004D7F\" size=5>Estrategia Implementada</font></h1>\n",
    "</body>\n",
    "</html>"
   ]
  },
  {
   "cell_type": "markdown",
   "id": "46b51809-6952-4a0c-8919-dc00c51b8ce4",
   "metadata": {},
   "source": [
    "- Algoritmo Minimax"
   ]
  },
  {
   "cell_type": "markdown",
   "id": "d0e0c382-95eb-4ddd-b764-d64ec87d77cd",
   "metadata": {},
   "source": [
    "<html>\n",
    "<body>\n",
    "<h1><font style=\"font-family:verdana\" color=\"#004D7F\" size=5>Implementación del Codigo</font></h1>\n",
    "</body>\n",
    "</html>"
   ]
  },
  {
   "cell_type": "markdown",
   "id": "e348c2da",
   "metadata": {},
   "source": [
    "## Obtener cordenadas frontales\n",
    "Dada una cordenadas en el tablero, con esta función podemos obtener las cordenadas adyacentes pero no en sentido diagonal."
   ]
  },
  {
   "cell_type": "code",
   "execution_count": 2,
   "id": "7f1df48f",
   "metadata": {},
   "outputs": [],
   "source": [
    "def obtenerCordenadasFrontales(cordenadas):\n",
    "    \"Esta fucion nos permite obtener las cordenadas frontales y laterales dada una cordenada\"\n",
    "    frontales = []\n",
    "    # Lista1 = list() --> Tener en cuenta el consumo de recursos.\n",
    "    # Movimientos posibles en el plano cartesiano\n",
    "    for i in [(-1, 0), (0, -1), (1,  0), (0, 1)]:\n",
    "        frontales.append(suma_cartesiana(cordenadas, i))\n",
    "\n",
    "    resultado = []\n",
    "    # Con este bucle se eliminan las cordenadas negativas o absurdas\n",
    "    for x, y in (frontales):\n",
    "        if x <= 4 and y <= 4 and x >= 0 and y >= 0:\n",
    "            resultado.append((x, y))\n",
    "\n",
    "    return resultado"
   ]
  },
  {
   "cell_type": "markdown",
   "id": "04bd3d0d",
   "metadata": {},
   "source": [
    "## Suma cartesiana\n",
    "Esta función recibe dos cordenadas representadas por un par de tuplas y devuelve la suma correspondiente de las abcisas y ordenadas"
   ]
  },
  {
   "cell_type": "code",
   "execution_count": 1,
   "id": "16e9d2b8",
   "metadata": {},
   "outputs": [],
   "source": [
    "def suma_cartesiana(tupla1, tupla2):\n",
    "    x0, y0 = tupla1\n",
    "    x, y = tupla2\n",
    "    return (x0+x, y0+y)"
   ]
  },
  {
   "cell_type": "markdown",
   "id": "20970eb5",
   "metadata": {},
   "source": [
    "## Obtener cordenadas posibles\n",
    "Una vez obtenidas las cordenadas frontales a partir de cierta cordenada tenemos que validar si estos movimientos son validos de acuerdo a las reglas del juego, es decir, un mosquetero no puede comer otro mosquetero o no se puede mover a una casilla vacía; y los guardianes solo se pueden mover a las casillas vacías. En pocas palabras esta función filtra los movimientos frontales en base a la lógica del juego."
   ]
  },
  {
   "cell_type": "code",
   "execution_count": 3,
   "id": "e603f23a",
   "metadata": {},
   "outputs": [],
   "source": [
    "def obtenerCordenadasPosibles(tablero, cordenadas, jugador):\n",
    "    \"\"\"Esta funcion recibe la cordenada del tablero seleccionada para iniciar una jugada, \n",
    "    retornar una lista de cordenadas posibles a donde moverse en base al tipo de ficha\"\"\"\n",
    "\n",
    "    # Con este bucle se eliminan las jugadas que carecen de lógica como que un mosquetero inte comer a otro\n",
    "    cordenadasValidadas = []\n",
    "    for x, y in obtenerCordenadasFrontales(cordenadas):\n",
    "        \n",
    "        if jugador:\n",
    "            if 'M' != tablero[x][y] and tablero[x][y] != ' ':\n",
    "                cordenadasValidadas.append((x, y))\n",
    "        else:\n",
    "            if tablero[x][y] == ' ':\n",
    "                cordenadasValidadas.append((x, y))\n",
    "    return cordenadasValidadas"
   ]
  },
  {
   "cell_type": "markdown",
   "id": "cf9a5cfc",
   "metadata": {},
   "source": [
    "## Mover\n",
    "Esta función recibe como parámetro un tablero, las cordenadas de la ficha seleccionada y las cordenadas de destino. Recibe un booleano para saber quien está jugando (True para los mosquteros y False para los guardianes)."
   ]
  },
  {
   "cell_type": "code",
   "execution_count": 4,
   "id": "f9d1b087",
   "metadata": {},
   "outputs": [],
   "source": [
    "def mover(tablero, origen, destino, jugador):\n",
    "    \n",
    "    if jugador:\n",
    "        tablero[origen[0]][origen[1]] = ' '\n",
    "        tablero[destino[0]][destino[1]] = 'M'\n",
    "  \n",
    "    else:\n",
    "        tablero[origen[0]][origen[1]] = ' '\n",
    "        tablero[destino[0]][destino[1]] = 'G'\n",
    "    \n",
    "    return tablero"
   ]
  },
  {
   "cell_type": "markdown",
   "id": "308bc69c",
   "metadata": {},
   "source": [
    "## Imprimir\n",
    "Esta función nos permite imprimir adecuadamente la representación de un tablero"
   ]
  },
  {
   "cell_type": "code",
   "execution_count": 5,
   "id": "a01c74da",
   "metadata": {},
   "outputs": [],
   "source": [
    "def imprimir(tablero):\n",
    "    print(*tablero, sep='\\n')\n",
    "    print()"
   ]
  },
  {
   "cell_type": "markdown",
   "id": "a86b30f5",
   "metadata": {},
   "source": [
    "## Condición de parada\n",
    "Esta función llamada **isTerminal** determina si en un tablero se pueden seguir efectuando más jugadas en base los posibles movimientos de los mosqueteros."
   ]
  },
  {
   "cell_type": "code",
   "execution_count": 6,
   "id": "7e0d531f",
   "metadata": {},
   "outputs": [],
   "source": [
    "def isTerminal(tablero):\n",
    "    for i in range(len(tablero)):\n",
    "        for j in range(len(tablero[0])):\n",
    "            if tablero[i][j] == 'M':\n",
    "                cordenadas = obtenerCordenadasPosibles(tablero, (i, j), True)\n",
    "                if cordenadas != []:\n",
    "                    return False\n",
    "    return True"
   ]
  },
  {
   "cell_type": "markdown",
   "id": "a8dca8ac-c402-4797-89c9-7bdcda62d83b",
   "metadata": {},
   "source": [
    "## Obtener Mosqueteros y Guardias\n",
    "La función obtener mosquetero y guardias nos permite obtener las cordenadas de los mosqueteros"
   ]
  },
  {
   "cell_type": "code",
   "execution_count": 7,
   "id": "92161743",
   "metadata": {},
   "outputs": [],
   "source": [
    "def obtenerMosqueteros(tablero, mosqueteros, cordenadas):\n",
    "    for z in cordenadas:\n",
    "        x, y = z\n",
    "        if tablero[x][y] == 'M':\n",
    "            mosqueteros.append(z)\n",
    "\n",
    "\n",
    "def obtenerGuardianes(tablero, guardianes, cordenadas):\n",
    "    for z in cordenadas:\n",
    "        x, y = z\n",
    "        if tablero[x][y] == 'G':\n",
    "            guardianes.append(z)"
   ]
  },
  {
   "cell_type": "markdown",
   "id": "1dc2ee81-b956-49d6-aba5-faa056afdf48",
   "metadata": {},
   "source": [
    "## Generar Estados\n",
    "Obtiene las cordenadas del jugador a mover:\n",
    "- Si es mosquetero obtiene sus cordenadas posibles a donde puede mover cada mosquetero.\n",
    "- Si es guardia obtiene las coordenas posibles a donde se puede mover cada guardia."
   ]
  },
  {
   "cell_type": "code",
   "execution_count": 8,
   "id": "b46b5904",
   "metadata": {},
   "outputs": [],
   "source": [
    "def generarEstados(tablero, jugador):\n",
    "\n",
    "    estados = list()\n",
    "    # Si juegan mosqueteros\n",
    "    if jugador:\n",
    "        # Con este proceso generamos las posiciones de los mosqueteros\n",
    "        mosqueteros = list()\n",
    "        for i in range(5):\n",
    "            for j in range(5):\n",
    "                if tablero[i][j] == 'M':\n",
    "                    mosqueteros.append((i, j))\n",
    "                    \n",
    "        # La variable z0 representa la coordenda inicial\n",
    "        for z0 in mosqueteros:\n",
    "            movimientos = obtenerCordenadasPosibles(tablero, z0, True)\n",
    "            for z in movimientos:\n",
    "                aux = [x[:] for x in tablero]\n",
    "\n",
    "                # imprimir(mover(aux, z0, z, jugador))\n",
    "                estados.append(mover(aux, z0, z, jugador))\n",
    "    else:\n",
    "        # Con este proceso generamos las posiciones de los guardianes adyacentes a un espacio en blanco\n",
    "        guardianes = list()\n",
    "        for i in range(5):\n",
    "            for j in range(5):\n",
    "                if tablero[i][j] == 'G':\n",
    "                    cordenadas = obtenerCordenadasPosibles(tablero, (i, j), False)\n",
    "                    if cordenadas != []:\n",
    "                        guardianes.append((i, j))\n",
    "\n",
    "        # Generamos las jugadas\n",
    "        for z0 in guardianes:\n",
    "            movimientos = obtenerCordenadasPosibles(tablero, z0, False)\n",
    "            for z in movimientos:\n",
    "                aux = [x[:] for x in tablero]\n",
    "                #imprimir(mover(aux, z0, z, jugador))\n",
    "                estados.append(mover(aux, z0, z, jugador))\n",
    "    return estados"
   ]
  },
  {
   "cell_type": "markdown",
   "id": "694868fa",
   "metadata": {},
   "source": [
    "## Función utilidad\n",
    "Esta es la implementación de la función que calcula la utilidad de los tableros"
   ]
  },
  {
   "cell_type": "code",
   "execution_count": 9,
   "id": "7cb4176e",
   "metadata": {},
   "outputs": [],
   "source": [
    "def utilidad_normal(tablero, c):\n",
    "    x = 0\n",
    "    y = 1\n",
    "\n",
    "    puntaje = float('inf')\n",
    "\n",
    "    if c[0][x] == c[1][x]:\n",
    "        distancia = abs(c[2][x] - c[0][x])\n",
    "        if c[0][y] == c[2][y] or c[1][y] == c[2][y]:\n",
    "            return distancia + 1\n",
    "\n",
    "    if c[0][x] == c[2][x]:\n",
    "        distancia = abs(c[1][x] - c[0][x])\n",
    "        if c[0][y] == c[1][y] or c[2][y] == c[1][y]:\n",
    "            return distancia + 1\n",
    "\n",
    "    if c[1][x] == c[2][x]:\n",
    "        distancia = abs(c[0][x] - c[1][x])\n",
    "        if c[1][y] == c[0][y] or c[2][y] == c[0][y]:\n",
    "            return distancia + 1\n",
    "\n",
    "    if c[0][y] == c[1][y]:\n",
    "        distancia = abs(c[2][y] - c[0][y])\n",
    "        if c[0][x] == c[2][x] or c[1][x] == c[2][x]:\n",
    "            return distancia + 1\n",
    "\n",
    "    if c[0][y] == c[2][y]:\n",
    "        distancia = abs(c[1][y] - c[0][y])\n",
    "        if c[0][x] == c[1][x] or c[2][x] == c[1][x]:\n",
    "            return distancia + 1\n",
    "\n",
    "    if c[1][y] == c[2][y]:\n",
    "        distancia = abs(c[0][y] - c[1][y])\n",
    "        if c[1][x] == c[0][x] or c[2][x] == c[0][x]:\n",
    "            return distancia + 1\n",
    "\n",
    "    for pivote in c:\n",
    "        puntaje_x = 0\n",
    "        puntaje_y = 0\n",
    "        for ficha in c:\n",
    "            if pivote != ficha:\n",
    "                puntaje_x += abs(pivote[x] - ficha[x])\n",
    "                puntaje_y += abs(pivote[y] - ficha[y])\n",
    "        distancia = min(puntaje_x, puntaje_y)\n",
    "        puntaje = min(puntaje, distancia)\n",
    "    return puntaje\n",
    "\n",
    "\n",
    "def funcion_utilidad(tablero, profundidad):\n",
    "    cantidad_guardianes = 0\n",
    "    cordenadas_mosqueteros = []\n",
    "\n",
    "    for i in range(5):\n",
    "        for j in range(5):\n",
    "            if tablero[i][j] == 'M':\n",
    "                cordenadas_mosqueteros.append((i, j))\n",
    "            elif tablero[i][j] == 'G':\n",
    "                cantidad_guardianes += 1\n",
    "\n",
    "    cantidad_jugadas_mosqueteros = 0\n",
    "    for z in cordenadas_mosqueteros:\n",
    "        cantidad_jugadas_mosqueteros += len(\n",
    "            obtenerCordenadasPosibles(tablero, z, True))\n",
    "\n",
    "    puntaje = 0\n",
    "    \n",
    "    # Si tres mosqueteros se encuentran en la misma fila\n",
    "    if(cordenadas_mosqueteros[0][0] == cordenadas_mosqueteros[1][0] and \n",
    "       cordenadas_mosqueteros[0][0] == cordenadas_mosqueteros[2][0]):\n",
    "        puntaje -= 1000\n",
    "        if cantidad_jugadas_mosqueteros == 0:\n",
    "            return -1000000 * profundidad\n",
    "            \n",
    "    # Si tres mosqueteros se encuentran en la misma columna\n",
    "    if(cordenadas_mosqueteros[0][1] == cordenadas_mosqueteros[1][1] and \n",
    "       cordenadas_mosqueteros[0][1] == cordenadas_mosqueteros[2][1]):\n",
    "        puntaje -= 1000\n",
    "        if cantidad_jugadas_mosqueteros == 0:\n",
    "            return -1000000 * profundidad\n",
    "            \n",
    "    # mosqueteros no tienen jugadas y no estan alienados\n",
    "    if cantidad_jugadas_mosqueteros == 0:\n",
    "        return 1000000\n",
    "\n",
    "    # Si dos mosqueteros se encuentran en la misma fila\n",
    "    return utilidad_normal(tablero, cordenadas_mosqueteros)"
   ]
  },
  {
   "cell_type": "markdown",
   "id": "8288d5e4",
   "metadata": {},
   "source": [
    "## Algoritmo MiniMax\n",
    "Implementación del algoritmo MiniMax, retorna la utilidad del tablero cuando es tablero es terminal o cuando la profundidad es 0"
   ]
  },
  {
   "cell_type": "code",
   "execution_count": 10,
   "id": "4d78ab1c",
   "metadata": {},
   "outputs": [],
   "source": [
    "def minimax(s, maximizing, profundidad):\n",
    "    if(profundidad == 0 or isTerminal(s)):       \n",
    "        return funcion_utilidad(s, profundidad)\n",
    "       \n",
    "    \n",
    "    if(maximizing):\n",
    "        v = -float('inf')\n",
    "        estados = generarEstados(s, True)\n",
    "        for estado in estados:\n",
    "            result = minimax(estado, False, profundidad-1)           \n",
    "            v = max(v, result)     \n",
    "        return v\n",
    "    \n",
    "    else:\n",
    "        v = float('inf')\n",
    "\n",
    "        estados = generarEstados(s, False)\n",
    "        for estado in estados:\n",
    "            result = minimax(estado, True, profundidad-1)          \n",
    "            v = min(v, result)   \n",
    "        return v"
   ]
  },
  {
   "cell_type": "markdown",
   "id": "0de90450",
   "metadata": {},
   "source": [
    "## Encontrar mejor movimiento\n",
    "Esta funcion es la encargada de generar el arbol y seleccionar la jugada que maximice o minimice la estrategia de acuerdo al jugador max o min."
   ]
  },
  {
   "cell_type": "code",
   "execution_count": 11,
   "id": "8f9a5671",
   "metadata": {},
   "outputs": [],
   "source": [
    "def findBestMove(tablero, jugador):\n",
    "    \n",
    "    movimiento = None\n",
    "    if  not jugador:\n",
    "        \n",
    "        minimo = float('inf')\n",
    "        for s in generarEstados(tablero, False):\n",
    "            result = minimax(s, True, 5)\n",
    "            #print(\"Resultado del minimax: \", result)\n",
    "            if result < minimo:\n",
    "                minimo = result\n",
    "                movimiento = s\n",
    "    else:\n",
    "        maximo = -float('inf')\n",
    "       \n",
    "        for s in generarEstados(tablero, True):\n",
    "       \n",
    "            result = minimax(s, False, 5)\n",
    "          \n",
    "            if result > maximo:\n",
    "                minimo = result\n",
    "                movimiento = s\n",
    "    return movimiento"
   ]
  },
  {
   "cell_type": "markdown",
   "id": "d0fc28ee",
   "metadata": {},
   "source": [
    "## Test 1"
   ]
  },
  {
   "cell_type": "code",
   "execution_count": 12,
   "id": "0f24d36f",
   "metadata": {},
   "outputs": [
    {
     "name": "stdout",
     "output_type": "stream",
     "text": [
      "Resultado del minimax:  3\n",
      "Resultado del minimax:  3\n",
      "Resultado del minimax:  3\n",
      "Resultado del minimax:  3\n",
      "Resultado del minimax:  3\n",
      "Resultado del minimax:  3\n",
      "Resultado del minimax:  3\n",
      "Resultado del minimax:  1000000\n",
      "Resultado del minimax:  -2000000\n",
      "Resultado del minimax:  3\n",
      "Resultado del minimax:  3\n",
      "['G', 'G', 'G', ' ', 'M']\n",
      "['G', 'G', 'G', 'G', ' ']\n",
      "['G', 'G', ' ', ' ', 'M']\n",
      "['G', 'G', ' ', ' ', ' ']\n",
      "['G', ' ', 'M', 'G', 'G']\n",
      "\n"
     ]
    }
   ],
   "source": [
    "def test():\n",
    "    board = [\n",
    "        ['G', 'G', 'G', ' ', 'M'],\n",
    "        ['G', 'G', 'G', 'G', ' '],\n",
    "        ['G', 'G', ' ', ' ', 'M'],\n",
    "        ['G', 'G', ' ', ' ', ' '],\n",
    "        [' ', 'G', 'M', 'G', 'G']\n",
    "    ]\n",
    "\n",
    "\n",
    "\n",
    "    imprimir(findBestMove(board, False))\n",
    "\n",
    "test()"
   ]
  },
  {
   "cell_type": "markdown",
   "id": "8fa008e2",
   "metadata": {},
   "source": [
    "## Test 2"
   ]
  },
  {
   "cell_type": "code",
   "execution_count": 13,
   "id": "1cf3b4bc",
   "metadata": {},
   "outputs": [
    {
     "name": "stdout",
     "output_type": "stream",
     "text": [
      "Resultado del minimax:  1\n",
      "Resultado del minimax:  1\n",
      "Resultado del minimax:  1\n",
      "Resultado del minimax:  1\n",
      "Resultado del minimax:  1\n",
      "Resultado del minimax:  2\n",
      "Resultado del minimax:  1000000\n",
      "Resultado del minimax:  1\n",
      "Resultado del minimax:  1\n",
      "Resultado del minimax:  1\n",
      "Resultado del minimax:  2\n",
      "Resultado del minimax:  1000000\n",
      "Resultado del minimax:  1\n",
      "Resultado del minimax:  1\n",
      "Resultado del minimax:  0\n",
      "[' ', ' ', 'G', 'G', ' ']\n",
      "['M', ' ', ' ', 'G', ' ']\n",
      "['G', ' ', 'G', ' ', 'M']\n",
      "['G', ' ', 'G', 'M', ' ']\n",
      "[' ', ' ', ' ', ' ', ' ']\n",
      "\n"
     ]
    },
    {
     "data": {
      "text/plain": [
       "0.2994963999954052"
      ]
     },
     "execution_count": 13,
     "metadata": {},
     "output_type": "execute_result"
    }
   ],
   "source": [
    "from timeit import timeit\n",
    "\n",
    "def test():\n",
    "\n",
    "    board = [\n",
    "        [' ', ' ', 'G', 'G', ' '],\n",
    "        ['M', ' ', ' ', 'G', ' '],\n",
    "        ['G', ' ', 'G', ' ', 'M'],\n",
    "        ['G', 'G', ' ', 'M', ' '],\n",
    "        [' ', ' ', ' ', ' ', ' ']\n",
    "    ]\n",
    "\n",
    "    imprimir(findBestMove(board, False))\n",
    "\n",
    "\n",
    "timeit(stmt='test()', globals=globals(), number=1)"
   ]
  },
  {
   "cell_type": "markdown",
   "id": "44602be5",
   "metadata": {},
   "source": [
    "## Función juego\n",
    "Esta función permite iniciar un juego entre un humano y la computadora"
   ]
  },
  {
   "cell_type": "code",
   "execution_count": 12,
   "id": "c0ecff2b",
   "metadata": {},
   "outputs": [],
   "source": [
    "menu = \"\\n1. JUGAR COMO MOSQUETERO\\n\\n2. JUGAR COMO GUARDIA\\n\\nESCOJA UNA OPCION: \"\n",
    "\n",
    "def juego(board):\n",
    "    \n",
    "    titulo1 = \"\\n¡BIENVENIDOS!\"\n",
    "    titulo2 = \"\\nLOS TRES MOSQUETEROS\"\n",
    "    print(titulo1)\n",
    "    print(titulo2)\n",
    "    print(\"-\"*len(titulo2))\n",
    "    opcion = int(input(menu))\n",
    "    \n",
    "    mosquetero = True if opcion == 1 else False\n",
    "   \n",
    "    imprimir(board)\n",
    "    print(\"\\n\\n\")\n",
    "    if mosquetero:\n",
    "        while not isTerminal(board):\n",
    "            x0, y0 = input(\"cordenadas iniciales: \").split(\" \")\n",
    "            x0 = int(x0)\n",
    "            y0 = int(y0)\n",
    "            x, y = input(\"cordenadas finales: \").split(\" \")\n",
    "            x = int(x)\n",
    "            y = int(y)\n",
    "\n",
    "            mover(board, (x0, y0), (x, y), mosquetero)\n",
    "            print(\"JUGADA {}\".format(\"MOSQUETERO\" if mosquetero else \"GUARDIA\"))\n",
    "            imprimir(board)\n",
    "            board = findBestMove(board, not mosquetero)\n",
    "\n",
    "            print(\"JUGADA {}\".format(\"MOSQUETERO\" if not mosquetero else \"GUARDIA\"))\n",
    "            imprimir(board)\n",
    "    else:\n",
    "        while not isTerminal(board):\n",
    "\n",
    "\n",
    "            print(\"JUGADA {}\".format(\"MOSQUETERO\" if not mosquetero else \"GUARDIA\"))\n",
    "            board = findBestMove(board, True)\n",
    "            imprimir(board)\n",
    "\n",
    "            x0, y0 = input(\"cordenadas iniciales: \").split(\" \")\n",
    "            x0 = int(x0)\n",
    "            y0 = int(y0)\n",
    "            x, y = input(\"cordenadas finales: \").split(\" \")\n",
    "            x = int(x)\n",
    "            y = int(y)\n",
    "\n",
    "            mover(board, (x0, y0), (x, y), mosquetero)\n",
    "            print(\"JUGADA {}\".format(\"MOSQUETERO\" if mosquetero else \"GUARDIA\"))\n",
    "            imprimir(board)\n",
    "            \n",
    "    print(\"Fin de juego\")"
   ]
  },
  {
   "cell_type": "code",
   "execution_count": null,
   "id": "73b864a3-bcf4-4323-ac63-df8e17917c73",
   "metadata": {},
   "outputs": [
    {
     "name": "stdout",
     "output_type": "stream",
     "text": [
      "\n",
      "¡BIENVENIDOS!\n",
      "\n",
      "LOS TRES MOSQUETEROS\n",
      "---------------------\n"
     ]
    },
    {
     "name": "stdin",
     "output_type": "stream",
     "text": [
      "\n",
      "1. JUGAR COMO MOSQUETERO\n",
      "\n",
      "2. JUGAR COMO GUARDIA\n",
      "\n",
      "ESCOJA UNA OPCION:  1\n"
     ]
    },
    {
     "name": "stdout",
     "output_type": "stream",
     "text": [
      "['G', 'G', 'G', 'G', 'M']\n",
      "['G', 'G', 'G', 'G', 'G']\n",
      "['G', 'G', 'M', 'G', 'G']\n",
      "['G', 'G', 'G', 'G', 'G']\n",
      "['M', 'G', 'G', 'G', 'G']\n",
      "\n",
      "\n",
      "\n",
      "\n"
     ]
    },
    {
     "name": "stdin",
     "output_type": "stream",
     "text": [
      "cordenadas iniciales:  2 2\n",
      "cordenadas finales:  2 3\n"
     ]
    },
    {
     "name": "stdout",
     "output_type": "stream",
     "text": [
      "JUGADA MOSQUETERO\n",
      "['G', 'G', 'G', 'G', 'M']\n",
      "['G', 'G', 'G', 'G', 'G']\n",
      "['G', 'G', ' ', 'M', 'G']\n",
      "['G', 'G', 'G', 'G', 'G']\n",
      "['M', 'G', 'G', 'G', 'G']\n",
      "\n",
      "JUGADA GUARDIA\n",
      "['G', 'G', 'G', 'G', 'M']\n",
      "['G', 'G', ' ', 'G', 'G']\n",
      "['G', 'G', 'G', 'M', 'G']\n",
      "['G', 'G', 'G', 'G', 'G']\n",
      "['M', 'G', 'G', 'G', 'G']\n",
      "\n"
     ]
    }
   ],
   "source": [
    "# Declaración del tablero inicial\n",
    "board_initial = [\n",
    "    ['G', 'G', 'G', 'G', 'M'],\n",
    "    ['G', 'G', 'G', 'G', 'G'],\n",
    "    ['G', 'G', 'M', 'G', 'G'],\n",
    "    ['G', 'G', 'G', 'G', 'G'],\n",
    "    ['M', 'G', 'G', 'G', 'G']  \n",
    "]\n",
    "\n",
    "juego(board_initial)"
   ]
  },
  {
   "cell_type": "code",
   "execution_count": null,
   "id": "05ce3cce-7461-4677-a4d3-8fa80bc21ce7",
   "metadata": {},
   "outputs": [],
   "source": []
  }
 ],
 "metadata": {
  "kernelspec": {
   "display_name": "Python 3 (ipykernel)",
   "language": "python",
   "name": "python3"
  },
  "language_info": {
   "codemirror_mode": {
    "name": "ipython",
    "version": 3
   },
   "file_extension": ".py",
   "mimetype": "text/x-python",
   "name": "python",
   "nbconvert_exporter": "python",
   "pygments_lexer": "ipython3",
   "version": "3.10.5"
  }
 },
 "nbformat": 4,
 "nbformat_minor": 5
}
