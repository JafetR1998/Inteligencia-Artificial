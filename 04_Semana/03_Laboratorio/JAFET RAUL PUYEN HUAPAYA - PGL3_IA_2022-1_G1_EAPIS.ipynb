{
 "cells": [
  {
   "cell_type": "markdown",
   "id": "f584c8fa",
   "metadata": {},
   "source": [
    "# Práctica Guiada de Laboratorio 3 - Inteligencia Artificial G1 (EAPIS) 2022-1"
   ]
  },
  {
   "cell_type": "markdown",
   "id": "509d8f2b-7569-433a-bdeb-de22b3c61ab0",
   "metadata": {},
   "source": [
    "### Prof. Rolando A. Maguiña Pérez"
   ]
  },
  {
   "cell_type": "markdown",
   "id": "0479ab24",
   "metadata": {},
   "source": [
    "## Introducción"
   ]
  },
  {
   "cell_type": "markdown",
   "id": "de3438cb",
   "metadata": {},
   "source": [
    "La presente Práctica, a realizarse el 30 de Mayo del 2022, trata de los métodos ciegos denominados búsqueda en amplitud, búsqueda en profundidad y búsqueda no determinista. Se pretende construir los programas que implementan los respectivos algoritmos mediante el lenguaje Python junto con su biblioteca NumPy, y aplicarlos a problemas sobre grafos. \n",
    "\n",
    "Al respecto, se plantearán varias preguntas las cuales se deben resolver mediante el mencionado lenguaje en este mismo documento. Previamente, los alumnos deberán verificar la corrección de sus soluciones con esta misma herramienta."
   ]
  },
  {
   "cell_type": "markdown",
   "id": "e8674795",
   "metadata": {},
   "source": [
    "Las respuestas, incluyendo el código fuente, deberán ser registradas en este mismo documento. Previamente, los alumnos deberán verificar la corrección de sus soluciones."
   ]
  },
  {
   "cell_type": "markdown",
   "id": "823852e7",
   "metadata": {},
   "source": [
    "## Representación de un grafo"
   ]
  },
  {
   "cell_type": "markdown",
   "id": "9055ef89",
   "metadata": {},
   "source": [
    "  - La representación de un grafo se puede hacer mediante:\n",
    "    + Matriz de adyacencia: se puede usar un array NumPy de dos dimensiones.\n",
    "      Cada par (fila, columna) representa un borde potencial; un valor distinto de cero en la posición (i,j) indica la existencia de un borde entre los nodos i y j, mientras que el valor cero significa que no existe borde alguno.\n",
    "      Podemos utilizar valores binarios en un grafo no ponderado (1 significa que existe un borde, y un 0 significa que no existe).\n",
    "      En el caso de los valores reales, podemos utilizarlos para un grafo ponderado y representar el peso asociado al borde entre la fila y la columna que representa la posición.\n",
    "\n",
    "    + Lista de adyacencia: se puede usar un diccionario donde las claves son los nodos del grafo, y sus valores son una lista que almacena los sucesores de estos nodos.  "
   ]
  },
  {
   "cell_type": "markdown",
   "id": "2a5e2ecb",
   "metadata": {},
   "source": [
    "### EJM - Representación de grafo "
   ]
  },
  {
   "cell_type": "code",
   "execution_count": 9,
   "id": "05f8b522",
   "metadata": {
    "scrolled": true
   },
   "outputs": [
    {
     "data": {
      "image/png": "[encoded data removed]",
      "text/plain": [
       "<IPython.core.display.Image object>"
      ]
     },
     "execution_count": 9,
     "metadata": {},
     "output_type": "execute_result"
    }
   ],
   "source": [
    "from IPython.display import Image\n",
    "i = Image(filename='C:\\\\Users\\\\rolan\\\\Cuads computs\\\\IA 2021-1\\\\03_implementing_dfs_in_python_01_reducido.png')\n",
    "i"
   ]
  },
  {
   "cell_type": "markdown",
   "id": "abcf342c",
   "metadata": {},
   "source": [
    "A continuación se presenta la representación del grafo mostrado mediante lista de adyacencia:"
   ]
  },
  {
   "cell_type": "code",
   "execution_count": 1,
   "id": "0768efed",
   "metadata": {},
   "outputs": [],
   "source": [
    "graph = {\"A\":[\"D\",\"C\",\"B\"], \"B\":[\"E\"], \"C\":[\"G\",\"F\"], \"D\":[\"H\"], \"E\":[\"I\"], \"F\":[\"J\"]}"
   ]
  },
  {
   "cell_type": "markdown",
   "id": "a714d796",
   "metadata": {},
   "source": [
    "## Implementación del algoritmo Deep First Search (DFS) "
   ]
  },
  {
   "cell_type": "markdown",
   "id": "c931836e",
   "metadata": {},
   "source": [
    "- En esta sección se implementa un método que toma un grafo y lo recorre mediante DFS. Se presenta una versión iterativa del algoritmo DFS que explora (recorre) todos los nodos del árbol. recursiva;  \n",
    "\n",
    "- Algunos aspectos de esta versión iterativa del algoritmo DFS son descritos enseguida:\n",
    "    - Utilizaremos una pila y una lista para hacer un seguimiento de los nodos visitados.\n",
    "    - Empezaremos por el nodo raíz, lo añadiremos a la ruta y lo marcaremos como visitado; luego añadiremos todos sus sucesores a la pila.\n",
    "    - En cada paso, extraeremos un elemento de la pila y comprobaremos si ha sido visitado; si no ha sido visitado, lo añadiremos al camino y añadiremos todos sus sucesores a la pila."
   ]
  },
  {
   "cell_type": "markdown",
   "id": "103aed93",
   "metadata": {},
   "source": [
    "### Implementación del algoritmo DFS para el grafo ejm"
   ]
  },
  {
   "cell_type": "markdown",
   "id": "64c20a04",
   "metadata": {},
   "source": [
    "Se presenta enseguida las líneas de código que implementan el algoritmo DFS que permite recorrer el grafo mostrado."
   ]
  },
  {
   "cell_type": "markdown",
   "id": "75d1d17e",
   "metadata": {},
   "source": [
    "#### Versión iterativa del algoritmo DFS"
   ]
  },
  {
   "cell_type": "code",
   "execution_count": 5,
   "id": "68e321e0",
   "metadata": {},
   "outputs": [],
   "source": [
    "grafo = {\"A\":[\"D\",\"C\",\"B\"], \"B\":[\"E\"], \"C\":[\"G\",\"F\"], \"D\":[\"H\"], \"E\":[\"I\"], \"F\":[\"J\"]}\n",
    "def dfs_iterativo(grafo, inicio):\n",
    "    if inicio is None or inicio not in grafo:\n",
    "        return \"Invalid input\"\n",
    "    path = []\n",
    "    stack = [inicio] \n",
    "    while(len(stack) != 0):\n",
    "        s = stack.pop() \n",
    "        if s not in path:\n",
    "            path.append(s) \n",
    "        if s not in grafo:\n",
    "                #leaf node\n",
    "            continue\n",
    "        for neighbor in grafo[s]:\n",
    "            stack.append(neighbor)\n",
    "    return \" \".join(path)"
   ]
  },
  {
   "cell_type": "code",
   "execution_count": 6,
   "id": "a3c42e3b",
   "metadata": {},
   "outputs": [
    {
     "name": "stdout",
     "output_type": "stream",
     "text": [
      "A B E I C F J G D H\n"
     ]
    }
   ],
   "source": [
    "DFS_path = dfs_iterativo(grafo, \"A\")\n",
    "\n",
    "print(DFS_path)"
   ]
  },
  {
   "cell_type": "markdown",
   "id": "fa73abc1",
   "metadata": {},
   "source": [
    "## Ejercicios"
   ]
  },
  {
   "cell_type": "code",
   "execution_count": 4,
   "id": "4adb48f5",
   "metadata": {},
   "outputs": [
    {
     "data": {
      "image/jpeg": "[encoded data removed]",
      "text/plain": [
       "<IPython.core.display.Image object>"
      ]
     },
     "execution_count": 4,
     "metadata": {},
     "output_type": "execute_result"
    }
   ],
   "source": [
    "from IPython.display import Image\n",
    "i = Image(filename='C:\\\\Users\\\\rolan\\\\Cuads computs\\\\IA 2021-1\\\\arbol1.jpg')\n",
    "i"
   ]
  },
  {
   "cell_type": "markdown",
   "id": "2e64cf62",
   "metadata": {},
   "source": [
    "Figura 1"
   ]
  },
  {
   "cell_type": "markdown",
   "id": "0980ee4a",
   "metadata": {},
   "source": [
    "### Ejercicio 1"
   ]
  },
  {
   "cell_type": "markdown",
   "id": "b8d18bc8",
   "metadata": {},
   "source": [
    "- A partir de la versión del algoritmo presentada, implementar el algoritmo de DFS en su versión que no obtiene la ruta solución, presentada en clases; los estados inicial y final deben ser ingresados por teclado y en cada iteración se debe obtener y mostrar las listas LE y LV. Agregar las líneas de código que se requieren.\n",
    "- Tomando como referencia el grafo mostrado en la figura 1, responda: Existe la ruta s-m?. Justifique su respuesta."
   ]
  },
  {
   "cell_type": "markdown",
   "id": "a9b27d76",
   "metadata": {},
   "source": [
    "### Ejercicio 2"
   ]
  },
  {
   "cell_type": "markdown",
   "id": "a277fa49",
   "metadata": {},
   "source": [
    "- Implementar ahora el algoritmo de DFS en su versión que obtiene la ruta solución presentada en clases; los estados inicial y final deben ser ingresados por teclado y en cada iteración se debe obtener y mostrar las listas LE y LV. Agregar las líneas de código que se requieren. \n",
    "\n",
    "- Aplicando dicho algoritmo, obtenga la ruta solución para el camino s-m en el grafo mostrado (figura 1)."
   ]
  },
  {
   "cell_type": "code",
   "execution_count": 5,
   "id": "55323e2e",
   "metadata": {},
   "outputs": [
    {
     "data": {
      "image/jpeg": "[encoded data removed]",
      "text/plain": [
       "<IPython.core.display.Image object>"
      ]
     },
     "execution_count": 5,
     "metadata": {},
     "output_type": "execute_result"
    }
   ],
   "source": [
    "from IPython.display import Image\n",
    "i = Image(filename='C:\\\\Users\\\\rolan\\\\Cuads computs\\\\IA 2021-1\\\\arbol2.jpg')\n",
    "i"
   ]
  },
  {
   "cell_type": "markdown",
   "id": "9582c830",
   "metadata": {},
   "source": [
    "Figura 2"
   ]
  },
  {
   "cell_type": "markdown",
   "id": "2229e8d0",
   "metadata": {},
   "source": [
    "### Ejercicio 3 "
   ]
  },
  {
   "cell_type": "markdown",
   "id": "5f82cf32",
   "metadata": {},
   "source": [
    "- A partir de su respuesta al ejercicio 2, construya ahora el algoritmo de búsqueda en amplitud; los estados inicial y final deben ser ingresados por teclado y en cada iteración se debe obtener y mostrar las listas LE y LV. Con tal finalidad use recursión, NO USE ITERACIONES. Agregar las líneas de código que se requieren. \n",
    "\n",
    "- Aplicando dicho método, obtenga la ruta solución para el camino s-f en el grafo mostrado (figura 2). "
   ]
  },
  {
   "cell_type": "markdown",
   "id": "e31b8142",
   "metadata": {},
   "source": [
    "### Ejercicio 4"
   ]
  },
  {
   "cell_type": "markdown",
   "id": "1973a1a4",
   "metadata": {},
   "source": [
    "- Implemente ahora el algoritmo del método de búsqueda no determinista; los estados inicial y final deben ser ingresados por teclado y en cada iteración se debe obtener y mostrar las listas LE y LV. \n",
    "- Aplicando dicho método obtenga la ruta solución para el camino s-f en el grafo mostrado en la figura 2. "
   ]
  },
  {
   "cell_type": "markdown",
   "id": "9e15bd24",
   "metadata": {},
   "source": [
    "### Instrucciones para el envío de la solución"
   ]
  },
  {
   "cell_type": "markdown",
   "id": "2b32ff2a",
   "metadata": {},
   "source": [
    "La solución de la \"Práctica Guiada de Laboratorio 3 - IA 2022-1 G1 EPIS\" podrá enviarse como respuesta a la tarea del mismo nombre publicada en la clase de Classroom, hasta las 23:59 h del Martes 31 de Mayo del 2022, en un archivo con extensión .ipynb.\n",
    "\n",
    "El documento deberá tener las sgtes características:\n",
    "\n",
    "Nombre del archivo: solPGL3_IA_2022-1_G1_nombre-apellidos.ipynb.\n",
    "\n",
    "Todas las preguntas de la Práctica deben responderse en este mismo cuaderno computacional; la solución a cada pregunta debe registrarse en una celda debajo del plnteamiento de la misma, mencionando explícitamente como subtítulo: \"Solución del ejercicio n\", donde \"n\" corresponde al número del ejercicio."
   ]
  }
 ],
 "metadata": {
  "kernelspec": {
   "display_name": "Python 3.9.1 64-bit",
   "language": "python",
   "name": "python3"
  },
  "language_info": {
   "codemirror_mode": {
    "name": "ipython",
    "version": 3
   },
   "file_extension": ".py",
   "mimetype": "text/x-python",
   "name": "python",
   "nbconvert_exporter": "python",
   "pygments_lexer": "ipython3",
   "version": "3.9.1"
  },
  "vscode": {
   "interpreter": {
    "hash": "0939435234290e289e537165355665417414fde0546697e418ab408eb8ad7c97"
   }
  }
 },
 "nbformat": 4,
 "nbformat_minor": 5
}
