{
 "cells": [
  {
   "cell_type": "markdown",
   "metadata": {
    "id": "Llne00icc5Bs"
   },
   "source": [
    "# Práctica Guiada de Laboratorio 2 - Inteligencia Artificial G1 (EAPIS) 2022-1"
   ]
  },
  {
   "cell_type": "markdown",
   "metadata": {
    "id": "Rc_YOk_no7yZ"
   },
   "source": [
    "### Prof. Rolando A. Maguiña Pérez"
   ]
  },
  {
   "cell_type": "markdown",
   "metadata": {
    "id": "M_L-02r84Z9V"
   },
   "source": [
    "## Introducción"
   ]
  },
  {
   "cell_type": "markdown",
   "metadata": {
    "id": "Ytwxynof4Z9V"
   },
   "source": [
    "Como sabemos, en buena parte de las sesiones de laboratorio se utilizará el lenguaje de programación de libre distribución denominado Python junto con sus bibliotecas; específicamente, en la sesión del 16 de Mayo del 2022 se usará la biblioteca NumPy, la cual junto con otra biblioteca de Python llamada Matplotlib, replica parcialmente las capacidades de procesamiento de matrices y de graficado de la plataforma computacional Matlab. \n",
    "\n",
    "Dicha biblioteca se pretende utilizar con mayor énfasis en la segunda parte del curso para la construcción de sistemas inteligentes basados en las técnicas denominadas Sistemas de Inferencia Difusa y Redes Neuronales Artificiales (RNA). "
   ]
  },
  {
   "cell_type": "markdown",
   "metadata": {
    "id": "h6sxCpLq4Z9W"
   },
   "source": [
    "## Objetivos Específicos "
   ]
  },
  {
   "cell_type": "markdown",
   "metadata": {
    "id": "HFvNX7564Z9X"
   },
   "source": [
    "- Conocer y aplicar la biblioteca de Python denominada NumPy\n",
    "- Crear aplicaciones utilizando esta herramienta, los cuadernos computacionales."
   ]
  },
  {
   "cell_type": "markdown",
   "metadata": {
    "id": "loEI1oZBYaUW"
   },
   "source": [
    "# Bibliotecas de Python"
   ]
  },
  {
   "cell_type": "markdown",
   "metadata": {
    "id": "zprUW4Zsc7cf"
   },
   "source": [
    "## NumPy"
   ]
  },
  {
   "cell_type": "markdown",
   "metadata": {
    "id": "yMvBykmeYYgp"
   },
   "source": [
    "### Arreglos en NumPy"
   ]
  },
  {
   "cell_type": "markdown",
   "metadata": {
    "id": "OIjwmJyFYYgp"
   },
   "source": [
    "Un array es un objeto y tiene propiedades (y métodos):\n",
    "    \n",
    "    PROPIEDAD                   DESCRIPCIÓN\n",
    "    ndarray.shape               Tupla con las dimensiones.\n",
    "    ndarray.ndim                Número de dimensiones.\n",
    "    ndarray.size                Número de elementos.\n",
    "    ndarray.itemsize            Tamaño de uno de los elementos en bytes.\n",
    "    ndarray.nbytes              Tamaño total ocupado por los elementos.\n",
    "    ndarray.dtype               Tipo de dato de los elementos.\n",
    "    ndarray.real                Parte real.\n",
    "    ndarray.imag                Parte imaginaria.\n",
    "\n",
    "\n",
    "En seguida se presentan algunos ejemplos:"
   ]
  },
  {
   "cell_type": "markdown",
   "metadata": {
    "id": "ldALt6PKYYgq"
   },
   "source": [
    "Primero importamos el NumPy"
   ]
  },
  {
   "cell_type": "code",
   "execution_count": null,
   "metadata": {
    "id": "rTTCgoWQYYgr"
   },
   "outputs": [],
   "source": [
    "import numpy as np"
   ]
  },
  {
   "cell_type": "markdown",
   "metadata": {
    "id": "Ez-AONtaYYgs"
   },
   "source": [
    "Generaremos una matriz de 6 elementos, conteniendo los números del 1 al 6 sin incluir el cero. Una manera de hacerlo es mediante las sgtes líneas de código:"
   ]
  },
  {
   "cell_type": "code",
   "execution_count": null,
   "metadata": {
    "id": "czqr44XYYYgs",
    "outputId": "b3a5bdb9-6cdc-401c-8cc8-b12edb3fea19"
   },
   "outputs": [
    {
     "data": {
      "text/plain": [
       "array([[0, 1, 2],\n",
       "       [3, 4, 5]])"
      ]
     },
     "execution_count": 9,
     "metadata": {},
     "output_type": "execute_result"
    }
   ],
   "source": [
    "x = np.arange(6).reshape((2, 3))\n",
    "x"
   ]
  },
  {
   "cell_type": "markdown",
   "metadata": {
    "id": "6tKoPJt7YYgv"
   },
   "source": [
    "Le sumamos  1 al arreglo con:"
   ]
  },
  {
   "cell_type": "code",
   "execution_count": null,
   "metadata": {
    "id": "UBKeceC1YYgw",
    "outputId": "91da6b4f-d290-44fb-8d9b-cb80cdf6834d"
   },
   "outputs": [
    {
     "data": {
      "text/plain": [
       "array([[1, 2, 3],\n",
       "       [4, 5, 6]])"
      ]
     },
     "execution_count": 3,
     "metadata": {},
     "output_type": "execute_result"
    }
   ],
   "source": [
    "a = x[:, :] + 1\n",
    "a"
   ]
  },
  {
   "cell_type": "markdown",
   "metadata": {
    "id": "EhEy0RLNYYgw"
   },
   "source": [
    "Aplicamos el método 'shape' para determinar las dimensiones del arreglo:"
   ]
  },
  {
   "cell_type": "code",
   "execution_count": null,
   "metadata": {
    "id": "s2XcEEA_YYgw",
    "outputId": "068b9f45-63c5-4c72-dc97-7201fd72b30e"
   },
   "outputs": [
    {
     "data": {
      "text/plain": [
       "(2, 3)"
      ]
     },
     "execution_count": 11,
     "metadata": {},
     "output_type": "execute_result"
    }
   ],
   "source": [
    "a.shape"
   ]
  },
  {
   "cell_type": "markdown",
   "metadata": {
    "id": "co1wPhNkYYgx"
   },
   "source": [
    "Aplicamos ahora el método 'ndim' para determinar el número de dimensiones del arreglo:"
   ]
  },
  {
   "cell_type": "code",
   "execution_count": null,
   "metadata": {
    "id": "VPyoxIPRYYgx",
    "outputId": "1d2780ae-762c-4c00-8e0d-b994759f12e0"
   },
   "outputs": [
    {
     "data": {
      "text/plain": [
       "2"
      ]
     },
     "execution_count": 12,
     "metadata": {},
     "output_type": "execute_result"
    }
   ],
   "source": [
    "a.ndim"
   ]
  },
  {
   "cell_type": "markdown",
   "metadata": {
    "id": "dQsCW_TKYYgx"
   },
   "source": [
    "El número de elementos del arreglo lo obtenemos mediante el método 'size'"
   ]
  },
  {
   "cell_type": "code",
   "execution_count": null,
   "metadata": {
    "id": "M7ENbAWVYYgx",
    "outputId": "daf28721-350b-4ba2-b167-96b2f880f5a8"
   },
   "outputs": [
    {
     "data": {
      "text/plain": [
       "6"
      ]
     },
     "execution_count": 13,
     "metadata": {},
     "output_type": "execute_result"
    }
   ],
   "source": [
    "a.size"
   ]
  },
  {
   "cell_type": "code",
   "execution_count": null,
   "metadata": {
    "id": "LpDqV69HYYgy",
    "outputId": "105eac19-17cb-4074-b8f2-a6730846c75f"
   },
   "outputs": [
    {
     "data": {
      "text/plain": [
       "24"
      ]
     },
     "execution_count": 14,
     "metadata": {},
     "output_type": "execute_result"
    }
   ],
   "source": [
    "a.nbytes"
   ]
  },
  {
   "cell_type": "markdown",
   "metadata": {
    "id": "4bLcAAwTYYgy"
   },
   "source": [
    "El tipo de los datos lo podemos obtener con el método 'dtype'"
   ]
  },
  {
   "cell_type": "code",
   "execution_count": null,
   "metadata": {
    "id": "tN2zQS6EYYgz",
    "outputId": "bc96020e-9f1c-4c59-c2b2-9e46d331a6b5"
   },
   "outputs": [
    {
     "data": {
      "text/plain": [
       "dtype('int32')"
      ]
     },
     "execution_count": 15,
     "metadata": {},
     "output_type": "execute_result"
    }
   ],
   "source": [
    "a.dtype"
   ]
  },
  {
   "cell_type": "code",
   "execution_count": null,
   "metadata": {
    "id": "Aac_Kj5FYYgz",
    "outputId": "3556b67f-cf93-4e79-e837-f7bfa20438a2"
   },
   "outputs": [
    {
     "data": {
      "text/plain": [
       "array([[1, 2, 3],\n",
       "       [4, 5, 6]])"
      ]
     },
     "execution_count": 16,
     "metadata": {},
     "output_type": "execute_result"
    }
   ],
   "source": [
    "a.real"
   ]
  },
  {
   "cell_type": "code",
   "execution_count": null,
   "metadata": {
    "id": "76rsjfTWYYg0",
    "outputId": "ec01cbac-75fa-4550-9370-64b86eb4e122"
   },
   "outputs": [
    {
     "data": {
      "text/plain": [
       "array([[0, 0, 0],\n",
       "       [0, 0, 0]])"
      ]
     },
     "execution_count": 17,
     "metadata": {},
     "output_type": "execute_result"
    }
   ],
   "source": [
    "a.imag"
   ]
  },
  {
   "cell_type": "markdown",
   "metadata": {
    "id": "MvlXIifYYYg0"
   },
   "source": [
    "### Creación de arreglos"
   ]
  },
  {
   "cell_type": "markdown",
   "metadata": {
    "id": "jJVDzD-AYYg1"
   },
   "source": [
    "Es posible crear arreglos de varias maneras: \n",
    "1. A partir de secuencias (listas o tuplas) de PYTHON.\n",
    "\n",
    "2. Haciendo uso de funciones propias de NUMPY.\n",
    "\n",
    "3. Lectura de datos desde un archivo.\n",
    "\n",
    "4. Copiando un array existente\n",
    "\n",
    "Veremos las tres primeras:"
   ]
  },
  {
   "cell_type": "markdown",
   "metadata": {
    "id": "rFaFMggIYYg1"
   },
   "source": [
    "#### 1. A partir de secuencias de PYTHON"
   ]
  },
  {
   "cell_type": "markdown",
   "metadata": {
    "id": "DcxgYKSWYYg2"
   },
   "source": [
    "        Formato: numpy.array(secuencia, tipo_dato)\n",
    "\n",
    "EJM."
   ]
  },
  {
   "cell_type": "code",
   "execution_count": null,
   "metadata": {
    "id": "zGOmyKz0YYg2"
   },
   "outputs": [],
   "source": [
    "import numpy"
   ]
  },
  {
   "cell_type": "code",
   "execution_count": null,
   "metadata": {
    "id": "RygftrRvYYg3",
    "outputId": "5e35ada3-a53c-405b-95d9-2c34636540c1"
   },
   "outputs": [
    {
     "data": {
      "text/plain": [
       "array([1.  , 5.  , 4.3 , 3.28])"
      ]
     },
     "execution_count": 28,
     "metadata": {},
     "output_type": "execute_result"
    }
   ],
   "source": [
    "numpy.array([1, 5, 4.3, 3.28])"
   ]
  },
  {
   "cell_type": "code",
   "execution_count": null,
   "metadata": {
    "id": "qdnNdeQUYYg3",
    "outputId": "2fc9c7e3-7f1a-470d-8c96-819294bccd26"
   },
   "outputs": [
    {
     "data": {
      "text/plain": [
       "(3, 5, 7.7)"
      ]
     },
     "execution_count": 30,
     "metadata": {},
     "output_type": "execute_result"
    }
   ],
   "source": [
    "tupla = (3, 5, 7.7)\n",
    "tupla"
   ]
  },
  {
   "cell_type": "markdown",
   "metadata": {
    "id": "wlmsmiRzYYg4"
   },
   "source": [
    "Convertimos la tupla en un arreglo mediante:"
   ]
  },
  {
   "cell_type": "code",
   "execution_count": null,
   "metadata": {
    "id": "wj2T_2lIYYg4",
    "outputId": "7b428fa0-06bc-4ab7-8208-f35cf6fbb3cb"
   },
   "outputs": [
    {
     "data": {
      "text/plain": [
       "array([3. , 5. , 7.7])"
      ]
     },
     "execution_count": 31,
     "metadata": {},
     "output_type": "execute_result"
    }
   ],
   "source": [
    "a2 = numpy.array(tupla)\n",
    "a2"
   ]
  },
  {
   "cell_type": "code",
   "execution_count": null,
   "metadata": {
    "id": "3pVtV96ZYYg5",
    "outputId": "0e67a177-1a01-4a5b-c7bf-ff08ba0fa2f0"
   },
   "outputs": [
    {
     "data": {
      "text/plain": [
       "[4, 6, 8.8, 9.1]"
      ]
     },
     "execution_count": 32,
     "metadata": {},
     "output_type": "execute_result"
    }
   ],
   "source": [
    "lista = [4, 6, 8.8, 9.1]\n",
    "lista"
   ]
  },
  {
   "cell_type": "markdown",
   "metadata": {
    "id": "GVO5EYcPYYg6"
   },
   "source": [
    "Convertimos la lista en un arreglo mediante:"
   ]
  },
  {
   "cell_type": "code",
   "execution_count": null,
   "metadata": {
    "id": "lNTsGF4HYYg6",
    "outputId": "bed2b9a4-020e-4d55-8a82-c116475cbe0e"
   },
   "outputs": [
    {
     "data": {
      "text/plain": [
       "array([4. , 6. , 8.8, 9.1])"
      ]
     },
     "execution_count": 33,
     "metadata": {},
     "output_type": "execute_result"
    }
   ],
   "source": [
    "z = numpy.array(lista)\n",
    "z"
   ]
  },
  {
   "cell_type": "code",
   "execution_count": null,
   "metadata": {
    "id": "vUP3DLncYYg7"
   },
   "outputs": [],
   "source": [
    "a3 = numpy.array([])"
   ]
  },
  {
   "cell_type": "code",
   "execution_count": null,
   "metadata": {
    "id": "gFQE-QBmYYg7",
    "outputId": "326f65bb-1224-41f6-96dd-57806d9cab98"
   },
   "outputs": [
    {
     "data": {
      "text/plain": [
       "array([], dtype=float64)"
      ]
     },
     "execution_count": 35,
     "metadata": {},
     "output_type": "execute_result"
    }
   ],
   "source": [
    "a3"
   ]
  },
  {
   "cell_type": "code",
   "execution_count": null,
   "metadata": {
    "id": "F41hnwUvYYg8"
   },
   "outputs": [],
   "source": [
    "a4 = numpy.array([\"linea1\", \"linea2\", 33], dtype=\"|S3\")"
   ]
  },
  {
   "cell_type": "markdown",
   "metadata": {
    "id": "4gJsQf4aYYg8"
   },
   "source": [
    "En la salida  oservaremos que las cadenas están precedidas por una ‘b’. Este carácter sólo indica que la cadena es de tipo ‘bytestring’, el valor almacenado es la cadena entre comillas simples."
   ]
  },
  {
   "cell_type": "code",
   "execution_count": null,
   "metadata": {
    "id": "T7s3kAwWYYg9",
    "outputId": "744e1112-8adb-42d7-e44d-f85a1e22e4ce"
   },
   "outputs": [
    {
     "data": {
      "text/plain": [
       "array([b'lin', b'lin', b'33'], dtype='|S3')"
      ]
     },
     "execution_count": 38,
     "metadata": {},
     "output_type": "execute_result"
    }
   ],
   "source": [
    "a4"
   ]
  },
  {
   "cell_type": "markdown",
   "metadata": {
    "id": "_xJjDssg4Z9p"
   },
   "source": [
    "#####   1.1 Arreglos n-dimensionales"
   ]
  },
  {
   "cell_type": "markdown",
   "metadata": {
    "id": "clzgGOIQYYg9"
   },
   "source": [
    "Otra manera de crear arreglos es a partir de una lista de listas."
   ]
  },
  {
   "cell_type": "code",
   "execution_count": null,
   "metadata": {
    "id": "GuNL1c5BYYg-"
   },
   "outputs": [],
   "source": [
    "a = numpy.array([[1, 2, 3, 4], [5, 6, 7, 8], [9, 10, 11, 12]], dtype=numpy.int32)"
   ]
  },
  {
   "cell_type": "code",
   "execution_count": null,
   "metadata": {
    "id": "pJiFh53RYYg-",
    "outputId": "d0fd17ae-c16e-498f-ad6a-683e62420caf"
   },
   "outputs": [
    {
     "data": {
      "text/plain": [
       "array([[ 1,  2,  3,  4],\n",
       "       [ 5,  6,  7,  8],\n",
       "       [ 9, 10, 11, 12]])"
      ]
     },
     "execution_count": 42,
     "metadata": {},
     "output_type": "execute_result"
    }
   ],
   "source": [
    "a"
   ]
  },
  {
   "cell_type": "markdown",
   "metadata": {
    "id": "XmGoTQWWYYg_"
   },
   "source": [
    "#### 2. Mediante el uso de funciones de NUMPY"
   ]
  },
  {
   "cell_type": "markdown",
   "metadata": {
    "id": "d06f8kuF4Z9q"
   },
   "source": [
    "##### 2.1 arange"
   ]
  },
  {
   "cell_type": "markdown",
   "metadata": {
    "id": "MhNQ5jelYYhA"
   },
   "source": [
    "    Formato: numpy.arange(start, stop, step, dtype=None)\n",
    "\n",
    "Considerar que:\n",
    "\n",
    "1. El “step” puede ser decimal.\n",
    "\n",
    "2. El extremo final del intervalo no se incluye.\n",
    "\n",
    "EJM."
   ]
  },
  {
   "cell_type": "code",
   "execution_count": null,
   "metadata": {
    "id": "5bK4z_vMYYhA",
    "outputId": "a02b75e4-f259-46c1-d32b-53225ef16af2"
   },
   "outputs": [
    {
     "data": {
      "text/plain": [
       "array([5. , 5.1, 5.2, 5.3, 5.4, 5.5, 5.6, 5.7, 5.8, 5.9])"
      ]
     },
     "execution_count": 44,
     "metadata": {},
     "output_type": "execute_result"
    }
   ],
   "source": [
    "numpy.arange(5, 6, 0.1)"
   ]
  },
  {
   "cell_type": "markdown",
   "metadata": {
    "id": "RtzYDPxW4Z9r"
   },
   "source": [
    "##### 2.2 linspace"
   ]
  },
  {
   "cell_type": "markdown",
   "metadata": {
    "id": "geua6NTqYYhB"
   },
   "source": [
    "Otra función que se puede usar es linspace.\n",
    "\n",
    "    Formato: numpy.linspace(start, stop, num=50, endpoint=True, retstep=False)\n",
    "\n",
    "Devuelve un array en el que se ha dividido el intervalo [start, stop] (endpoint=True, por defecto) en “num” fragmentos.\n",
    "\n",
    "EJM."
   ]
  },
  {
   "cell_type": "code",
   "execution_count": null,
   "metadata": {
    "id": "3l33Nd5kYYhB",
    "outputId": "a76e08ec-8ed3-40d4-bdf6-6b28eb82b59a"
   },
   "outputs": [
    {
     "data": {
      "text/plain": [
       "array([5.  , 5.25, 5.5 , 5.75, 6.  ])"
      ]
     },
     "execution_count": 46,
     "metadata": {},
     "output_type": "execute_result"
    }
   ],
   "source": [
    "numpy.linspace(5, 6, 5)"
   ]
  },
  {
   "cell_type": "markdown",
   "metadata": {
    "id": "xhyD6HY9YYhC"
   },
   "source": [
    "En el sgte ejemplo, al establecer *endpoint=False* ya no muestra el valor final de 6; y dado que *retstep=True*, muestra el valor del fragmento. "
   ]
  },
  {
   "cell_type": "code",
   "execution_count": null,
   "metadata": {
    "id": "xkLAOG__YYhC",
    "outputId": "6aa2f77d-ef00-4323-89ba-3f6c56cf23a3"
   },
   "outputs": [
    {
     "data": {
      "text/plain": [
       "(array([5. , 5.2, 5.4, 5.6, 5.8]), 0.2)"
      ]
     },
     "execution_count": 47,
     "metadata": {},
     "output_type": "execute_result"
    }
   ],
   "source": [
    "numpy.linspace(5, 6, 5, False, True)"
   ]
  },
  {
   "cell_type": "markdown",
   "metadata": {
    "id": "-7d2s98F4Z9s"
   },
   "source": [
    "##### 2.3 ones"
   ]
  },
  {
   "cell_type": "markdown",
   "metadata": {
    "id": "0xSZZlBFYYhD"
   },
   "source": [
    "    Formato: numpy.ones(shape, dtype=None)\n",
    "\n",
    "- shape, es la forma del arreglo de salida (entero o lista/tupla). Si le pasamos una lista o tupla, crea un array n-dimensional con la forma (shape) dada por la lista/tupla.\n",
    "\n",
    "- dtype, cualquiera de los tipos de datos de NUMPY.\n",
    "\n",
    "EJM."
   ]
  },
  {
   "cell_type": "code",
   "execution_count": null,
   "metadata": {
    "id": "yu6PLjsdYYhE",
    "outputId": "733864e8-6f2f-4199-83d2-53a2267de186"
   },
   "outputs": [
    {
     "data": {
      "text/plain": [
       "array([[1, 1, 1],\n",
       "       [1, 1, 1]])"
      ]
     },
     "execution_count": 48,
     "metadata": {},
     "output_type": "execute_result"
    }
   ],
   "source": [
    "numpy.ones([2, 3], dtype=\"int\")"
   ]
  },
  {
   "cell_type": "code",
   "execution_count": null,
   "metadata": {
    "id": "UU8fFgIxYYhD",
    "outputId": "6cb2ef90-71fb-45e2-f9f2-d95de28b1d59"
   },
   "outputs": [
    {
     "data": {
      "text/plain": [
       "array([1.+0.j, 1.+0.j, 1.+0.j, 1.+0.j])"
      ]
     },
     "execution_count": 49,
     "metadata": {},
     "output_type": "execute_result"
    }
   ],
   "source": [
    "numpy.ones(4, dtype=numpy.complex128)"
   ]
  },
  {
   "cell_type": "markdown",
   "metadata": {
    "id": "ha-CyDpD4Z9t"
   },
   "source": [
    "##### 2.4 zeros"
   ]
  },
  {
   "cell_type": "markdown",
   "metadata": {
    "id": "WCX2vwl-YYhE"
   },
   "source": [
    "    Formato: numpy.zeros(shape, dtype=float)\n",
    "\n",
    "Tiene un comportamiento análogo al de numpy.ones, sólo que crea un array n-dimensional con la forma (shape) dada por la lista/tupla, de ceros.\n",
    "\n",
    "EJM."
   ]
  },
  {
   "cell_type": "code",
   "execution_count": null,
   "metadata": {
    "id": "mzLdYJfB4Z9t",
    "outputId": "cb3eda01-7caf-4d0a-9dd0-38a57650e0d8"
   },
   "outputs": [
    {
     "data": {
      "text/plain": [
       "array([[0, 0],\n",
       "       [0, 0],\n",
       "       [0, 0]])"
      ]
     },
     "execution_count": 52,
     "metadata": {},
     "output_type": "execute_result"
    }
   ],
   "source": [
    "numpy.zeros([3, 2], dtype=int)"
   ]
  },
  {
   "cell_type": "markdown",
   "metadata": {
    "id": "AN4yOZCfYYhF"
   },
   "source": [
    "En la sgte línea de código se va a generar 2 arreglos de dimensiones 3x4."
   ]
  },
  {
   "cell_type": "code",
   "execution_count": null,
   "metadata": {
    "id": "a_hpBDRxYYhF",
    "outputId": "37f3dbc3-90a9-482b-8608-5282be896c61"
   },
   "outputs": [
    {
     "data": {
      "text/plain": [
       "array([[[0., 0., 0., 0.],\n",
       "        [0., 0., 0., 0.],\n",
       "        [0., 0., 0., 0.]],\n",
       "\n",
       "       [[0., 0., 0., 0.],\n",
       "        [0., 0., 0., 0.],\n",
       "        [0., 0., 0., 0.]]])"
      ]
     },
     "execution_count": 54,
     "metadata": {},
     "output_type": "execute_result"
    }
   ],
   "source": [
    "numpy.zeros((2, 3, 4))"
   ]
  },
  {
   "cell_type": "markdown",
   "metadata": {
    "id": "9FQq2g_5YYhG"
   },
   "source": [
    "#### 3. Lectura de archivos"
   ]
  },
  {
   "cell_type": "markdown",
   "metadata": {
    "id": "CkIy7J78YYhG"
   },
   "source": [
    "La función de lectura y sus parámetros dependen del formato del archivo.\n",
    "\n",
    "Supongamos el fichero “datos.csv” con el formato siguiente:"
   ]
  },
  {
   "cell_type": "markdown",
   "metadata": {
    "id": "WnR1l-bqYYhG"
   },
   "source": [
    "line 1 -> objID , RAJ2000 , e_RAJ2000 , DEJ2000 , e_DEJ2000 , upmag , e_upmag , gpmag , e_gpmag , rpmag , e_rpmag , ipmag , e_ipmag , zpmag , e_zpmag , Jmag , e_Jmag , Hmag , e_Hmag , Kmag , e_Kmag\n",
    "\n",
    "line 2 -> 1237657610717364296 ,138.692294 ,0.002 ,46.253899 ,0.002 ,18.049 ,0.015 ,16.904 ,0.033 ,16.448 ,0.02 ,16.289 ,0.015 ,16.21 ,0.018 ,15.348 ,0.059 ,14.914 ,0.073 ,15.065 ,0.162\n",
    "...\n"
   ]
  },
  {
   "cell_type": "markdown",
   "metadata": {
    "id": "pz787nNWYYhH"
   },
   "source": [
    "1. La primera línea contiene el nombre de los campos.\n",
    "2. Las siguientes, los valores de cada objeto, separados por comas."
   ]
  },
  {
   "cell_type": "markdown",
   "metadata": {
    "id": "atnlodhr4Z9v"
   },
   "source": [
    "La lectura de los datos del archivo se efectuará mediante la función *loadtxt()* de NumPy, la cual carga el archivo en una matriz. El delimitador por defecto es espacio en blanco, si es otro hay que pasarlo como segundo argumento delimiter (‘,’ en el caso de coma, ‘\\t’ si es tabulador, etc)."
   ]
  },
  {
   "cell_type": "markdown",
   "metadata": {
    "id": "7jfxHEcu4Z9v"
   },
   "source": [
    "Si el archivo tiene una cabecera podemos saltar las filas correspondientes con *skiprows* (pasar el valor 0 es equivalente a omitir este argumento, devolviendo todas las filas).\n",
    "\n",
    "Para indicar columnas específicas a leer, pasamos el argumento *usecols=[...]* con sus índices; recordar que la primera columna corresponde al índice 0."
   ]
  },
  {
   "cell_type": "markdown",
   "metadata": {
    "id": "tgIZKzRr4Z9v"
   },
   "source": [
    "A continuación se indica el formato general para loadtext():"
   ]
  },
  {
   "cell_type": "markdown",
   "metadata": {
    "id": "NtVxn2axYYhI"
   },
   "source": [
    "        Formato:  numpy.loadtxt(fname, dtype=numpy.float, comments=\"#\", delimiter=None, converters=None, skiprows=0, usecols=None, unpack=False, ndmin=0) \n",
    "donde:\n",
    "\n",
    "- fname: nombre del archivo.\n",
    "- dtype: tipo de dato. \n",
    "- delimiter: delimitador (por defecto es espacio en blanco, ',' en el caso de que el delimitador sea una coma, '\\t' si es tabulador).  \n",
    "- usecols: permite indicar las columnas a leer."
   ]
  },
  {
   "cell_type": "markdown",
   "metadata": {
    "id": "oaghgidqYYhJ"
   },
   "source": [
    "EJM. Supongamos que tenemos un archivo \"pru.txt\" que contiene 5 datos de tres variables, los cuales están estructurados como columnas separados por comas, y que el archivo no tiene cabecera algna. Para leer dicha data usaremos el método 'loadtxt'. Para leer los datos usaremos el sgte código (en el parámetro delimiter se ha configurado ',' como separador):"
   ]
  },
  {
   "cell_type": "code",
   "execution_count": null,
   "metadata": {
    "id": "GCZaCKtDYYhJ",
    "scrolled": true
   },
   "outputs": [],
   "source": [
    "file = \"C:\\\\Users\\\\rolan\\\\Desktop\\\\pru.txt\"\n",
    "datos = np.loadtxt(file, delimiter=\",\")"
   ]
  },
  {
   "cell_type": "code",
   "execution_count": null,
   "metadata": {
    "id": "Z_CdA0mC4Z9w",
    "outputId": "3c503788-d5a0-4d9f-df27-7c7f6446482e"
   },
   "outputs": [
    {
     "name": "stdout",
     "output_type": "stream",
     "text": [
      "[[ 1.   0.   0.5]\n",
      " [ 2.   0.  10.3]\n",
      " [ 3.   5.5  1.1]\n",
      " [ 4.   8.2  6.5]\n",
      " [ 5.  12.1 16.7]]\n"
     ]
    }
   ],
   "source": [
    "print(datos)"
   ]
  },
  {
   "cell_type": "markdown",
   "metadata": {
    "id": "NVOAY8li4Z9w"
   },
   "source": [
    "EJM. Supongamos ahora que tenemos otro archivo \"pru1.txt\" que contiene también 5 datos de tres variables, los cuales están estructurados como columnas separados por comas, y que el archivo tiene una cabecera con los nombres de las variables. Para leer los datos con 'loadtxt' usaremos el sgte código (en el parámetro delimiter se ha configurado ',' como separador):"
   ]
  },
  {
   "cell_type": "code",
   "execution_count": null,
   "metadata": {
    "id": "jxTnnQys4Z9x"
   },
   "outputs": [],
   "source": [
    "file = \"C:\\\\Users\\\\rolan\\\\Desktop\\\\pru1.txt\"\n",
    "datos = np.loadtxt(file, delimiter=\",\", skiprows=1)"
   ]
  },
  {
   "cell_type": "code",
   "execution_count": null,
   "metadata": {
    "id": "_A6tK1DqYYhJ",
    "outputId": "64af1e93-2723-4f8b-cd3a-9a738fda74b4"
   },
   "outputs": [
    {
     "name": "stdout",
     "output_type": "stream",
     "text": [
      "[[-2.   0.4 10.3]\n",
      " [ 3.   5.5  1.2]\n",
      " [-4.   7.2  6.5]\n",
      " [ 8.  10.1 14.3]]\n"
     ]
    }
   ],
   "source": [
    "print(datos)"
   ]
  },
  {
   "cell_type": "markdown",
   "metadata": {
    "id": "1sQpoBX7YYhK"
   },
   "source": [
    "### Manejo de arreglos"
   ]
  },
  {
   "cell_type": "markdown",
   "metadata": {
    "id": "Dl67Q78DYYhK"
   },
   "source": [
    "Indexación: se refiere a la selección de elementos concretos del array.\n",
    "\n",
    "1. Se accede a un elemento del array dando su posición en el array, mediante un índice entero entre corchetes ('[]')\n",
    "                        nombre_array[posicion]\n",
    "2. El primer índice es el 0 (como en C/C++).\n",
    "3. Si el índice es mayor que el número de elementos de array, lanzará una excepción (IndexError)."
   ]
  },
  {
   "cell_type": "markdown",
   "metadata": {
    "id": "-oWla4iEYYhK"
   },
   "source": [
    "            Tipo de selección                Sintaxis\n",
    "        Un solo elemento                array[posicion]\n",
    "        Varios elementos consecutivos   array[inicio:fin]\n",
    "    Elementos en orden cualesquiera     array[[p1, p2,..., pn]]\n",
    "                                donde [p1, ,...,pn] es una lista o array\n",
    "\n",
    "**Nota**: los índices pueden tomar valores negativos; al igual que en las secuencias de PYTHON, cuentan las posiciones desde el final del array.\n",
    "\n",
    "EJM."
   ]
  },
  {
   "cell_type": "code",
   "execution_count": null,
   "metadata": {
    "id": "rdUY93iyYYhL"
   },
   "outputs": [],
   "source": [
    "a = numpy.arange(10)"
   ]
  },
  {
   "cell_type": "code",
   "execution_count": null,
   "metadata": {
    "id": "u6Q-eAFOYYhM",
    "outputId": "4f8264d2-476c-43bd-c3a6-6301bf20a02d"
   },
   "outputs": [
    {
     "data": {
      "text/plain": [
       "array([0, 1, 2, 3, 4, 5, 6, 7, 8, 9])"
      ]
     },
     "execution_count": 52,
     "metadata": {
      "tags": []
     },
     "output_type": "execute_result"
    }
   ],
   "source": [
    "a"
   ]
  },
  {
   "cell_type": "code",
   "execution_count": null,
   "metadata": {
    "id": "TiylxIISYYhM",
    "outputId": "a1efbd08-5e76-485f-d3db-087afaf1edbf"
   },
   "outputs": [
    {
     "data": {
      "text/plain": [
       "1"
      ]
     },
     "execution_count": 53,
     "metadata": {
      "tags": []
     },
     "output_type": "execute_result"
    }
   ],
   "source": [
    "a[1]"
   ]
  },
  {
   "cell_type": "code",
   "execution_count": null,
   "metadata": {
    "id": "GIqEUudaYYhN",
    "outputId": "77c995f8-5556-443e-e2bf-6184fa98ff3e"
   },
   "outputs": [
    {
     "data": {
      "text/plain": [
       "7"
      ]
     },
     "execution_count": 54,
     "metadata": {
      "tags": []
     },
     "output_type": "execute_result"
    }
   ],
   "source": [
    "a[7]"
   ]
  },
  {
   "cell_type": "code",
   "execution_count": null,
   "metadata": {
    "id": "DdZiXNOdYYhN",
    "outputId": "163b590d-9244-493e-b5c8-5ade5862dda8"
   },
   "outputs": [
    {
     "data": {
      "text/plain": [
       "(1, 9)"
      ]
     },
     "execution_count": 56,
     "metadata": {
      "tags": []
     },
     "output_type": "execute_result"
    }
   ],
   "source": [
    "a[1], a[-1]"
   ]
  },
  {
   "cell_type": "code",
   "execution_count": null,
   "metadata": {
    "id": "YDwob_rqYYhN",
    "outputId": "073b10f5-e5c2-4cba-cc78-f7c359126eed"
   },
   "outputs": [
    {
     "data": {
      "text/plain": [
       "array([3, 4, 5])"
      ]
     },
     "execution_count": 57,
     "metadata": {
      "tags": []
     },
     "output_type": "execute_result"
    }
   ],
   "source": [
    "a[3:-4]"
   ]
  },
  {
   "cell_type": "code",
   "execution_count": null,
   "metadata": {
    "id": "n14bIQqyYYhO",
    "outputId": "2d890544-ae09-4063-f31e-3f111ca0b2bd"
   },
   "outputs": [
    {
     "data": {
      "text/plain": [
       "array([0, 2, 4, 6, 8])"
      ]
     },
     "execution_count": 58,
     "metadata": {
      "tags": []
     },
     "output_type": "execute_result"
    }
   ],
   "source": [
    "a[0:9:2]"
   ]
  },
  {
   "cell_type": "markdown",
   "metadata": {
    "id": "iRFwETdqYYhO"
   },
   "source": [
    "Análisis del ejm: aquí se está aplicando el comando básico de Python para el rebanamiento start:stop:step donde el paso es de 2."
   ]
  },
  {
   "cell_type": "code",
   "execution_count": null,
   "metadata": {
    "id": "x7WXTXt0YYhO",
    "outputId": "de2e2b13-2403-456a-a605-9c18622a68c8"
   },
   "outputs": [
    {
     "data": {
      "text/plain": [
       "array([3, 5, 9])"
      ]
     },
     "execution_count": 59,
     "metadata": {
      "tags": []
     },
     "output_type": "execute_result"
    }
   ],
   "source": [
    "a[[3, 5, 9]]"
   ]
  },
  {
   "cell_type": "markdown",
   "metadata": {
    "id": "Y7CJWfvNYYhO"
   },
   "source": [
    "#### EJERCICIOS\n",
    "1. Cree un array que contenga los siguientes elementos: [1, 3., True, 'Hola Mundo']. ¿De qué tipo es este array?. Muéstrelo por pantalla.\n",
    "2. Cree un array con 10 elementos en el intervalo [-2,2] y equidistantes entre ellos. Muestre por pantalla el array. Después muestre sólo el tercer y cuarto elemento.\n",
    "3. Genere un array de tipo 'float' de dimensiones (4, 4). Debe contener números consecutivos del 1 al 16.\n",
    "4. Dado el array \n",
    "        2 4 5 6\n",
    "        0 3 7 4\n",
    "        8 8 5 2\n",
    "        1 5 6 1\n",
    "     Seleccione con una instrucción el subarray de elementos \n",
    "        0 3 7 4\n",
    "    Después, seleccione el subarray de elementos \n",
    "    \n",
    "        2 5 8 8\n",
    " \n",
    "5. Cree un array de enteros de dimensiones (3,3) y valores iguales a 0. Asigne el valor de 1 a las cuatro esquinas.\n",
    "6. Se tienen registrados los valores de cordenadas (x, y) en las columnas del arreglo\n",
    "\n",
    "    1.33 4.5\n",
    "    \n",
    "    30.0 10.7 \n",
    "    \n",
    "    70.2 0.5\n",
    "\n",
    "Agregue a este arreglo las coordenadas (37.1, -3.6), enseguida transpóngalo. Muestre por pantalla las dimensiones del nuevo array.\n",
    "7. ¿Se pueden sumar los arreglos a = [[1, 2, 3]] y b = [[0], [1], [0]]?. ¿Por qué?. De ser posible, ¿cuál es su suma?."
   ]
  },
  {
   "cell_type": "markdown",
   "metadata": {
    "id": "sMCt23wBYaUW"
   },
   "source": [
    "### Instrucciones para el envío de la solución"
   ]
  },
  {
   "cell_type": "markdown",
   "metadata": {
    "id": "kdavpRh4YaUX"
   },
   "source": [
    "La solución de la Práctica Guiada de Laboratorio 2 IA G1 2022-1 \"PGL2 IA-G1 2022-1\" podrá enviarse como respuesta a la tarea del mismo nombre publicada en la clase de Classroom, hasta las 11:59 h del Viernes 20 de Mayo del 2022, en un archivo con extensión .ipynb. \n",
    "\n",
    "El documento deberá tener las sgtes características:\n",
    "- Nombre del archivo: PGL2_IA_G1_EAPIS_2022-1_nombre-apellidos.ipynb.\n",
    "- Todas las preguntas de la Práctica deben responderse en este mismo cuaderno computacional; la solución a cada pregunta debe registrarse en una celda debajo del plnteamiento de la misma, mencionando explícitamente como subtítulo: \"Solución del ejercicio n\", donde \"n\" corresponde al número del ejercicio."
   ]
  }
 ],
 "metadata": {
  "colab": {
   "name": "JAFET RAUL PUYEN HUAPAYA - PGL2_IA_2022-1_G1_EAPIS.ipynb",
   "provenance": []
  },
  "kernelspec": {
   "display_name": "Python 3 (ipykernel)",
   "language": "python",
   "name": "python3"
  },
  "language_info": {
   "codemirror_mode": {
    "name": "ipython",
    "version": 3
   },
   "file_extension": ".py",
   "mimetype": "text/x-python",
   "name": "python",
   "nbconvert_exporter": "python",
   "pygments_lexer": "ipython3",
   "version": "3.10.5"
  }
 },
 "nbformat": 4,
 "nbformat_minor": 4
}
